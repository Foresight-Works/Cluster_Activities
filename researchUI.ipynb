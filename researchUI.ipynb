{
 "cells": [
  {
   "cell_type": "code",
   "execution_count": 24,
   "metadata": {},
   "outputs": [],
   "source": [
    "from IPython.display import display, HTML, clear_output\n",
    "import ipywidgets as widgets\n",
    "from ipywidgets import interact, interactive, fixed, Layout, HBox, VBox\n",
    "import pandas as pd\n",
    "import time\n",
    "import re\n",
    "import os\n",
    "import sys\n",
    "import requests\n",
    "import subprocess\n",
    "import numpy as np\n",
    "from json import JSONDecodeError\n",
    "import sqlite3\n",
    "from sqlite3 import OperationalError\n",
    "data_dir = './data/experiments'\n",
    "data_files = [' '] + os.listdir(data_dir)\n",
    "if 'response.npy' in os.listdir():\n",
    "    os.remove('response.npy')\n",
    "\n",
    "# Widget styles\n",
    "default = (data_files[0], ' ')\n",
    "style = {'description_width': 'initial'}\n",
    "features_layout = {'width': 'max-content','height':'200px'}\n",
    "\n",
    "# File selection menu\n",
    "file_dd=widgets.SelectMultiple(options=data_files,value=default,\n",
    "    description='File:',style=style,layout=features_layout)\n",
    "# Analyse button \n",
    "button = widgets.Button(description = \"Analyse\",style=style)\n",
    "button.style.button_color = 'lightgreen'\n",
    "# Metric menues\n",
    "metrics_layout = {'display':'flex','width': '130px','height':'30px', 'justify_content':'flex-end'}\n",
    "options = list(np.arange(1,11))\n",
    "options = [str(o) for o in options]\n",
    "metrics_optimize = {'min_max_tpc': ('min', 1), 'wcss': ('min', 1), 'bcss': ('max', 1), 'ch_index': ('max', 1),\\\n",
    "'db_index':('min', 1), 'silhouette':('max', 1), 'words_pairs': ('max', 1)}\n",
    "metrics = list(metrics_optimize.keys())\n",
    "metrics_menues = {}\n",
    "for metric in metrics:\n",
    "    menue=widgets.Dropdown(options=options,value='1',description=metric, layout=metrics_layout)\n",
    "    metrics_menues[metric]=menue\n",
    "# Granularity slider\n",
    "granularity = widgets.IntSlider(value=100, min=2, max=1000, step=1, description='Number of Clusters',\\\n",
    "                                     orientation='horizontal',readout=True, readout_format='d',\\\n",
    "                                     style = {'description_width': 'initial'}, layout=Layout(width='400px'))\n",
    "apply_granularity = widgets.ToggleButton(value=False, description='Select granularity level?',\n",
    "    disabled=False, button_style='info', tooltip='Description',\n",
    "    icon='check', layout=Layout(width='200px'))\n",
    "# Minimal cluster size\n",
    "min_cluster_menue=widgets.Dropdown(options=['0']+ options,value='4',\\\n",
    "                       description='Minimum number of tasks in cluster',\\\n",
    "                                   style = {'description_width': 'initial'},\\\n",
    "                                   layout=Layout(width='300px'))\n",
    "# Service    \n",
    "url = 'http://127.0.0.01:6002/cluster_analysis/api/v0.1/clustering'\n",
    "out = widgets.Output() \n",
    "metrics_optimize = {'min_max_tpc': ('min', 1), 'wcss': ('min', 1), 'bcss': ('max', 1), 'ch_index': ('max', 1),\\\n",
    "'db_index':('min', 1), 'silhouette':('max', 1), 'words_pairs': ('max', 1)}\n",
    "conn = sqlite3.connect('./results/CAdb')\n",
    "c = conn.cursor()\n",
    "\n",
    "def print_results(b):\n",
    "    #clear_output()\n",
    "    cluster_key = clusters_keys_dd.value[0]\n",
    "    if cluster_key == ' ':\n",
    "        print('No key selected')\n",
    "    else:\n",
    "        response = np.load('response.npy', allow_pickle=True)[()]\n",
    "        response = list(response.values())[0]\n",
    "        clusters_keys = list(response.keys())\n",
    "        sep_length = len(cluster_key)+5 \n",
    "        # Print results\n",
    "        print(sep_length*'=')\n",
    "        print('key:',cluster_key)\n",
    "        print(sep_length*'-')\n",
    "        names = list(response[cluster_key])\n",
    "        for name in names: print(name)\n",
    "\n",
    "\n",
    "def run_service(b):\n",
    "    file = file_dd.value[0]\n",
    "    if file == ' ':\n",
    "        print('No file selected')\n",
    "    else:\n",
    "        config = {}\n",
    "        \n",
    "        # Experiment id\n",
    "        experiment_ids = pd.read_sql_query(\"SELECT experiment_id from experiments\", conn).astype(int)\n",
    "        if len(experiment_ids) == 0: experiment_id = 1\n",
    "        else: experiment_id = int(max(experiment_ids.values)[0]) + 1\n",
    "        \n",
    "        print('experiment_id:', experiment_id)\n",
    "        config['experiment_id'] = experiment_id\n",
    "        \n",
    "        min_cluster_size = min_cluster_menue.value[0]\n",
    "        print('min_cluster_size:', min_cluster_size)\n",
    "        config['min_cluster_size'] = min_cluster_size\n",
    "        \n",
    "        # Metric weights\n",
    "        for metric, menue in metrics_menues.items():\n",
    "            config[metric] = menue.value[0]\n",
    "        if apply_granularity.value:\n",
    "            config['num_clusters'] = granularity.value\n",
    "        data_path = os.path.join(data_dir, file)\n",
    "        files = {'file': open(data_path, 'rb')}\n",
    "        response = requests.post(url, files=files, data=config)\n",
    "        try:\n",
    "            response = response.json()\n",
    "            #print('response')\n",
    "            #print(response)\n",
    "            np.save('response.npy', response)\n",
    "            print('Best performing run id=', list(response.keys())[0])\n",
    "            experiment_ids = pd.read_sql_query(\"SELECT experiment_id FROM experiments\", conn).astype(int)\n",
    "            current_id = int(max(experiment_ids.values)[0])\n",
    "            run_cols = ['project_name', 'customer', 'run_start', 'run_end', 'duration', 'tasks_count']\n",
    "            experiment_df = pd.read_sql_query(\"SELECT * FROM experiments \\\n",
    "            WHERE experiment_id={cid}\".format(cid=current_id), conn).drop(run_cols, axis=1)\n",
    "            display(HTML('<h1 style=\"color:magenta\">Run Scores </h1>'))\n",
    "            display(experiment_df)\n",
    "          \n",
    "        except JSONDecodeError:\n",
    "            print(response.text)"
   ]
  },
  {
   "cell_type": "code",
   "execution_count": 25,
   "metadata": {
    "scrolled": false
   },
   "outputs": [
    {
     "data": {
      "text/html": [
       "<h1 style=\"color:magenta\">Cluster Activities</h1>              <p style=\"color:blue\">Use to following menus to submit a file for analysis:</p>                 <ul>                  <li style=\"color:magenta\">File to analyze</li>                  <li style=\"color:magenta\">Select granularity level</li>                  <li style=\"color:magenta\">Set weights for validation metrics</li>                </ul>"
      ],
      "text/plain": [
       "<IPython.core.display.HTML object>"
      ]
     },
     "metadata": {},
     "output_type": "display_data"
    },
    {
     "data": {
      "application/vnd.jupyter.widget-view+json": {
       "model_id": "d3819f10d50f4582aab1669f22d99280",
       "version_major": 2,
       "version_minor": 0
      },
      "text/plain": [
       "HBox(children=(VBox(children=(SelectMultiple(description='File:', index=(0, 0), layout=Layout(height='200px', …"
      ]
     },
     "metadata": {},
     "output_type": "display_data"
    },
    {
     "name": "stdout",
     "output_type": "stream",
     "text": [
      "experiment_id: 26\n",
      "min_cluster_size: 4\n"
     ]
    }
   ],
   "source": [
    "# Dashboard\n",
    "button.on_click(run_service)\n",
    "display(HTML('<h1 style=\"color:magenta\">Cluster Activities</h1>\\\n",
    "              <p style=\"color:blue\">Use to following menus to submit a file for analysis:</p>\\\n",
    "                 <ul>\\\n",
    "                  <li style=\"color:magenta\">File to analyze</li>\\\n",
    "                  <li style=\"color:magenta\">Select granularity level</li>\\\n",
    "                  <li style=\"color:magenta\">Set weights for validation metrics</li>\\\n",
    "                </ul>'))\n",
    "file_box = VBox(children=[file_dd, button])\n",
    "metrics_box = VBox(children=list(metrics_menues.values()))\n",
    "config_box = VBox(children=[apply_granularity, granularity, min_cluster_menue])\n",
    "HBox(children=[file_box, config_box, metrics_box])"
   ]
  },
  {
   "cell_type": "code",
   "execution_count": 26,
   "metadata": {},
   "outputs": [
    {
     "data": {
      "text/html": [
       "<h1 style=\"color:magenta\">Cluster names for best performing run </h1>"
      ],
      "text/plain": [
       "<IPython.core.display.HTML object>"
      ]
     },
     "metadata": {},
     "output_type": "display_data"
    },
    {
     "data": {
      "application/vnd.jupyter.widget-view+json": {
       "model_id": "b03c392f92b84d12807ececadc7abe78",
       "version_major": 2,
       "version_minor": 0
      },
      "text/plain": [
       "HBox(children=(SelectMultiple(description='Clusters Keys:', index=(0, 0), layout=Layout(height='200px', width=…"
      ]
     },
     "metadata": {},
     "output_type": "display_data"
    }
   ],
   "source": [
    "display(HTML('<h1 style=\"color:magenta\">Cluster names for best performing run </h1>'))\n",
    "clusters_keys = [' ']\n",
    "if 'response.npy' in os.listdir():\n",
    "    response = np.load('response.npy', allow_pickle=True)[()]\n",
    "    response = list(response.values())[0]\n",
    "    clusters_keys += list(response.keys())\n",
    "default = (clusters_keys[0], ' ')\n",
    "clusters_keys_dd=widgets.SelectMultiple(options=clusters_keys, value=default,\n",
    "    description='Clusters Keys:',style=style,layout=features_layout)\n",
    "\n",
    "# Run buttons\n",
    "button = widgets.Button(description = \"Activity Names\",style=style)\n",
    "button.style.button_color = 'lightgreen'\n",
    "\n",
    "output = widgets.Output()\n",
    "button.on_click(print_results)\n",
    "HBox(children=[clusters_keys_dd, button])"
   ]
  },
  {
   "cell_type": "code",
   "execution_count": 27,
   "metadata": {},
   "outputs": [
    {
     "data": {
      "text/html": [
       "<script>\n",
       "code_show=true; \n",
       "function code_toggle() {\n",
       " if (code_show){\n",
       " $('div.input').hide();\n",
       " } else {\n",
       " $('div.input').show();\n",
       " }\n",
       " code_show = !code_show\n",
       "} \n",
       "$( document ).ready(code_toggle);\n",
       "</script>\n",
       "The raw code for this IPython notebook is by default hidden for easier reading.\n",
       "To toggle on/off the raw code, click <a href=\"javascript:code_toggle()\">here</a>."
      ],
      "text/plain": [
       "<IPython.core.display.HTML object>"
      ]
     },
     "execution_count": 27,
     "metadata": {},
     "output_type": "execute_result"
    }
   ],
   "source": [
    "HTML('''<script>\n",
    "code_show=true; \n",
    "function code_toggle() {\n",
    " if (code_show){\n",
    " $('div.input').hide();\n",
    " } else {\n",
    " $('div.input').show();\n",
    " }\n",
    " code_show = !code_show\n",
    "} \n",
    "$( document ).ready(code_toggle);\n",
    "</script>\n",
    "The raw code for this IPython notebook is by default hidden for easier reading.\n",
    "To toggle on/off the raw code, click <a href=\"javascript:code_toggle()\">here</a>.''')"
   ]
  },
  {
   "cell_type": "code",
   "execution_count": null,
   "metadata": {},
   "outputs": [],
   "source": []
  }
 ],
 "metadata": {
  "kernelspec": {
   "display_name": "Python 3 (ipykernel)",
   "language": "python",
   "name": "python3"
  },
  "language_info": {
   "codemirror_mode": {
    "name": "ipython",
    "version": 3
   },
   "file_extension": ".py",
   "mimetype": "text/x-python",
   "name": "python",
   "nbconvert_exporter": "python",
   "pygments_lexer": "ipython3",
   "version": "3.9.7"
  }
 },
 "nbformat": 4,
 "nbformat_minor": 2
}
