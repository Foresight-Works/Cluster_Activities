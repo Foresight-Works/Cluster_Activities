{
 "cells": [
  {
   "cell_type": "code",
   "execution_count": 34,
   "metadata": {},
   "outputs": [],
   "source": [
    "from IPython.display import display, HTML, clear_output\n",
    "import ipywidgets as widgets\n",
    "from ipywidgets import interact, interactive, fixed, Layout, HBox, VBox\n",
    "import pandas as pd\n",
    "import time\n",
    "import re\n",
    "import os\n",
    "import sys\n",
    "import requests\n",
    "import subprocess\n",
    "import numpy as np\n",
    "from json import JSONDecodeError\n",
    "data_dir = './data/experiments'\n",
    "data_files = [' '] + os.listdir(data_dir)\n",
    "\n",
    "# Widget styles\n",
    "default = (data_files[0], ' ')\n",
    "style = {'description_width': 'initial'}\n",
    "features_layout = {'width': 'max-content','height':'200px'}\n",
    "\n",
    "# File selection menu\n",
    "file_dd=widgets.SelectMultiple(options=data_files,value=default,\n",
    "    description='File:',style=style,layout=features_layout)\n",
    "# Analyse button \n",
    "button = widgets.Button(description = \"Analyse\",style=style)\n",
    "button.style.button_color = 'lightgreen'\n",
    "# Metric menues\n",
    "metrics_layout = {'display':'flex','width': '130px','height':'30px', 'justify_content':'flex-end'}\n",
    "options = list(np.arange(1,11))\n",
    "options = [str(o) for o in options]\n",
    "metrics_optimize = {'min_max_tpc': ('min', 1), 'wcss': ('min', 1), 'bcss': ('max', 1), 'ch_index': ('max', 1),\\\n",
    "'db_index':('min', 1), 'silhouette':('max', 1), 'words_pairs': ('max', 1)}\n",
    "metrics = list(metrics_optimize.keys())\n",
    "metrics_menues = {}\n",
    "for metric in metrics:\n",
    "    menue=widgets.Dropdown(options=options,value='1',\n",
    "    description=metric, layout=metrics_layout)\n",
    "    metrics_menues[metric]=menue\n",
    "# Granularity slider\n",
    "granularity = widgets.IntSlider(value=100, min=2, max=1000, step=1, description='Number of Clusters',\\\n",
    "                                     orientation='horizontal',readout=True, readout_format='d',\\\n",
    "                                     style = {'description_width': 'initial'}, layout=Layout(width='400px'))\n",
    "apply_granularity = widgets.ToggleButton(value=False, description='Select granularity level?',\n",
    "    disabled=False, button_style='info', tooltip='Description',\n",
    "    icon='check', layout=Layout(width='200px'))\n",
    "# Service    \n",
    "url = 'http://127.0.0.01:6002/cluster_analysis/api/v0.1/clustering'\n",
    "out = widgets.Output() \n",
    "\n",
    "metrics_optimize = {'min_max_tpc': ('min', 1), 'wcss': ('min', 1), 'bcss': ('max', 1), 'ch_index': ('max', 1),\\\n",
    "'db_index':('min', 1), 'silhouette':('max', 1), 'words_pairs': ('max', 1)}\n",
    "def run_service(b):\n",
    "    file = file_dd.value[0]\n",
    "    if file == ' ':\n",
    "        print('No file selected')\n",
    "    else:\n",
    "        # Collect metric values\n",
    "        config = {}\n",
    "        for metric, menue in metrics_menues.items():\n",
    "            config[metric] = menue.value[0]\n",
    "        if apply_granularity.value:\n",
    "            config['num_clusters'] = granularity.value\n",
    "        data_path = os.path.join(data_dir, file)\n",
    "        files = {'file': open(data_path, 'rb')}\n",
    "        response = requests.post(url, files=files, data=config)\n",
    "        try:\n",
    "            response = response.json()\n",
    "            np.save('response.npy', response)\n",
    "        except JSONDecodeError:\n",
    "            print(response.text)\n",
    "            \n",
    "def print_results(b):\n",
    "    #clear_output()\n",
    "    cluster_key = clusters_keys_dd.value[0]\n",
    "    if cluster_key == ' ':\n",
    "        print('No key selected')\n",
    "    else:\n",
    "        response = np.load('response.npy', allow_pickle=True)[()]\n",
    "        clusters_keys = list(response.keys())\n",
    "        sep_length = len(cluster_key)+5 \n",
    "        # Print results\n",
    "        print(sep_length*'=')\n",
    "        print('key:',cluster_key)\n",
    "        print(sep_length*'-')\n",
    "        names = list(response[cluster_key])\n",
    "        for name in names: print(name)"
   ]
  },
  {
   "cell_type": "code",
   "execution_count": 40,
   "metadata": {
    "scrolled": false
   },
   "outputs": [
    {
     "data": {
      "text/html": [
       "<h1 style=\"color:magenta\">Cluster Activities</h1>              <p style=\"color:blue\">Use to following menus to submit a file for analysis:</p>                 <ul>                  <li style=\"color:magenta\">File to analyze</li>                  <li style=\"color:magenta\">Select granularity level</li>                  <li style=\"color:magenta\">Set weights for validation metrics</li>                </ul>"
      ],
      "text/plain": [
       "<IPython.core.display.HTML object>"
      ]
     },
     "metadata": {},
     "output_type": "display_data"
    },
    {
     "data": {
      "application/vnd.jupyter.widget-view+json": {
       "model_id": "7d3e03ea09ed4d1bbe3f397cd45e9d5b",
       "version_major": 2,
       "version_minor": 0
      },
      "text/plain": [
       "HBox(children=(VBox(children=(SelectMultiple(description='File:', index=(5,), layout=Layout(height='200px', wi…"
      ]
     },
     "metadata": {},
     "output_type": "display_data"
    }
   ],
   "source": [
    "# Dashboard\n",
    "out = widgets.Output(layout={'border': '1px solid black'})\n",
    "output = widgets.Output()\n",
    "button.on_click(run_service)\n",
    "display(HTML('<h1 style=\"color:magenta\">Cluster Activities</h1>\\\n",
    "              <p style=\"color:blue\">Use to following menus to submit a file for analysis:</p>\\\n",
    "                 <ul>\\\n",
    "                  <li style=\"color:magenta\">File to analyze</li>\\\n",
    "                  <li style=\"color:magenta\">Select granularity level</li>\\\n",
    "                  <li style=\"color:magenta\">Set weights for validation metrics</li>\\\n",
    "                </ul>'))\n",
    "file_box = VBox(children=[file_dd, button])\n",
    "metrics_box = VBox(children=list(metrics_menues.values()))\n",
    "granularity_box = VBox(children=[apply_granularity, granularity])\n",
    "out\n",
    "HBox(children=[file_box, granularity_box, metrics_box])"
   ]
  },
  {
   "cell_type": "code",
   "execution_count": 43,
   "metadata": {},
   "outputs": [
    {
     "data": {
      "application/vnd.jupyter.widget-view+json": {
       "model_id": "7d927bad38434dc98294ac77d33dfedb",
       "version_major": 2,
       "version_minor": 0
      },
      "text/plain": [
       "HBox(children=(SelectMultiple(description='Clusters Keys:', index=(0, 0), layout=Layout(height='200px', width=…"
      ]
     },
     "metadata": {},
     "output_type": "display_data"
    }
   ],
   "source": [
    "response = np.load('response.npy', allow_pickle=True)[()]\n",
    "clusters_keys = [' '] + list(response.keys())\n",
    "default = (clusters_keys[0], ' ')\n",
    "clusters_keys_dd=widgets.SelectMultiple(options=clusters_keys, value=default,\n",
    "    description='Clusters Keys:',style=style,layout=features_layout)\n",
    "\n",
    "# Run buttons\n",
    "button = widgets.Button(description = \"Activity Names\",style=style)\n",
    "button.style.button_color = 'lightgreen'\n",
    "\n",
    "output = widgets.Output()\n",
    "button.on_click(print_results)\n",
    "HBox(children=[clusters_keys_dd, button])"
   ]
  },
  {
   "cell_type": "code",
   "execution_count": null,
   "metadata": {},
   "outputs": [],
   "source": [
    "HTML('''<script>\n",
    "code_show=true; \n",
    "function code_toggle() {\n",
    " if (code_show){\n",
    " $('div.input').hide();\n",
    " } else {\n",
    " $('div.input').show();\n",
    " }\n",
    " code_show = !code_show\n",
    "} \n",
    "$( document ).ready(code_toggle);\n",
    "</script>\n",
    "The raw code for this IPython notebook is by default hidden for easier reading.\n",
    "To toggle on/off the raw code, click <a href=\"javascript:code_toggle()\">here</a>.''')"
   ]
  }
 ],
 "metadata": {
  "kernelspec": {
   "display_name": "Python 3 (ipykernel)",
   "language": "python",
   "name": "python3"
  },
  "language_info": {
   "codemirror_mode": {
    "name": "ipython",
    "version": 3
   },
   "file_extension": ".py",
   "mimetype": "text/x-python",
   "name": "python",
   "nbconvert_exporter": "python",
   "pygments_lexer": "ipython3",
   "version": "3.9.7"
  }
 },
 "nbformat": 4,
 "nbformat_minor": 2
}
