{
 "cells": [
  {
   "cell_type": "code",
   "execution_count": 1,
   "metadata": {},
   "outputs": [],
   "source": [
    "import os\n",
    "data_dir = './data/experiments'\n",
    "data_files = [' '] + os.listdir(data_dir)\n",
    "#if 'message.npy' in os.listdir():\n",
    "#    os.remove('message.npy')\n",
    "\n",
    "# Widget styles\n",
    "default = (data_files[0], ' ')\n",
    "style = {'description_width': 'initial'}\n",
    "features_layout = {'width': 'max-content','height':'200px'}\n",
    "\n",
    "from IPython.display import display, HTML, clear_output, display_html\n",
    "from itertools import chain,cycle\n",
    "import ipywidgets as widgets\n",
    "from ipywidgets import interact, interactive, fixed, Layout, HBox, VBox\n",
    "from matplotlib import pyplot as plt\n",
    "import seaborn as sns\n",
    "import pandas as pd\n",
    "pd.set_option(\"display.max_rows\", None, \"display.max_columns\", None, 'display.max_colwidth', 100)\n",
    "import numpy as np\n",
    "import time\n",
    "import re\n",
    "import sys\n",
    "import requests\n",
    "import subprocess\n",
    "import numpy as np\n",
    "from zipfile import ZipFile\n",
    "import json\n",
    "import ast\n",
    "import mysql.connector as mysql\n",
    "\n",
    "# File selection menu\n",
    "file_dd=widgets.SelectMultiple(options=data_files,value=default,\n",
    "    description='File:',style=style,layout=features_layout)\n",
    "# Service \n",
    "service_button = widgets.RadioButtons(\n",
    "    options=['Local', 'Remote'], value='Local',layout={'width': 'max-content'}, description='Service:',\n",
    "    disabled=False)\n",
    "# Analyse button \n",
    "run_button = widgets.Button(description = \"Cluster\",style=style)\n",
    "run_button.style.button_color = 'lightgreen'\n",
    "# Metric menues\n",
    "metrics_layout = {'display':'flex','width': '130px','height':'30px', 'justify_content':'flex-end'}\n",
    "options = list(np.arange(1,11))\n",
    "options = [str(o) for o in options]\n",
    "metrics_optimize = {'min_max_tpc': ('min', 1), 'wcss': ('min', 1), 'bcss': ('max', 1), 'ch_index': ('max', 1),\\\n",
    "'db_index':('min', 1), 'silhouette':('max', 1), 'words_pairs': ('max', 1)}\n",
    "metrics = list(metrics_optimize.keys())\n",
    "metrics_menues = {}\n",
    "for metric in metrics:\n",
    "    menue=widgets.Dropdown(options=options,value='1',description=metric, layout=metrics_layout)\n",
    "    metrics_menues[metric]=menue\n",
    "# Granularity slider\n",
    "granularity = widgets.IntSlider(value=100, min=2, max=1000, step=1, description='Number of Clusters',\\\n",
    "                                     orientation='horizontal',readout=True, readout_format='d',\\\n",
    "                                     style = {'description_width': 'initial'}, layout=Layout(width='400px'))\n",
    "apply_granularity = widgets.ToggleButton(value=False, description='Select granularity level?',\n",
    "    disabled=False, button_style='info', tooltip='Description',\n",
    "    icon='check', layout=Layout(width='200px'))\n",
    "# Minimal cluster size\n",
    "min_cluster_menue=widgets.Dropdown(options=['0']+ options,value='0',\\\n",
    "                       description='Minimum number of tasks in cluster',\\\n",
    "                                   style = {'description_width': 'initial'},\\\n",
    "                                   layout=Layout(width='300px'))\n",
    "\n",
    "# Service    \n",
    "service_location = 'Local' # Remote\n",
    "metrics_optimize = {'min_max_tpc': ('min', 1), 'wcss': ('min', 1), 'bcss': ('max', 1), 'ch_index': ('max', 1),\\\n",
    "'db_index':('min', 1), 'silhouette':('max', 1), 'words_pairs': ('max', 1)}\n",
    "db_name = 'CAdb'\n",
    "location_db_params = {'Local': {'host': 'localhost', 'user':'rony', 'password':'exp8546$fs', 'database': db_name},\\\n",
    "                      'Remote': {'host': '172.31.36.11', 'user':'researchUIuser', 'password':'query1234$fs', 'database': db_name}}\n",
    "conn_params = location_db_params[service_location]\n",
    "conn = mysql.connect(**conn_params)\n",
    "c=conn.cursor()\n",
    "c.execute(\"SET SESSION TRANSACTION ISOLATION LEVEL READ COMMITTED\")\n",
    "location_url = {'Local': 'http://127.0.0.01:6002/cluster_analysis/api/v0.1/clustering',\\\n",
    "                'Remote': 'http://172.31.36.11/cluster_analysis/api/v0.1/clustering'}\n",
    "url = location_url[service_location]\n",
    "\n",
    "\n",
    "def run_service(b):\n",
    "    file_checkpoints = True\n",
    "    ## Submitted data files\n",
    "    files = file_dd.value\n",
    "    print('files:', files)\n",
    "    file_types = list(set([t.split('.')[1] for t in files]))\n",
    "    print('file types:', file_types)\n",
    "    #Checkpoint: Files submitted\n",
    "    if files[0][0] == ' ':\n",
    "        print('No file selected')\n",
    "        file_checkpoints = False\n",
    "    #Checkpoint: Zip files\n",
    "    elif 'zip' in file_types:\n",
    "        #Checkpoint: One among few files zipped \n",
    "        if len(file_types)>1: \n",
    "            print('The submitted files include a zip file')\n",
    "            file_checkpoints = False\n",
    "        else: \n",
    "            data_path = os.path.join(data_dir, files[0])\n",
    "            files = {'file': open(data_path, 'rb')} \n",
    "    #Zip data files \n",
    "    else:\n",
    "        file_paths = []\n",
    "        for file in files:\n",
    "            file_paths.append(os.path.join(data_dir, file))\n",
    "        print('file_paths:', file_paths)\n",
    "        with ZipFile('zipped_files.zip','w') as zip:\n",
    "            # writing each file one by one\n",
    "            for file_path in file_paths:\n",
    "                zip.write(file_path)\n",
    "        files = {'file': open('zipped_files.zip', 'rb')}\n",
    "        os.remove('zipped_files.zip')\n",
    "    \n",
    "    if file_checkpoints:\n",
    "        ## Experiment configuration\n",
    "        config = {}\n",
    "        \n",
    "        # Experiment id\n",
    "        experiment_ids = pd.read_sql_query(\"SELECT experiment_id from results\", conn).astype(int)\n",
    "        if len(experiment_ids) == 0: experiment_id = 1\n",
    "        else: experiment_id = int(max(experiment_ids.values)[0]) + 1\n",
    "\n",
    "        config['experiment_id'] = experiment_id\n",
    "        print('experiment_id:', experiment_id)\n",
    "        \n",
    "        min_cluster_size = min_cluster_menue.value[0]\n",
    "        print('min_cluster_size:', min_cluster_size)\n",
    "        config['min_cluster_size'] = min_cluster_size\n",
    "\n",
    "        # Metrics weights\n",
    "        for metric, menue in metrics_menues.items():\n",
    "            config[metric] = menue.value[0]\n",
    "        if apply_granularity.value:\n",
    "            config['num_clusters'] = granularity.value\n",
    "        \n",
    "        # Post experiment data and configuration\n",
    "        response = requests.post(url, files=files, data=config)\n",
    "        print(response.text)\n",
    "        if response.text == 'Activity names clustered':\n",
    "            \n",
    "            # Show runs results\n",
    "            display(HTML('<h1 style=\"color:magenta\">Run Scores </h1>'))\n",
    "            print('Run for experiment {eid}'.format(eid=experiment_id))\n",
    "            run_cols = ['run_start', 'run_end', 'duration', 'tasks_count']\n",
    "            runs_df = pd.read_sql_query(\"SELECT * FROM runs \\\n",
    "            WHERE experiment_id={eid}\".format(eid=experiment_id), conn)\n",
    "            #.drop(run_cols, axis=1)\n",
    "            display(runs_df)\n",
    "            \n",
    "            # Present the best run result\n",
    "            print('Experiment results')\n",
    "            result_df = pd.read_sql_query(\"SELECT * FROM results \\\n",
    "            WHERE experiment_id={eid}\".format(eid=experiment_id), conn).drop(run_cols, axis=1)\n",
    "            display(result_df)\n",
    "            best_run_id = result_df['run_id'].values[0]\n",
    "            print('Run id for the best run=', best_run_id)\n",
    "            print('The clusters for the best run are ready for drill down analysis')\n",
    "            result = result_df['result'].values[0]\n",
    "            print('Result')\n",
    "            print(type(result))\n",
    "            print(result)\n",
    "\n",
    "def get_activities(b):\n",
    "    #clear_output()\n",
    "    cluster_key = clusters_keys_dd.value\n",
    "    result = pd.read_sql_query(\"SELECT Result FROM results\", conn).values[0][0]\n",
    "    result_dict = ast.literal_eval(result)\n",
    "    clusters = list(ast.literal_eval(result).values())[0]\n",
    "    ids_names = clusters[cluster_key]\n",
    "    ids_names = [' '.join(id_name) for id_name in ids_names]\n",
    "    ids_names = '\\n'.join(ids_names)\n",
    "    with open('ids_names.txt', 'w') as f: f.write(ids_names)\n",
    "        \n",
    "def cluster_stats_plots(b):\n",
    "    #clear_output()\n",
    "    cluster_key = clusters_keys_dd.value\n",
    "    names_to_exclude = ids_names_dd.value\n",
    "    exclude_ids = [i.split(' ')[0] for i in names_to_exclude]\n",
    "    result = pd.read_sql_query(\"SELECT Result FROM results\", conn).values[0][0]\n",
    "    result_dict = ast.literal_eval(result)\n",
    "    clusters = list(ast.literal_eval(result).values())[0]\n",
    "    # Activities duration values\n",
    "    ids_names = {i[0]:i[1] for i in clusters[cluster_key] if i[0] not in exclude_ids}\n",
    "    ids, names = list(ids_names.keys()), list(ids_names.values())\n",
    "    \n",
    "    planned_duration_dict = result_dict['planned_duration_vals']\n",
    "    #print('planned_duration_dict:', planned_duration_dict)\n",
    "    planned_duration_dict = {k:v for k,v in planned_duration_dict.items() if k in ids}\n",
    "    #print('planned_duration_dict:', planned_duration_dict)\n",
    "    planned_duration_vals = list(planned_duration_dict.values())\n",
    "    #print('planned_duration_vals:', planned_duration_vals)\n",
    "\n",
    "    actual_duration_dict = result_dict['actual_duration_vals']\n",
    "    actual_duration_dict = {k:v for k,v in actual_duration_dict.items() if k in ids}\n",
    "    #print('actual_duration_dict:', actual_duration_dict)\n",
    "    actual_duration_vals = list(actual_duration_dict.values())\n",
    "    #print('actual_duration_vals:', actual_duration_vals)\n",
    "\n",
    "    planned_in_actual_dict = {k:v for k,v in planned_duration_dict.items() if k in actual_duration_dict.keys()}\n",
    "    #print('planned_in_actual_dict:', planned_in_actual_dict)\n",
    "\n",
    "    # Duration ratios and overruns\n",
    "    duration_ratios, tasks_overrun, tasks_overrun_perc = [], [], []\n",
    "    for id, task_planned_duration in planned_in_actual_dict.items():\n",
    "        task_actual_duration = actual_duration_dict[id]\n",
    "        if task_planned_duration != 0:\n",
    "            duration_ratios.append(round(task_actual_duration/task_planned_duration,2))\n",
    "            task_overrun = task_actual_duration-task_planned_duration\n",
    "            tasks_overrun.append(task_overrun)\n",
    "            tasks_overrun_perc.append(task_overrun/task_planned_duration)\n",
    "\n",
    "    ## Cluster Statistics\n",
    "    display(HTML('<h1 style=\"color:magenta\">Cluster RCF Analysis</h1>'))\n",
    "    print('Cluster Statistics')\n",
    "    print('Activities in Cluster:', len(ids))\n",
    "    print('Completed Activities in Cluster:', len(actual_duration_vals))\n",
    "    # Table\n",
    "    index = ['Planned Duration(Days)', 'Actual Duration(Days)', 'Overrun(Days)', 'Overrun(%)']\n",
    "    headers = ['MEAN', 'MEDIAN', 'STD']\n",
    "    def stats_row(arr): \n",
    "        if len(arr)>0:\n",
    "            return [np.mean(arr), np.median(arr), np.std(arr)]\n",
    "        else:\n",
    "            return(np.nan, np.nan, np.nan)\n",
    "    table_rows = [stats_row(planned_duration_vals), stats_row(actual_duration_vals),\\\n",
    "                 stats_row(tasks_overrun), stats_row(tasks_overrun_perc)]\n",
    "    stats_df = pd.DataFrame(table_rows, columns=headers, index=index)\n",
    "    stats_df = round(stats_df, 2)\n",
    "    #display(stats_df)                \n",
    "\n",
    "    # Plot Values: RCF for Tasks in Cluster\n",
    "    # x = percentile,  y = duration_ratios\n",
    "    duration_ratios.sort()\n",
    "    sum_ratios = sum(duration_ratios)\n",
    "    ratios_cumsum = np.cumsum(duration_ratios)\n",
    "    percentile = 100*(ratios_cumsum/sum_ratios)\n",
    "    rcf_df = pd.DataFrame(list(zip(percentile, duration_ratios)),\\\n",
    "                          columns = ['Percentile', 'Duration Ratio'])\n",
    "\n",
    "    # Plot Values: Duration Distribution\n",
    "    duration_type = len(planned_duration_vals) * ['Planned'] + len(actual_duration_vals) *['Actual']\n",
    "    duration_vals = list(planned_duration_vals)+list(actual_duration_vals)\n",
    "    duration_df = pd.DataFrame(list(zip(duration_type, duration_vals)), columns=['Duration', 'Days'])\n",
    "\n",
    "    # Cluster description\n",
    "    names_df = pd.DataFrame(ids, columns=['ID'])\n",
    "    names_df['Name'] = names\n",
    "    names_df['Planned Duration'] = planned_duration_vals\n",
    "    names_df['Actual Duration'] = actual_duration_vals\n",
    "\n",
    "    ## Display\n",
    "    # Tables\n",
    "    display_side_by_side(names_df,stats_df, titles=['Tasks in Cluster','Cluster Statistics'])\n",
    "\n",
    "    # Plots\n",
    "    sns.set_style(\"whitegrid\")\n",
    "    fig, axes = plt.subplots(1, 2, figsize=(15, 5))#, sharey=True)\n",
    "    duration_dist = sns.boxplot(ax=axes[0], x=\"Duration\", y=\"Days\", data=duration_df)\n",
    "    rcf = sns.lineplot(ax=axes[1], x=\"Percentile\", y=\"Duration Ratio\", data=rcf_df)\n",
    "    axes[0].set_title('Duration Distibution (Tasks in Cluster)')\n",
    "    axes[1].set_title('RCF For Tasks in Cluster')"
   ]
  },
  {
   "cell_type": "code",
   "execution_count": 2,
   "metadata": {},
   "outputs": [],
   "source": [
    "def left_align(df):\n",
    "    left_aligned_df = df.style.set_properties(**{'text-align': 'left'})\n",
    "    left_aligned_df = left_aligned_df.set_table_styles(\n",
    "        [dict(selector='th', props=[('text-align', 'left')])]\n",
    "    )\n",
    "    return left_aligned_df\n",
    "\n",
    "def display_side_by_side(*args,titles=cycle([''])):\n",
    "    html_str=''\n",
    "    for df,title in zip(args, chain(titles,cycle(['</br>'])) ):\n",
    "        html_str+='<th style=\"text-align:right\"><td style=\"vertical-align:top\">'\n",
    "        html_str+=f'<h2>{title}</h2>'\n",
    "        df=left_align(df)\n",
    "        html_str+=df.to_html().replace('table','table style=\"display:inline\"')\n",
    "        html_str+='</td></th>'\n",
    "    display_html(html_str,raw=True)"
   ]
  },
  {
   "cell_type": "code",
   "execution_count": 3,
   "metadata": {
    "scrolled": false
   },
   "outputs": [
    {
     "data": {
      "text/html": [
       "<h1 style=\"color:magenta\">Cluster Activities</h1>              <p style=\"color:blue\">Use to following menus to submit a file for analysis:</p>                 <ul>                  <li style=\"color:magenta\">File to analyze</li>                  <li style=\"color:magenta\">Select granularity level</li>                  <li style=\"color:magenta\">Set weights for validation metrics</li>                </ul>"
      ],
      "text/plain": [
       "<IPython.core.display.HTML object>"
      ]
     },
     "metadata": {},
     "output_type": "display_data"
    },
    {
     "data": {
      "application/vnd.jupyter.widget-view+json": {
       "model_id": "d0400e8280ba4211bea4ea305496e80f",
       "version_major": 2,
       "version_minor": 0
      },
      "text/plain": [
       "HBox(children=(VBox(children=(RadioButtons(description='Service:', layout=Layout(width='max-content'), options…"
      ]
     },
     "metadata": {},
     "output_type": "display_data"
    }
   ],
   "source": [
    "# Dashboard\n",
    "run_button.on_click(run_service)\n",
    "display(HTML('<h1 style=\"color:magenta\">Cluster Activities</h1>\\\n",
    "              <p style=\"color:blue\">Use to following menus to submit a file for analysis:</p>\\\n",
    "                 <ul>\\\n",
    "                  <li style=\"color:magenta\">File to analyze</li>\\\n",
    "                  <li style=\"color:magenta\">Select granularity level</li>\\\n",
    "                  <li style=\"color:magenta\">Set weights for validation metrics</li>\\\n",
    "                </ul>'))\n",
    "file_box = VBox(children=[service_button, file_dd, run_button])\n",
    "metrics_box = VBox(children=list(metrics_menues.values()))\n",
    "config_box = VBox(children=[apply_granularity, granularity, min_cluster_menue])\n",
    "HBox(children=[file_box, config_box, metrics_box])"
   ]
  },
  {
   "cell_type": "markdown",
   "metadata": {},
   "source": [
    "# Experiment and Run Selection"
   ]
  },
  {
   "cell_type": "code",
   "execution_count": 4,
   "metadata": {},
   "outputs": [],
   "source": [
    "def get_clusters(b):\n",
    "    experiment_id = experiments_dd.value\n",
    "    result_df = pd.read_sql_query(\"SELECT * FROM results \\\n",
    "    WHERE experiment_id={eid}\".format(eid=experiment_id), conn)\n",
    "    best_run_id = result_df['run_id'].values[0]\n",
    "    result = pd.read_sql_query(\"SELECT Result FROM results\", conn).values[0][0]\n",
    "    clusters = list(ast.literal_eval(result).values())[0]\n",
    "    clusters_keys = list(clusters.keys())\n",
    "    clusters_keys = '\\n'.join(clusters_keys)\n",
    "    with open('clusters_keys.txt', 'w') as f: f.write(clusters_keys)"
   ]
  },
  {
   "cell_type": "code",
   "execution_count": 5,
   "metadata": {
    "scrolled": true
   },
   "outputs": [
    {
     "data": {
      "text/html": [
       "<h1 style=\"color:magenta\">Select Experiment and Run </h1>"
      ],
      "text/plain": [
       "<IPython.core.display.HTML object>"
      ]
     },
     "metadata": {},
     "output_type": "display_data"
    },
    {
     "data": {
      "application/vnd.jupyter.widget-view+json": {
       "model_id": "88db764a465e42a9a354f530760fa4d4",
       "version_major": 2,
       "version_minor": 0
      },
      "text/plain": [
       "HBox(children=(Dropdown(description='Select Experiment:', layout=Layout(width='max-content'), options=(2, 3, 4…"
      ]
     },
     "metadata": {},
     "output_type": "display_data"
    }
   ],
   "source": [
    "display(HTML('<h1 style=\"color:magenta\">Select Experiment and Run </h1>'))\n",
    "experiment_ids = pd.read_sql_query(\"SELECT experiment_id FROM results\", conn).astype(int)\n",
    "experiment_ids = list(experiment_ids['experiment_id'].unique())\n",
    "experiments_dd=widgets.Dropdown(options=experiment_ids, value=experiment_ids[0],\n",
    "    description='Select Experiment:',style=style, layout={'width': 'max-content'})\n",
    "clusters_button = widgets.Button(description = \"Clusters \",style=style, layout={'width': 'max-content'})\n",
    "clusters_button.style.button_color = 'lightblue'\n",
    "clusters_button.on_click(get_clusters)\n",
    "HBox(children=[experiments_dd, clusters_button])"
   ]
  },
  {
   "cell_type": "code",
   "execution_count": 10,
   "metadata": {},
   "outputs": [
    {
     "data": {
      "application/vnd.jupyter.widget-view+json": {
       "model_id": "e9489c5f1a3544c7abcf05ebf9513390",
       "version_major": 2,
       "version_minor": 0
      },
      "text/plain": [
       "HBox(children=(Dropdown(description='Select Cluster:', layout=Layout(width='max-content'), options=('nde', 'te…"
      ]
     },
     "metadata": {},
     "output_type": "display_data"
    }
   ],
   "source": [
    "clusters_keys = open('clusters_keys.txt').read().split('\\n')\n",
    "clusters_keys_dd=widgets.Dropdown(options=clusters_keys, value=clusters_keys[0],\n",
    "    description='Select Cluster:',style=style, layout={'width': 'max-content'})\n",
    "button = widgets.Button(description = \"Get Tasks\",style=style)\n",
    "button.style.button_color = 'orange'\n",
    "button.on_click(get_activities)\n",
    "HBox(children=[clusters_keys_dd, button])"
   ]
  },
  {
   "cell_type": "code",
   "execution_count": 13,
   "metadata": {
    "scrolled": false
   },
   "outputs": [
    {
     "data": {
      "application/vnd.jupyter.widget-view+json": {
       "model_id": "30cc645a509c466f874ddcca3b81f24d",
       "version_major": 2,
       "version_minor": 0
      },
      "text/plain": [
       "HBox(children=(SelectMultiple(description='Names to exclude:', index=(0, 0), layout=Layout(display='flex', fle…"
      ]
     },
     "metadata": {},
     "output_type": "display_data"
    },
    {
     "data": {
      "text/html": [
       "<h1 style=\"color:magenta\">Cluster RCF Analysis</h1>"
      ],
      "text/plain": [
       "<IPython.core.display.HTML object>"
      ]
     },
     "metadata": {},
     "output_type": "display_data"
    },
    {
     "name": "stdout",
     "output_type": "stream",
     "text": [
      "Cluster Statistics\n",
      "Activities in Cluster: 4\n",
      "Completed Activities in Cluster: 4\n"
     ]
    },
    {
     "data": {
      "text/html": [
       "<th style=\"text-align:right\"><td style=\"vertical-align:top\"><h2>Tasks in Cluster</h2><style type=\"text/css\">\n",
       "#T_462c0_ th {\n",
       "  text-align: left;\n",
       "}\n",
       "#T_462c0_row0_col0, #T_462c0_row0_col1, #T_462c0_row0_col2, #T_462c0_row0_col3, #T_462c0_row1_col0, #T_462c0_row1_col1, #T_462c0_row1_col2, #T_462c0_row1_col3, #T_462c0_row2_col0, #T_462c0_row2_col1, #T_462c0_row2_col2, #T_462c0_row2_col3, #T_462c0_row3_col0, #T_462c0_row3_col1, #T_462c0_row3_col2, #T_462c0_row3_col3 {\n",
       "  text-align: left;\n",
       "}\n",
       "</style>\n",
       "<table style=\"display:inline\" id=\"T_462c0_\">\n",
       "  <thead>\n",
       "    <tr>\n",
       "      <th class=\"blank level0\" >&nbsp;</th>\n",
       "      <th class=\"col_heading level0 col0\" >ID</th>\n",
       "      <th class=\"col_heading level0 col1\" >Name</th>\n",
       "      <th class=\"col_heading level0 col2\" >Planned Duration</th>\n",
       "      <th class=\"col_heading level0 col3\" >Actual Duration</th>\n",
       "    </tr>\n",
       "  </thead>\n",
       "  <tbody>\n",
       "    <tr>\n",
       "      <th id=\"T_462c0_level0_row0\" class=\"row_heading level0 row0\" >0</th>\n",
       "      <td id=\"T_462c0_row0_col0\" class=\"data row0 col0\" >SCWtaBA8</td>\n",
       "      <td id=\"T_462c0_row0_col1\" class=\"data row0 col1\" >BA8 - (1st) BD Consent to Temp works for SCW &amp; Culvert Modification (Resubmit incl wall, excav.&amp; anchor)(Wet){5b1(r)}</td>\n",
       "      <td id=\"T_462c0_row0_col2\" class=\"data row0 col2\" >59</td>\n",
       "      <td id=\"T_462c0_row0_col3\" class=\"data row0 col3\" >60</td>\n",
       "    </tr>\n",
       "    <tr>\n",
       "      <th id=\"T_462c0_level0_row1\" class=\"row_heading level0 row1\" >1</th>\n",
       "      <td id=\"T_462c0_row1_col0\" class=\"data row1 col0\" >GENSUB9A</td>\n",
       "      <td id=\"T_462c0_row1_col1\" class=\"data row1 col1\" >Aluminum - BD Approval</td>\n",
       "      <td id=\"T_462c0_row1_col2\" class=\"data row1 col2\" >29</td>\n",
       "      <td id=\"T_462c0_row1_col3\" class=\"data row1 col3\" >28</td>\n",
       "    </tr>\n",
       "    <tr>\n",
       "      <th id=\"T_462c0_level0_row2\" class=\"row_heading level0 row2\" >2</th>\n",
       "      <td id=\"T_462c0_row2_col0\" class=\"data row2 col0\" >POW_BA58_1</td>\n",
       "      <td id=\"T_462c0_row2_col1\" class=\"data row2 col1\" >BA8 - Consent for Excav &amp; ELS Plan for Power Island Area (Open Cut)(Phase 3){7c2i}</td>\n",
       "      <td id=\"T_462c0_row2_col2\" class=\"data row2 col2\" >29</td>\n",
       "      <td id=\"T_462c0_row2_col3\" class=\"data row2 col3\" >29</td>\n",
       "    </tr>\n",
       "    <tr>\n",
       "      <th id=\"T_462c0_level0_row3\" class=\"row_heading level0 row3\" >3</th>\n",
       "      <td id=\"T_462c0_row3_col0\" class=\"data row3 col0\" >SFF-BA58a</td>\n",
       "      <td id=\"T_462c0_row3_col1\" class=\"data row3 col1\" >BA5 - Resub.of (Type II) Amendment  for Zone A Sheet Pile Alternative {4b1-alt A-1} [APPROVED AS TYPE I]</td>\n",
       "      <td id=\"T_462c0_row3_col2\" class=\"data row3 col2\" >89</td>\n",
       "      <td id=\"T_462c0_row3_col3\" class=\"data row3 col3\" >24</td>\n",
       "    </tr>\n",
       "  </tbody>\n",
       "</table style=\"display:inline\">\n",
       "</td></th><th style=\"text-align:right\"><td style=\"vertical-align:top\"><h2>Cluster Statistics</h2><style type=\"text/css\">\n",
       "#T_27a05_ th {\n",
       "  text-align: left;\n",
       "}\n",
       "#T_27a05_row0_col0, #T_27a05_row0_col1, #T_27a05_row0_col2, #T_27a05_row1_col0, #T_27a05_row1_col1, #T_27a05_row1_col2, #T_27a05_row2_col0, #T_27a05_row2_col1, #T_27a05_row2_col2, #T_27a05_row3_col0, #T_27a05_row3_col1, #T_27a05_row3_col2 {\n",
       "  text-align: left;\n",
       "}\n",
       "</style>\n",
       "<table style=\"display:inline\" id=\"T_27a05_\">\n",
       "  <thead>\n",
       "    <tr>\n",
       "      <th class=\"blank level0\" >&nbsp;</th>\n",
       "      <th class=\"col_heading level0 col0\" >MEAN</th>\n",
       "      <th class=\"col_heading level0 col1\" >MEDIAN</th>\n",
       "      <th class=\"col_heading level0 col2\" >STD</th>\n",
       "    </tr>\n",
       "  </thead>\n",
       "  <tbody>\n",
       "    <tr>\n",
       "      <th id=\"T_27a05_level0_row0\" class=\"row_heading level0 row0\" >Planned Duration(Days)</th>\n",
       "      <td id=\"T_27a05_row0_col0\" class=\"data row0 col0\" >51.500000</td>\n",
       "      <td id=\"T_27a05_row0_col1\" class=\"data row0 col1\" >44.000000</td>\n",
       "      <td id=\"T_27a05_row0_col2\" class=\"data row0 col2\" >24.870000</td>\n",
       "    </tr>\n",
       "    <tr>\n",
       "      <th id=\"T_27a05_level0_row1\" class=\"row_heading level0 row1\" >Actual Duration(Days)</th>\n",
       "      <td id=\"T_27a05_row1_col0\" class=\"data row1 col0\" >35.250000</td>\n",
       "      <td id=\"T_27a05_row1_col1\" class=\"data row1 col1\" >28.500000</td>\n",
       "      <td id=\"T_27a05_row1_col2\" class=\"data row1 col2\" >14.410000</td>\n",
       "    </tr>\n",
       "    <tr>\n",
       "      <th id=\"T_27a05_level0_row2\" class=\"row_heading level0 row2\" >Overrun(Days)</th>\n",
       "      <td id=\"T_27a05_row2_col0\" class=\"data row2 col0\" >-16.250000</td>\n",
       "      <td id=\"T_27a05_row2_col1\" class=\"data row2 col1\" >-0.500000</td>\n",
       "      <td id=\"T_27a05_row2_col2\" class=\"data row2 col2\" >28.150000</td>\n",
       "    </tr>\n",
       "    <tr>\n",
       "      <th id=\"T_27a05_level0_row3\" class=\"row_heading level0 row3\" >Overrun(%)</th>\n",
       "      <td id=\"T_27a05_row3_col0\" class=\"data row3 col0\" >-0.190000</td>\n",
       "      <td id=\"T_27a05_row3_col1\" class=\"data row3 col1\" >-0.020000</td>\n",
       "      <td id=\"T_27a05_row3_col2\" class=\"data row3 col2\" >0.310000</td>\n",
       "    </tr>\n",
       "  </tbody>\n",
       "</table style=\"display:inline\">\n",
       "</td></th>"
      ]
     },
     "metadata": {},
     "output_type": "display_data"
    },
    {
     "data": {
      "image/png": "[encoded data removed]",
      "text/plain": [
       "<Figure size 1080x360 with 2 Axes>"
      ]
     },
     "metadata": {},
     "output_type": "display_data"
    }
   ],
   "source": [
    "ids_names = [' '] + open('ids_names.txt').read().split('\\n')\n",
    "#ids_names = [(id_name,) for id_name in ids_names]\n",
    "layout={'width': 'max-content', 'height':'max-content'}\n",
    "layout=Layout(display=\"flex\", flex_flow='column')\n",
    "ids_names_dd=widgets.SelectMultiple(options=ids_names, value=(ids_names[0], ' '),\n",
    "    description='Names to exclude:',style=style, layout=layout)\n",
    "button = widgets.Button(description = \"Run RCF\",style=style)\n",
    "button.style.button_color = 'yellow'\n",
    "button.on_click(cluster_stats_plots)\n",
    "HBox(children=[ids_names_dd, button])"
   ]
  },
  {
   "cell_type": "code",
   "execution_count": 9,
   "metadata": {},
   "outputs": [
    {
     "data": {
      "text/html": [
       "<script>\n",
       "code_show=true; \n",
       "function code_toggle() {\n",
       " if (code_show){\n",
       " $('div.input').hide();\n",
       " } else {\n",
       " $('div.input').show();\n",
       " }\n",
       " code_show = !code_show\n",
       "} \n",
       "$( document ).ready(code_toggle);\n",
       "</script>\n",
       "The raw code for this IPython notebook is by default hidden for easier reading.\n",
       "To toggle on/off the raw code, click <a href=\"javascript:code_toggle()\">here</a>."
      ],
      "text/plain": [
       "<IPython.core.display.HTML object>"
      ]
     },
     "execution_count": 9,
     "metadata": {},
     "output_type": "execute_result"
    }
   ],
   "source": [
    "HTML('''<script>\n",
    "code_show=true; \n",
    "function code_toggle() {\n",
    " if (code_show){\n",
    " $('div.input').hide();\n",
    " } else {\n",
    " $('div.input').show();\n",
    " }\n",
    " code_show = !code_show\n",
    "} \n",
    "$( document ).ready(code_toggle);\n",
    "</script>\n",
    "The raw code for this IPython notebook is by default hidden for easier reading.\n",
    "To toggle on/off the raw code, click <a href=\"javascript:code_toggle()\">here</a>.''')"
   ]
  }
 ],
 "metadata": {
  "kernelspec": {
   "display_name": "Python 3 (ipykernel)",
   "language": "python",
   "name": "python3"
  },
  "language_info": {
   "codemirror_mode": {
    "name": "ipython",
    "version": 3
   },
   "file_extension": ".py",
   "mimetype": "text/x-python",
   "name": "python",
   "nbconvert_exporter": "python",
   "pygments_lexer": "ipython3",
   "version": "3.9.7"
  }
 },
 "nbformat": 4,
 "nbformat_minor": 4
}
