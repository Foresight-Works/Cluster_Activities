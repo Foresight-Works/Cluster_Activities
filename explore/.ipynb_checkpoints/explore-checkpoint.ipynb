{
 "cells": [
  {
   "cell_type": "code",
   "execution_count": 1,
   "metadata": {},
   "outputs": [],
   "source": [
    "import sys\n",
    "import pandas as pd\n",
    "import re\n",
    "import os\n",
    "import time\n",
    "from concurrent.futures import ProcessPoolExecutor\n",
    "pd.set_option('display.max_columns', None)\n",
    "pd.set_option('display.max_colwidth', None)\n",
    "\n",
    "working_dir = '../'\n",
    "modules_dir = os.path.join(working_dir, 'modules')\n",
    "if modules_dir not in sys.path:\n",
    "    sys.path.append(modules_dir)\n",
    "data_dir = os.path.join(working_dir, 'data/csvs')\n",
    "results_dir = os.path.join(working_dir, 'results')"
   ]
  },
  {
   "cell_type": "code",
   "execution_count": 2,
   "metadata": {},
   "outputs": [],
   "source": [
    "# Read data and extract activities\n",
    "start_end_cols = ['Actual Start', 'Actual Completed', 'Current Planned Start', 'Current Planned Completed']\n",
    "files = os.listdir(data_dir)\n",
    "dfs = {}\n",
    "names_projects_dicts = []\n",
    "task_names = []\n",
    "for file in files:\n",
    "    df = pd.read_csv(os.path.join(data_dir, file))\n",
    "\n",
    "    # Filter rows without start or end actual or planned dates\n",
    "    df = df.dropna(how='any', subset=start_end_cols)\n",
    "    df = df.dropna(axis=1, how='all')\n",
    "    if 'Unnamed: 0' in df.columns: del df['Unnamed: 0']\n",
    "    file = re.sub(' List --\\d{2,}.csv', '', file)\n",
    "    file = re.sub(' ', '_', file)\n",
    "\n",
    "    # Tasks and Projects\n",
    "    names_projects_dicts.append(dict(zip(df['Task Name'], df['Program'])))\n",
    "    task_names += list(df['Task Name'])"
   ]
  },
  {
   "cell_type": "markdown",
   "metadata": {},
   "source": [
    "# Tasks Names  "
   ]
  }
 ],
 "metadata": {
  "kernelspec": {
   "display_name": "Python 3",
   "language": "python",
   "name": "python3"
  },
  "language_info": {
   "codemirror_mode": {
    "name": "ipython",
    "version": 3
   },
   "file_extension": ".py",
   "mimetype": "text/x-python",
   "name": "python",
   "nbconvert_exporter": "python",
   "pygments_lexer": "ipython3",
   "version": "3.7.6"
  }
 },
 "nbformat": 4,
 "nbformat_minor": 2
}
