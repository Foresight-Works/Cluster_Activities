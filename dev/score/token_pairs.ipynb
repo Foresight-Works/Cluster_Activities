{
 "cells": [
  {
   "cell_type": "code",
   "execution_count": 1,
   "id": "58a2724f",
   "metadata": {},
   "outputs": [],
   "source": [
    "import pandas as pd\n",
    "import numpy as np\n",
    "import os\n",
    "from difflib import SequenceMatcher\n",
    "def similar(a, b):\n",
    "    return SequenceMatcher(None, a, b).ratio()"
   ]
  },
  {
   "cell_type": "code",
   "execution_count": 2,
   "id": "79da23de",
   "metadata": {},
   "outputs": [],
   "source": [
    "results_dir = 'C:\\\\Users\\\\RonyArmon\\\\Projects_Code\\\\Cluster_Activities\\\\results'\n",
    "pos_df = pd.read_pickle(os.path.join(results_dir,'pos.pkl'))\n",
    "tokens_similarity = pd.read_pickle(os.path.join(results_dir,'tokens_similarity.pkl'))\n",
    "lemmas_synonyms = pd.read_excel(os.path.join(results_dir, 'lemmas_synonyms.xlsx'))"
   ]
  },
  {
   "cell_type": "code",
   "execution_count": 3,
   "id": "7600a16e",
   "metadata": {},
   "outputs": [
    {
     "name": "stdout",
     "output_type": "stream",
     "text": [
      "   token_id  name_id loc      token      lemma   upos xpos head deprel  \\\n",
      "0         1        1   1  construct  construct   VERB   VB    0   root   \n",
      "0         2        1   2     trials      trial   NOUN  NNS    1    obj   \n",
      "0         3        1   3          &          &  CCONJ   CC    4     cc   \n",
      "0         4        1   4       test       test   NOUN   NN    2   conj   \n",
      "0         5        1   5        for        for    ADP   IN    7   case   \n",
      "\n",
      "  start_char end_char                  feats  \n",
      "0          0        9  Mood=Imp|VerbForm=Fin  \n",
      "0         10       16            Number=Plur  \n",
      "0         17       18                      _  \n",
      "0         19       23            Number=Sing  \n",
      "0         24       27                      _  \n"
     ]
    }
   ],
   "source": [
    "print(pos_df.head())"
   ]
  },
  {
   "cell_type": "code",
   "execution_count": 4,
   "id": "46d57eb9",
   "metadata": {},
   "outputs": [
    {
     "name": "stdout",
     "output_type": "stream",
     "text": [
      "short name tokens: ['turbine', 'hall', '(', 'driven', 'piles', ')']\n",
      "long name tokens: ['construct', 'trials', '&', 'test', 'for', 'bd', 'inspection', 'and', 'acknowledgement']\n"
     ]
    }
   ],
   "source": [
    "# Sentences\n",
    "df1 = pos_df[pos_df['name_id']==1]\n",
    "df2 = pos_df[pos_df['name_id']==2]\n",
    "tokens1, tokens2 = list(df1['token']), list(df2['token'])\n",
    "if len(tokens1)<=len(tokens2):\n",
    "    tokens_s, tokens_l = tokens1, tokens2\n",
    "else:\n",
    "    tokens_s, tokens_l = tokens2, tokens1\n",
    "print('short name tokens:', tokens_s)\n",
    "print('long name tokens:', tokens_l)"
   ]
  },
  {
   "cell_type": "code",
   "execution_count": 6,
   "id": "10265079",
   "metadata": {},
   "outputs": [
    {
     "name": "stdout",
     "output_type": "stream",
     "text": [
      "turbine construct 0.25\n",
      "turbine trials 0.46\n",
      "turbine & 0.0\n",
      "turbine test 0.36\n",
      "turbine for 0.2\n",
      "turbine bd 0.22\n",
      "turbine inspection 0.35\n",
      "turbine and 0.2\n",
      "turbine acknowledgement 0.09\n",
      "max score: 0.46\n",
      "match_score: {'trials': 0.46}\n",
      "hall construct 0.0\n",
      "hall trials 0.4\n",
      "hall & 0.0\n",
      "hall test 0.0\n",
      "hall for 0.0\n",
      "hall bd 0.0\n",
      "hall inspection 0.0\n",
      "hall and 0.29\n",
      "hall acknowledgement 0.21\n",
      "max score: 0.4\n",
      "match_score: {'trials': 0.4}\n",
      "( construct 0.0\n",
      "( trials 0.0\n",
      "( & 0.0\n",
      "( test 0.0\n",
      "( for 0.0\n",
      "( bd 0.0\n",
      "( inspection 0.0\n",
      "( and 0.0\n",
      "( acknowledgement 0.0\n",
      "no match\n",
      "driven construct 0.13\n",
      "driven trials 0.33\n",
      "driven & 0.0\n",
      "driven test 0.2\n",
      "driven for 0.22\n",
      "driven bd 0.25\n",
      "driven inspection 0.38\n",
      "driven and 0.22\n",
      "driven acknowledgement 0.29\n",
      "max score: 0.38\n",
      "match_score: {'inspection': 0.38}\n",
      "piles construct 0.14\n",
      "piles trials 0.55\n",
      "piles & 0.0\n",
      "piles test 0.44\n",
      "piles for 0.0\n",
      "piles bd 0.0\n",
      "piles inspection 0.27\n",
      "piles and 0.0\n",
      "piles acknowledgement 0.2\n",
      "max score: 0.55\n",
      "match_score: {'trials': 0.55}\n",
      ") construct 0.0\n",
      ") trials 0.0\n",
      ") & 0.0\n",
      ") test 0.0\n",
      ") for 0.0\n",
      ") bd 0.0\n",
      ") inspection 0.0\n",
      ") and 0.0\n",
      ") acknowledgement 0.0\n",
      "no match\n"
     ]
    }
   ],
   "source": [
    "token_pairs = []\n",
    "for token1 in tokens_s:\n",
    "    checked, scores = [], {}\n",
    "    for token2 in tokens_l:\n",
    "        if token2 not in checked:\n",
    "            score = tokens_similarity.at[token1, token2]\n",
    "            checked.append(token2)\n",
    "            print(token1, token2, score)\n",
    "            if score>0.3: \n",
    "                scores[token2]=score\n",
    "    scores_array = np.array(list(scores.values()))\n",
    "    if np.sum(scores_array)>0:\n",
    "        max_score = np.max(scores_array)\n",
    "        print('max score:', max_score)\n",
    "        match_score = {k:v for k,v in scores.items() if v == max_score}\n",
    "        print ('match_score:', match_score)\n",
    "        ms_keys, ms_vals = list(match_score.keys()), list(match_score.values())\n",
    "        match_score = (token1, ms_keys[0], ms_vals[0])\n",
    "        token_pairs.append(match_score)\n",
    "    else:\n",
    "        print('no match')"
   ]
  },
  {
   "cell_type": "code",
   "execution_count": 7,
   "id": "0d9474f9",
   "metadata": {},
   "outputs": [
    {
     "data": {
      "text/plain": [
       "[('turbine', 'trials', 0.46),\n",
       " ('hall', 'trials', 0.4),\n",
       " ('driven', 'inspection', 0.38),\n",
       " ('piles', 'trials', 0.55)]"
      ]
     },
     "execution_count": 7,
     "metadata": {},
     "output_type": "execute_result"
    }
   ],
   "source": [
    "token_pairs"
   ]
  }
 ],
 "metadata": {
  "kernelspec": {
   "display_name": "Python 3 (ipykernel)",
   "language": "python",
   "name": "python3"
  },
  "language_info": {
   "codemirror_mode": {
    "name": "ipython",
    "version": 3
   },
   "file_extension": ".py",
   "mimetype": "text/x-python",
   "name": "python",
   "nbconvert_exporter": "python",
   "pygments_lexer": "ipython3",
   "version": "3.9.7"
  }
 },
 "nbformat": 4,
 "nbformat_minor": 5
}
