{
 "cells": [
  {
   "cell_type": "code",
   "execution_count": null,
   "metadata": {
    "scrolled": true
   },
   "outputs": [],
   "source": [
    "import stanza\n",
    "import spacy\n",
    "stanza_nlp = stanza.Pipeline(lang=\"en\")\n",
    "spacy_nlp = spacy.load(\"en_core_web_lg\")"
   ]
  },
  {
   "cell_type": "code",
   "execution_count": 23,
   "metadata": {},
   "outputs": [],
   "source": [
    "def print_pos(sentence):\n",
    "    doc = spacy_nlp(sentence)\n",
    "    print(f\"{'token':{8}} {'POS':{6}} {'TAG':{6}} {'Dep':{6}} {'POS explained':{20}} {'tag explained'} \")\n",
    "    for token in doc:\n",
    "        print(f'{token.text:{8}} {token.pos_:{6}}\\\n",
    "        {token.tag_:{6}} {token.dep_:{6}} {spacy.explain(token.pos_):{20}} {spacy.explain(token.tag_)}')\n",
    "    print('----')\n",
    "    doc = stanza_nlp(sentence)\n",
    "    print(*[f'{word.text}\\t{word.upos}\\t{word.xpos}\\tdeprel: {word.deprel}\\tfeats:\\\n",
    "    {word.feats if word.feats else \"_\"}' for sent in doc.sentences for word in sent.words], sep='\\n')\n",
    "    print (30*'*')\n",
    "    comparison = input('comparison:')\n",
    "    print (30*'*')"
   ]
  },
  {
   "cell_type": "code",
   "execution_count": 24,
   "metadata": {},
   "outputs": [
    {
     "name": "stdout",
     "output_type": "stream",
     "text": [
      "token    POS    TAG    Dep    POS explained        tag explained \n",
      "Get      VERB          VB     ROOT   verb                 verb, base form\n",
      "busy     ADJ           JJ     acomp  adjective            adjective (English), other noun-modifier (Chinese)\n",
      "living   VERB          VBG    xcomp  verb                 verb, gerund or present participle\n",
      "or       CCONJ         CC     cc     coordinating conjunction conjunction, coordinating\n",
      "get      VERB          VB     conj   verb                 verb, base form\n",
      "busy     ADJ           JJ     acomp  adjective            adjective (English), other noun-modifier (Chinese)\n",
      "dying    VERB          VBG    xcomp  verb                 verb, gerund or present participle\n",
      ".        PUNCT         .      punct  punctuation          punctuation mark, sentence closer\n",
      "----\n",
      "Get\tVERB\tVB\tdeprel: root\tfeats:    Mood=Imp|VerbForm=Fin\n",
      "busy\tADJ\tJJ\tdeprel: amod\tfeats:    Degree=Pos\n",
      "living\tNOUN\tNN\tdeprel: obj\tfeats:    Number=Sing\n",
      "or\tCCONJ\tCC\tdeprel: cc\tfeats:    _\n",
      "get\tVERB\tVB\tdeprel: conj\tfeats:    Mood=Imp|VerbForm=Fin\n",
      "busy\tADJ\tJJ\tdeprel: xcomp\tfeats:    Degree=Pos\n",
      "dying\tVERB\tVBG\tdeprel: xcomp\tfeats:    VerbForm=Ger\n",
      ".\tPUNCT\t.\tdeprel: punct\tfeats:    _\n",
      "******************************\n",
      "comparison:living, spacy(v)\n",
      "******************************\n"
     ]
    }
   ],
   "source": [
    "sentence =  \"Get busy living or get busy dying.\"\n",
    "print_pos(sentence)"
   ]
  },
  {
   "cell_type": "code",
   "execution_count": 26,
   "metadata": {},
   "outputs": [],
   "source": [
    "sentences = [\"Get busy living or get busy dying.\", \"Barack Obama was born in Hawaii. He was elected president in 2008.\"]"
   ]
  },
  {
   "cell_type": "code",
   "execution_count": 27,
   "metadata": {},
   "outputs": [
    {
     "name": "stdout",
     "output_type": "stream",
     "text": [
      "token    POS    TAG    Dep    POS explained        tag explained \n",
      "Get      VERB          VB     ROOT   verb                 verb, base form\n",
      "busy     ADJ           JJ     acomp  adjective            adjective (English), other noun-modifier (Chinese)\n",
      "living   VERB          VBG    xcomp  verb                 verb, gerund or present participle\n",
      "or       CCONJ         CC     cc     coordinating conjunction conjunction, coordinating\n",
      "get      VERB          VB     conj   verb                 verb, base form\n",
      "busy     ADJ           JJ     acomp  adjective            adjective (English), other noun-modifier (Chinese)\n",
      "dying    VERB          VBG    xcomp  verb                 verb, gerund or present participle\n",
      ".        PUNCT         .      punct  punctuation          punctuation mark, sentence closer\n",
      "----\n",
      "Get\tVERB\tVB\tdeprel: root\tfeats:    Mood=Imp|VerbForm=Fin\n",
      "busy\tADJ\tJJ\tdeprel: amod\tfeats:    Degree=Pos\n",
      "living\tNOUN\tNN\tdeprel: obj\tfeats:    Number=Sing\n",
      "or\tCCONJ\tCC\tdeprel: cc\tfeats:    _\n",
      "get\tVERB\tVB\tdeprel: conj\tfeats:    Mood=Imp|VerbForm=Fin\n",
      "busy\tADJ\tJJ\tdeprel: xcomp\tfeats:    Degree=Pos\n",
      "dying\tVERB\tVBG\tdeprel: xcomp\tfeats:    VerbForm=Ger\n",
      ".\tPUNCT\t.\tdeprel: punct\tfeats:    _\n",
      "******************************\n",
      "comparison:test1\n",
      "******************************\n",
      "token    POS    TAG    Dep    POS explained        tag explained \n",
      "Barack   PROPN         NNP    compound proper noun          noun, proper singular\n",
      "Obama    PROPN         NNP    nsubjpass proper noun          noun, proper singular\n",
      "was      AUX           VBD    auxpass auxiliary            verb, past tense\n",
      "born     VERB          VBN    ROOT   verb                 verb, past participle\n",
      "in       ADP           IN     prep   adposition           conjunction, subordinating or preposition\n",
      "Hawaii   PROPN         NNP    pobj   proper noun          noun, proper singular\n",
      ".        PUNCT         .      punct  punctuation          punctuation mark, sentence closer\n",
      "He       PRON          PRP    nsubjpass pronoun              pronoun, personal\n",
      "was      AUX           VBD    auxpass auxiliary            verb, past tense\n",
      "elected  VERB          VBN    ROOT   verb                 verb, past participle\n",
      "president NOUN          NN     oprd   noun                 noun, singular or mass\n",
      "in       ADP           IN     prep   adposition           conjunction, subordinating or preposition\n",
      "2008     NUM           CD     pobj   numeral              cardinal number\n",
      ".        PUNCT         .      punct  punctuation          punctuation mark, sentence closer\n",
      "----\n",
      "Barack\tPROPN\tNNP\tdeprel: nsubj:pass\tfeats:    Number=Sing\n",
      "Obama\tPROPN\tNNP\tdeprel: flat\tfeats:    Number=Sing\n",
      "was\tAUX\tVBD\tdeprel: aux:pass\tfeats:    Mood=Ind|Number=Sing|Person=3|Tense=Past|VerbForm=Fin\n",
      "born\tVERB\tVBN\tdeprel: root\tfeats:    Tense=Past|VerbForm=Part|Voice=Pass\n",
      "in\tADP\tIN\tdeprel: case\tfeats:    _\n",
      "Hawaii\tPROPN\tNNP\tdeprel: obl\tfeats:    Number=Sing\n",
      ".\tPUNCT\t.\tdeprel: punct\tfeats:    _\n",
      "He\tPRON\tPRP\tdeprel: nsubj:pass\tfeats:    Case=Nom|Gender=Masc|Number=Sing|Person=3|PronType=Prs\n",
      "was\tAUX\tVBD\tdeprel: aux:pass\tfeats:    Mood=Ind|Number=Sing|Person=3|Tense=Past|VerbForm=Fin\n",
      "elected\tVERB\tVBN\tdeprel: root\tfeats:    Tense=Past|VerbForm=Part|Voice=Pass\n",
      "president\tNOUN\tNN\tdeprel: xcomp\tfeats:    Number=Sing\n",
      "in\tADP\tIN\tdeprel: case\tfeats:    _\n",
      "2008\tNUM\tCD\tdeprel: obl\tfeats:    NumForm=Digit|NumType=Card\n",
      ".\tPUNCT\t.\tdeprel: punct\tfeats:    _\n",
      "******************************\n",
      "comparison:test2\n",
      "******************************\n"
     ]
    }
   ],
   "source": [
    "for sentence in sentences:\n",
    "    print_pos(sentence)"
   ]
  }
 ],
 "metadata": {
  "kernelspec": {
   "display_name": "Python 3 (ipykernel)",
   "language": "python",
   "name": "python3"
  },
  "language_info": {
   "codemirror_mode": {
    "name": "ipython",
    "version": 3
   },
   "file_extension": ".py",
   "mimetype": "text/x-python",
   "name": "python",
   "nbconvert_exporter": "python",
   "pygments_lexer": "ipython3",
   "version": "3.9.7"
  }
 },
 "nbformat": 4,
 "nbformat_minor": 4
}
