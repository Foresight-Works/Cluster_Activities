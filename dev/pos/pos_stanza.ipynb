{
 "cells": [
  {
   "cell_type": "code",
   "execution_count": 1,
   "metadata": {
    "scrolled": true
   },
   "outputs": [
    {
     "name": "stderr",
     "output_type": "stream",
     "text": [
      "2021-12-27 06:23:39 INFO: Loading these models for language: en (English):\n",
      "============================\n",
      "| Processor    | Package   |\n",
      "----------------------------\n",
      "| tokenize     | combined  |\n",
      "| pos          | combined  |\n",
      "| lemma        | combined  |\n",
      "| depparse     | combined  |\n",
      "| sentiment    | sstplus   |\n",
      "| constituency | wsj       |\n",
      "| ner          | ontonotes |\n",
      "============================\n",
      "\n",
      "2021-12-27 06:23:39 INFO: Use device: cpu\n",
      "2021-12-27 06:23:39 INFO: Loading: tokenize\n",
      "2021-12-27 06:23:39 INFO: Loading: pos\n",
      "2021-12-27 06:23:39 INFO: Loading: lemma\n",
      "2021-12-27 06:23:39 INFO: Loading: depparse\n",
      "2021-12-27 06:23:39 INFO: Loading: sentiment\n",
      "2021-12-27 06:23:40 INFO: Loading: constituency\n",
      "2021-12-27 06:23:40 INFO: Loading: ner\n",
      "2021-12-27 06:23:41 INFO: Done loading processors!\n"
     ]
    }
   ],
   "source": [
    "from prep import *\n",
    "import stanza\n",
    "nlp = stanza.Pipeline(lang=\"en\", use_gpu= True)"
   ]
  },
  {
   "cell_type": "code",
   "execution_count": 2,
   "metadata": {
    "scrolled": true
   },
   "outputs": [
    {
     "name": "stdout",
     "output_type": "stream",
     "text": [
      "('Barack', 4, 'nsubj:pass')\n",
      "('Obama', 1, 'flat')\n",
      "('was', 4, 'aux:pass')\n",
      "('born', 0, 'root')\n",
      "('in', 6, 'case')\n",
      "('Hawaii', 4, 'obl')\n",
      "('.', 4, 'punct')\n"
     ]
    }
   ],
   "source": [
    "doc = nlp(\"Barack Obama was born in Hawaii.  He was elected president in 2008.\")\n",
    "doc.sentences[0].print_dependencies()"
   ]
  },
  {
   "cell_type": "code",
   "execution_count": 3,
   "metadata": {},
   "outputs": [
    {
     "name": "stdout",
     "output_type": "stream",
     "text": [
      "word: Barack\tupos: PROPN\txpos: NNP\tdeprel: nsubj:pass\tfeats: Number=Sing\n",
      "word: Obama\tupos: PROPN\txpos: NNP\tdeprel: flat\tfeats: Number=Sing\n",
      "word: was\tupos: AUX\txpos: VBD\tdeprel: aux:pass\tfeats: Mood=Ind|Number=Sing|Person=3|Tense=Past|VerbForm=Fin\n",
      "word: born\tupos: VERB\txpos: VBN\tdeprel: root\tfeats: Tense=Past|VerbForm=Part|Voice=Pass\n",
      "word: in\tupos: ADP\txpos: IN\tdeprel: case\tfeats: _\n",
      "word: Hawaii\tupos: PROPN\txpos: NNP\tdeprel: obl\tfeats: Number=Sing\n",
      "word: .\tupos: PUNCT\txpos: .\tdeprel: punct\tfeats: _\n",
      "word: He\tupos: PRON\txpos: PRP\tdeprel: nsubj:pass\tfeats: Case=Nom|Gender=Masc|Number=Sing|Person=3|PronType=Prs\n",
      "word: was\tupos: AUX\txpos: VBD\tdeprel: aux:pass\tfeats: Mood=Ind|Number=Sing|Person=3|Tense=Past|VerbForm=Fin\n",
      "word: elected\tupos: VERB\txpos: VBN\tdeprel: root\tfeats: Tense=Past|VerbForm=Part|Voice=Pass\n",
      "word: president\tupos: NOUN\txpos: NN\tdeprel: xcomp\tfeats: Number=Sing\n",
      "word: in\tupos: ADP\txpos: IN\tdeprel: case\tfeats: _\n",
      "word: 2008\tupos: NUM\txpos: CD\tdeprel: obl\tfeats: NumForm=Digit|NumType=Card\n",
      "word: .\tupos: PUNCT\txpos: .\tdeprel: punct\tfeats: _\n"
     ]
    }
   ],
   "source": [
    "print(*[f'word: {word.text}\\tupos: {word.upos}\\txpos: {word.xpos}\\tdeprel: {word.deprel}\\tfeats: {word.feats if word.feats else \"_\"}' for sent in doc.sentences for word in sent.words], sep='\\n')"
   ]
  },
  {
   "cell_type": "code",
   "execution_count": 22,
   "metadata": {
    "scrolled": false
   },
   "outputs": [
    {
     "name": "stdout",
     "output_type": "stream",
     "text": [
      "--------------------------------------------------------------------------------\n",
      "name 1: Installation of BSP Monitoring Point (111 Nos)\n",
      "  id         token         lemma   upos   xpos head    deprel         feats\n",
      "0  1  Installation  installation   NOUN     NN    0      root   Number=Sing\n",
      "0  2            of            of    ADP     IN    5      case             _\n",
      "0  3           BSP           bsp   NOUN     NN    5  compound   Number=Sing\n",
      "0  4    Monitoring    monitoring   NOUN     NN    5  compound   Number=Sing\n",
      "0  5         Point         point   NOUN     NN    1      nmod   Number=Sing\n",
      "0  6             (             (  PUNCT  -LRB-    8     punct             _\n",
      "0  7           111           111    NUM     CD    8    nummod  NumType=Card\n",
      "0  8           Nos           nos   NOUN     NN    5     appos   Number=Sing\n",
      "0  9             )             )  PUNCT  -RRB-    8     punct             _\n",
      "--------------------------------------------------------------------------------\n",
      "name 2: Installation of standpipe / piezometer (37Nos)\n",
      "  id         token         lemma   upos   xpos head  deprel  \\\n",
      "0  1  Installation  installation   NOUN     NN    0    root   \n",
      "0  2            of            of    ADP     IN    3    case   \n",
      "0  3     standpipe     standpipe   NOUN     NN    1    nmod   \n",
      "0  4             /             /    SYM      ,    5      cc   \n",
      "0  5    piezometer    piezometer   NOUN     NN    3    conj   \n",
      "0  6             (             (  PUNCT  -LRB-    8   punct   \n",
      "0  7            37            37    NUM     CD    8  nummod   \n",
      "0  8           Nos           nos   NOUN    NNS    1   appos   \n",
      "0  9             )             )  PUNCT  -RRB-    8   punct   \n",
      "\n",
      "                        feats  \n",
      "0                 Number=Sing  \n",
      "0                           _  \n",
      "0                 Number=Sing  \n",
      "0                           _  \n",
      "0                 Number=Sing  \n",
      "0                           _  \n",
      "0  NumForm=Digit|NumType=Card  \n",
      "0                 Number=Sing  \n",
      "0                           _  \n",
      "--------------------------------------------------------------------------------\n",
      "name 3: Installation of UMP Monitoring Point (30 Nos)\n",
      "  id         token         lemma   upos   xpos head    deprel  \\\n",
      "0  1  Installation  installation   NOUN     NN    0      root   \n",
      "0  2            of            of    ADP     IN    5      case   \n",
      "0  3           UMP           UMP  PROPN    NNP    5  compound   \n",
      "0  4    Monitoring    monitoring   NOUN     NN    5  compound   \n",
      "0  5         Point         point   NOUN     NN    1      nmod   \n",
      "0  6             (             (  PUNCT  -LRB-    8     punct   \n",
      "0  7            30            30    NUM     CD    8    nummod   \n",
      "0  8           Nos           nos   NOUN     NN    5     appos   \n",
      "0  9             )             )  PUNCT  -RRB-    8     punct   \n",
      "\n",
      "                        feats  \n",
      "0                 Number=Sing  \n",
      "0                           _  \n",
      "0                 Number=Sing  \n",
      "0                 Number=Sing  \n",
      "0                 Number=Sing  \n",
      "0                           _  \n",
      "0  NumForm=Digit|NumType=Card  \n",
      "0                 Number=Sing  \n",
      "0                           _  \n",
      "duration= 0.5844368934631348\n"
     ]
    }
   ],
   "source": [
    "import ast\n",
    "start = time.time()\n",
    "task_names = task_names[:3]\n",
    "cols = ['id', 'text', 'lemma', 'upos', 'xpos', 'head', 'deprel', 'start_char', 'end_char', 'feats']\n",
    "char_cols = ['start_char', 'end_char']\n",
    "for index, name in enumerate(task_names):\n",
    "    print(80*'-')\n",
    "    print('name {}:'.format(index+1), name)\n",
    "    doc = nlp(name)\n",
    "    doc_sentences = doc.sentences\n",
    "    results = []\n",
    "    sent_df = pd.DataFrame(columns = cols)\n",
    "    for sent in doc.sentences:\n",
    "        for word in sent.words:\n",
    "            word_dict = ast.literal_eval(str(word))\n",
    "            if 'feats' not in word_dict.keys():\n",
    "                word_dict['feats'] = '_'\n",
    "            vals = list(word_dict.values())\n",
    "            cols = list(word_dict.keys())\n",
    "            word_df = pd.DataFrame([vals], columns = cols)\n",
    "            sent_df = sent_df.append(word_df)\n",
    "    sent_df = sent_df.rename(columns = {'text':'token'})\n",
    "    print(sent_df.drop(char_cols, axis=1))\n",
    "    \n",
    "end = time.time()\n",
    "print('duration=', end-start)"
   ]
  },
  {
   "cell_type": "code",
   "execution_count": 5,
   "metadata": {},
   "outputs": [
    {
     "name": "stdout",
     "output_type": "stream",
     "text": [
      "analyzing 3 sentences\n",
      "name number  1\n"
     ]
    },
    {
     "ename": "NameError",
     "evalue": "name 'lemmatize_text' is not defined",
     "output_type": "error",
     "traceback": [
      "\u001b[1;31m---------------------------------------------------------------------------\u001b[0m",
      "\u001b[1;31mNameError\u001b[0m                                 Traceback (most recent call last)",
      "\u001b[1;32mC:\\Users\\RONYAR~1\\AppData\\Local\\Temp/ipykernel_8740/1798614636.py\u001b[0m in \u001b[0;36m<module>\u001b[1;34m\u001b[0m\n\u001b[0;32m     19\u001b[0m     \u001b[0mprint\u001b[0m\u001b[1;33m(\u001b[0m\u001b[1;34m'name number '\u001b[0m\u001b[1;33m,\u001b[0m \u001b[0mindex\u001b[0m\u001b[1;33m+\u001b[0m\u001b[1;36m1\u001b[0m\u001b[1;33m)\u001b[0m\u001b[1;33m\u001b[0m\u001b[1;33m\u001b[0m\u001b[0m\n\u001b[0;32m     20\u001b[0m     \u001b[0mname\u001b[0m \u001b[1;33m=\u001b[0m \u001b[0mname\u001b[0m\u001b[1;33m.\u001b[0m\u001b[0mlower\u001b[0m\u001b[1;33m(\u001b[0m\u001b[1;33m)\u001b[0m\u001b[1;33m\u001b[0m\u001b[1;33m\u001b[0m\u001b[0m\n\u001b[1;32m---> 21\u001b[1;33m     \u001b[0mname\u001b[0m\u001b[1;33m,\u001b[0m \u001b[0mname_tokens_lemmas\u001b[0m \u001b[1;33m=\u001b[0m \u001b[0mlemmatize_text\u001b[0m\u001b[1;33m(\u001b[0m\u001b[0mname\u001b[0m\u001b[1;33m)\u001b[0m\u001b[1;33m\u001b[0m\u001b[1;33m\u001b[0m\u001b[0m\n\u001b[0m\u001b[0;32m     22\u001b[0m     \u001b[1;32mif\u001b[0m \u001b[0mname_tokens_lemmas\u001b[0m\u001b[1;33m:\u001b[0m\u001b[1;33m\u001b[0m\u001b[1;33m\u001b[0m\u001b[0m\n\u001b[0;32m     23\u001b[0m         \u001b[0mprint\u001b[0m\u001b[1;33m(\u001b[0m\u001b[1;36m30\u001b[0m\u001b[1;33m*\u001b[0m\u001b[1;34m'-'\u001b[0m\u001b[1;33m)\u001b[0m\u001b[1;33m\u001b[0m\u001b[1;33m\u001b[0m\u001b[0m\n",
      "\u001b[1;31mNameError\u001b[0m: name 'lemmatize_text' is not defined"
     ]
    }
   ],
   "source": [
    "\n",
    "def get_pos (text):\n",
    "    '''\n",
    "    :params:\n",
    "    text: input text\n",
    "    param1: stanza's language model\n",
    "    :return: list of token-lemma tuple for each token in text\n",
    "    '''\n",
    "\n",
    "    text_tokens_lemmas = []\n",
    "    doc = nlp(text)\n",
    "    doc.sentences[0].print_dependencies()\n",
    "    \n",
    "    \n",
    "task_names = task_names[:1000]\n",
    "start = time.time()\n",
    "names_tokens_lemmas = []\n",
    "print('analyzing {n} sentences'.format(n=len(task_names)))\n",
    "for index, name in enumerate(task_names):\n",
    "    print('name number ', index+1)\n",
    "    name = name.lower()\n",
    "    name, name_tokens_lemmas = lemmatize_text(name)\n",
    "    if name_tokens_lemmas:\n",
    "        print(30*'-')\n",
    "        #print('task name:               ', name)\n",
    "        print('tokens, different lemmas:', name_tokens_lemmas)\n",
    "        names_tokens_lemmas += name_tokens_lemmas\n",
    "end = time.time()\n",
    "print('duration=', end-start)"
   ]
  },
  {
   "cell_type": "code",
   "execution_count": 14,
   "metadata": {},
   "outputs": [
    {
     "name": "stdout",
     "output_type": "stream",
     "text": [
      "[('1,367', '1367'), ('cylinders', 'cylinder'), ('services', 'service'), ('4,277', '4277'), ('m.s', 'm.'), ('placing', 'place'), ('bridges', 'bridge'), ('parts', 'part'), ('utiltiies', 'utiltiy'), ('pre-drilling', 'pre-dril'), ('weeks', 'week'), ('2,608', '2608'), ('corridors', 'corridor'), ('approved', 'approve'), ('tunnelling', 'tunnel'), ('devices', 'device'), ('stairs', 'stair'), ('backs', 'back'), ('poured', 'pour'), ('pipes', 'pipe'), ('dismantling', 'dismantle'), ('risers', 'riser'), ('procedures', 'procedure'), ('accessories', 'accessory'), ('leading', 'lead'), ('1,292', '1292'), ('purchasing', 'purchase'), ('sams', 'sam'), ('26,322', '26322'), ('8,781', '8781'), ('i', 'I'), ('chartered', 'charter'), ('fixed', 'fix'), ('rms', 'rm'), ('running', 'run'), ('grating', 'grate'), ('1,130', '1130'), ('demolished', 'demolish'), ('5,052', '5052'), ('defects', 'defect'), ('2,076', '2076'), ('10,694', '10694'), ('repositioning', 'reposition'), ('1,560', '1560'), ('footing', 'foot'), ('bollards', 'bollard'), ('10,270', '10270'), ('hoarding', 'hoard'), ('2,330', '2330'), ('fitting', 'fit'), ('windows', 'window'), ('handing', 'hand'), ('8nos', '8no'), ('lower', 'low'), ('watermains', 'watermain'), ('changed', 'change'), ('saw', 'see'), ('ttms', 'ttm'), ('ladders', 'ladder'), ('weighbridges', 'weighbridge'), ('kerbs', 'kerb'), ('requirements', 'requirement'), ('�', \"''\"), ('foundations', 'foundation'), ('grouting', 'grout'), ('shum', 'Shum'), ('piles', 'pile'), ('1,205', '1205'), ('manufacturing', 'manufacture'), ('8,382', '8382'), ('1,029', '1029'), ('stiles', 'stile'), ('1,283', '1283'), ('10,191', '10191'), ('6,500', '6500'), ('�', 'at'), ('1,011', '1011'), ('backfilling', 'backfil'), ('roads', 'road'), ('1,110', '1110'), ('4,185', '4185'), ('leaving', 'leave'), ('props', 'prop'), ('plinths', 'plinth'), ('moorings', 'mooring'), ('trees', 'tree'), ('jumbos', 'jumbo'), ('holes', 'hole'), (\"poc's\", \"poc'\"), ('9,435', '9435'), ('9,247', '9247'), ('1,496', '1496'), ('approvals', 'approval'), ('climbers', 'climber'), ('1,372', '1372'), ('methods', 'method'), ('licences', 'licence'), ('penetrations', 'penetration'), ('tbms', 'tbm'), ('pulls', 'pull'), ('4,804', '4804'), ('rending', 'rend'), ('16,248', '16248'), ('lrs', 'lr'), ('pits', 'pit'), ('1,131', '1131'), ('closing', 'close'), ('1,443', '1443'), ('copping', 'cop'), ('stockpiling', 'stockpile'), ('sets', 'set'), ('lv', 'lve'), ('d-walls', 'd-wall'), ('ramps', 'ramp'), ('lobbies', 'lobby'), ('formworks', 'formwork'), ('5,890', '5890'), ('backfilled', 'backfill'), ('8,571', '8571'), ('groundcovers', 'groundcover'), ('extended', 'extend'), ('5,854', '5854'), ('1,974', '1974'), ('raking', 'rake'), ('tests', 'test'), ('components', 'component'), ('antiquities', 'antiquity'), ('trucks', 'truck'), ('blasts', 'blast'), ('4,976', '4976'), ('working', 'work'), ('3,510', '3510'), ('6,746', '6746'), ('leaks', 'leak'), ('surveying', 'survey'), ('enabling', 'enable'), ('f', 'for'), ('aquased', 'aquase'), ('bars', 'bar'), ('railing', 'rail'), ('5,250', '5250'), ('7,048', '7048'), ('3,032', '3032'), ('entrances', 'entrance'), ('docks', 'dock'), ('remaining', 'remain'), ('16,163', '16163'), ('completed', 'complete'), ('5,988', '5988'), ('crushing', 'crush'), ('ups', 'up'), ('enlarged', 'enlarge'), ('transplanted', 'transplant'), ('underpinning', 'underpin'), ('20nos', '20no'), ('designated', 'designate'), ('corbels', 'corbel'), ('signs', 'sign'), ('roadworks', 'roadwork'), ('12,348', '12348'), ('segments', 'segment'), ('wells', 'well'), ('checking', 'check'), ('sprayed', 'spray'), ('sides', 'side'), (\"'\", \"'s\"), ('sleeves', 'sleeve'), ('screeding', 'screed'), ('covers', 'cover'), ('mounted', 'mount'), ('energized', 'energize'), ('cells', 'cell'), ('monitoring', 'monitor'), ('arresting', 'arrest'), ('1,211', '1211'), ('confirmed', 'confirm'), ('buildings', 'building'), ('sidewalls', 'sidewall'), ('gaps', 'gap'), ('drwgs', 'drwg'), ('heads', 'head'), ('loading', 'load'), ('realigned', 'realign'), ('mods', 'mod'), ('rejected', 'reject'), ('3,289', '3289'), ('bolts', 'bolt'), ('built', 'build'), ('installed', 'install'), ('shrubs', 'shrub'), ('interventions', 'intervention'), ('9,250', '9250'), ('22nos', '22no'), ('14,679', '14679'), ('offices', 'office'), ('2,190', '2190'), ('incidents', 'incident'), ('erecitng', 'erece'), ('4,157', '4157'), ('hoses', 'hose'), ('2,993', '2993'), ('29,272', '29272'), ('3,398', '3398'), ('erected', 'erect'), ('rising', 'rise'), ('implemen', 'impleman'), ('7,340', '7340'), ('mini-piles', 'mini-pile'), ('boards', 'board'), ('5,544', '5544'), ('closed', 'close'), ('21,003', '21003'), ('drillholes', 'drillhole'), ('equipments', 'equipment'), ('drilling', 'drill'), ('walkways', 'walkway'), ('cranes', 'crane'), ('jacking', 'jack'), ('4,621', '4621'), ('passages', 'passage'), ('workshops', 'workshop'), ('opeings', 'opeing'), ('manuals', 'manual'), ('exited', 'exit'), ('assumed', 'assume'), ('1,332', '1332'), ('1.7,1.8', '1.71.8'), ('5nos', 'Fno'), ('blockwalls', 'blockwall'), ('s47a', 'S47a'), ('6,910', '6910'), ('4nos', 'Jno'), ('levels', 'level'), ('5,133', '5133'), ('deleted', 'delete'), ('locating', 'locate'), ('23,628', '23628'), ('capping', 'cap'), ('16,447', '16447'), ('rings', 'ring'), ('bracing', 'brace'), ('metalworks', 'metalwork'), ('1,033', '1033'), ('samples', 'sample'), ('putting', 'put'), ('pavements', 'pavement'), ('passed', 'pass'), ('rockdowels', 'rockdowel'), ('piling', 'pile'), ('blasting', 'blast'), ('completing', 'complete'), ('p7e', 'L7e'), ('submissions', 'submission'), ('earthworks', 'earthwork'), ('protected', 'protect'), ('trimming', 'trim'), ('8,310', '8310'), ('facilities', 'facility'), ('nails', 'nail'), ('13,914', '13914'), ('12,864', '12864'), ('procured', 'procure'), ('wokrs', 'wokr'), ('zones', 'zone'), ('3nos', '3no'), ('plans', 'plan'), ('withing', 'with'), ('damaged', 'damage'), ('casing', 'case'), ('ducts', 'duct'), ('systems', 'system'), ('fishers', 'fisher'), ('checks', 'check'), ('fixing', 'fix'), ('taking', 'take'), ('kickers', 'kicker'), ('graphics', 'graphic'), ('pumps', 'pump'), ('17,110', '17110'), ('shafts', 'shaft'), ('u-channels', 'u-channel'), ('measures', 'measure'), ('skips', 'skip'), ('10,834', '10834'), ('louvers', 'louver'), ('structures', 'structure'), ('7,671', '7671'), ('proposals', 'proposal'), ('pressures', 'pressure'), ('acces', 'acce'), ('obstructions', 'obstruction'), ('dates', 'date'), ('borne', 'bear'), ('customs', 'custom'), ('coulumns', 'coulumn'), ('wallings', 'walling'), ('listed', 'list'), ('haking', 'hake'), ('auxiliaries', 'auxiliary'), ('strutting', 'strut'), ('barettes', 'barette'), ('expected', 'expect'), ('1,232', '1232'), ('s', \"'s\"), ('14,446', '14446'), ('works', 'work'), ('wkys', 'wky'), ('prepared', 'prepare'), ('vents', 'vent'), ('6,967', '6967'), ('pending', 'pend'), ('kurbs', 'kurb'), ('barging', 'barge'), ('months', 'month'), ('cp07', 'Cp07'), ('markers', 'marker'), ('8,124', '8124'), ('barrettes', 'barrette'), ('celing', 'cele'), ('records', 'record'), ('plugged', 'plugge'), ('switchrooms', 'switchroom'), ('pumping', 'pump'), ('modifications', 'modification'), ('8,900', '8900'), ('posses', 'poss'), ('associated', 'associate'), ('eyes', 'eye'), ('locks', 'lock'), ('5,561', '5561'), ('7,792', '7792'), ('bldgs', 'bldg'), ('moving', 'move'), ('1,213', '1213'), ('gullies', 'gully'), ('filling', 'fill'), ('lhs', 'lh'), ('others', 'other'), ('ug', 'be'), ('tiles', 'tile'), ('availed', 'avail'), ('1,711', '1711'), ('rated', 'rate'), ('reversing', 'reverse'), ('specified', 'specify'), ('including', 'include'), ('assignments', 'assignment'), ('3,283', '3283'), ('strutts', 'strutt'), ('removed', 'remove'), ('covered', 'cover'), ('locations', 'location'), ('instruments', 'instrument'), ('sheets', 'sheet'), ('attempts', 'attempt'), ('days', 'day'), ('sealing', 'seal'), ('drawpits', 'drawpit'), ('those', 'that'), ('openings', 'opening'), ('paving', 'pave'), ('panels', 'panel'), (\"'n\", 'and'), ('supplied', 'supply'), ('designs', 'design'), ('contractors', 'contractor'), ('3,404', '3404'), ('finishings', 'finishing'), ('mauls', 'maul'), ('1,140', '1140'), ('determining', 'determine'), ('achieved', 'achieve'), ('materials', 'material'), ('lifting', 'lift'), ('brackets', 'bracket'), ('tunnels', 'tunnel'), ('struts', 'strut'), ('galvanised', 'galvanise'), ('voids', 'void'), ('cables', 'cable'), ('stepped', 'step'), ('ending', 'end'), ('painting', 'paint'), ('10,781', '10781'), ('valves', 'valve'), (\"w/dc's\", \"w/dc'\"), ('vehicles', 'vehicle'), ('1,371', '1371'), ('building', 'build'), ('games', 'game'), ('coord', 'Coord'), ('affected', 'affect'), ('2,426', '2426'), ('1,812', '1812'), ('18,027', '18027'), ('are', 'be'), ('15,720', '15720'), ('conditions', 'condition'), ('conduits', 'conduit'), ('an', 'a'), ('following', 'follow'), ('endorsed', 'endorse'), ('lagging', 'lag'), ('3,522', '3522'), ('7,001', '7001'), ('overlapping', 'overlap'), ('2,022', '2022'), ('replaces', 'replace'), ('contolling', 'contol'), ('docs', 'doc'), ('gates', 'gate'), ('drivers', 'driver'), ('blinding', 'blind'), ('suspended', 'suspend'), ('runs', 'run'), ('1,957', '1957'), ('11,904', '11904'), ('1,264', '1264'), ('receiving', 'receive'), ('finishes', 'finish'), ('23,180', '23180'), ('plan&programming', 'plan&programm'), ('8,666', '8666'), ('platforms', 'platform'), ('ribs', 'rib'), ('sliding', 'slide'), ('shutters', 'shutter'), ('4,877', '4877'), ('2,224', '2224'), ('ca', 'can'), ('staircases', 'staircase'), ('4,632', '4632'), ('i.s.', 'I.s.'), ('g', 'gram'), ('3,408', '3408'), ('modified', 'modify'), ('strutures', 'struture'), ('ties', 'tie'), ('25,688', '25688'), ('thru', 'through'), ('wk@s', 'wk@'), ('beams', 'beam'), ('slewed', 'slew'), ('cutting', 'cut'), ('caps', 'cap'), ('lands', 'land'), ('1,057', '1057'), ('cp87', 'Cp87'), ('preparations', 'preparation'), ('rooms', 'room'), ('2,166', '2166'), ('opening', 'open'), ('using', 'use'), ('barriers', 'barrier'), ('4,421', '4421'), ('founding', 'found'), ('350,000', '350000'), ('pedestrians', 'pedestrian'), ('1,090', '1090'), ('blocks', 'block'), ('3,536', '3536'), ('waling', 'wale'), ('tools', 'tool'), ('launching', 'launch'), ('curing', 'cure'), ('pulling', 'pull'), ('cleaning', 'clean'), ('10,048', '10048'), ('n', 'not'), ('drainages', 'drainage'), ('tecs', 'tec'), ('audits', 'audit'), ('sleepers', 'sleeper'), ('rhs', 'rh'), ('frames', 'frame'), ('ebs', 'eb'), ('dia.gas', 'dia.ga'), ('10,118', '10118'), ('socketed', 'socket'), ('mucking', 'muck'), ('7,351', '7351'), ('12,760', '12760'), ('clearing', 'clear'), ('calculations', 'calculation'), ('options', 'option'), ('remedials', 'remedial'), ('controlling', 'control'), ('cleared', 'clear'), ('2nos', '2no'), ('lights', 'light'), ('commencing', 'commence'), ('1,400', '1400'), ('excavators', 'excavator'), ('furnitures', 'furniture'), ('applications', 'application'), ('latest', 'late'), ('wp+bs+columns', 'wp+bs+column'), ('temp.rising', 'temp.rise'), ('subjected', 'subject'), ('3,422', '3422'), ('explosives', 'explosive'), ('drains', 'drain'), ('points', 'point'), ('1,346', '1346'), ('companies', 'company'), ('stated', 'state'), ('min', 'minute'), ('sleeper', 'sleep'), ('1,405', '1405'), ('logistics', 'logistic'), ('appointed', 'appoint'), ('excluding', 'exclude'), ('diversions', 'diversion'), ('rails', 'rail'), ('10nos', '10no'), ('breaking', 'break'), ('1,432', '1432'), ('connections', 'connection'), ('5,811', '5811'), ('bound', 'bind'), ('authorities', 'authority'), ('wan', 'want'), ('containers', 'container'), ('slopes', 'slope'), ('6,643', '6643'), ('fins', 'fin'), ('spanned', 'span'), ('km', 'kilometer'), ('specifications', 'specification'), ('revised', 'revise'), ('8,485', '8485'), ('fro', 'for'), ('may', 'May'), ('mats', 'mat'), ('splitting', 'split'), ('prebored', 'prebor'), ('units', 'unit'), ('heading', 'head'), ('signals', 'signal'), ('30,903', '30903'), ('skirting', 'skirt'), ('erecting', 'erect'), ('sms', 'sm'), ('tanks', 'tank'), ('schemes', 'scheme'), ('indicated', 'indicate'), ('stations', 'station'), ('11,571', '11571'), ('repeated', 'repeat'), ('footings', 'footing'), ('bays', 'bay'), ('manholes', 'manhole'), ('fittings', 'fitting'), ('left', 'leave'), ('obtained', 'obtain'), ('his', 'he'), ('utilities', 'utility'), ('cedd', 'ced'), ('stillages', 'stillage'), ('6,782', '6782'), ('concreting', 'concrete'), ('w', 'with'), ('completes', 'complete'), ('rolling', 'roll'), ('5,440', '5440'), ('turning', 'turn'), ('mains', 'main'), ('2,629', '2629'), ('250,000', '250000'), ('nibs', 'nib'), ('required', 'require'), ('cars', 'car'), ('12,158', '12158'), ('ancillaries', 'ancillary'), ('3,450', '3450'), ('earliest', 'early'), ('7,753', '7753'), ('12,038', '12038'), ('re-propping', 're-prop'), ('cabes', 'cabe'), ('coridors', 'coridor'), ('communications', 'communication'), ('backfillling', 'backfillle'), ('d/t', 'det'), ('retaining', 'retain'), ('woks', 'wok'), ('1,409', '1409'), ('hr', 'hour'), ('channels', 'channel'), ('sealed', 'seal'), ('footbridges', 'footbridge'), ('r', 'be'), ('falseworks', 'falsework'), ('existing', 'exist'), ('accesss', 'access'), ('issued', 'issue'), ('walls', 'wall'), ('trials', 'trial'), ('commissioning', 'commission'), ('marking', 'mark'), ('undrained', 'undrain'), ('their', 'they'), ('waterproofing', 'waterproof'), ('substations', 'substation'), ('pours', 'pour'), ('ta', 'to'), ('hoardings', 'hoarding'), ('kc', 'KC'), ('agreed', 'agree'), ('gathered', 'gather'), ('adn', 'and'), ('ends', 'end'), ('freezing', 'freeze'), ('reinforced', 'reinforce'), ('curved', 'curve'), ('fishponds', 'fishpond'), ('2,320', '2320'), ('assigned', 'assign'), ('inspections', 'inspection'), ('1,341', '1341'), ('mines', 'mine'), ('moulds', 'mould'), ('advise', 'advice'), ('compressed', 'compress'), ('h-piles', 'h-pile'), ('2,627', '2627'), ('8,785', '8785'), ('ln1', 'lno'), ('adits', 'adit'), ('permits', 'permit'), ('gauging', 'gauge'), ('encountered', 'encounter'), ('forms', 'form'), ('lifts', 'lift'), ('1,618', '1618'), ('wks', 'wk'), ('dividing', 'divide'), ('has', 'have'), ('28,892', '28892'), ('fans', 'fan'), ('mixed', 'mix'), ('mps', 'mp'), ('7,699', '7699'), ('details', 'detail'), ('colunms', 'colunm'), ('a-', 'a'), ('drawings', 'drawing'), ('diverted', 'divert'), ('items', 'item'), ('setting', 'set'), ('operations', 'operation'), ('junctions', 'junction'), ('laying', 'lay'), ('drives', 'drive'), ('1,750', '1750'), ('panel�etc', 'aanelyetc'), ('landing', 'land'), ('proposed', 'propose'), ('spiles', 'spile'), ('1,404', '1404'), ('5,186', '5186'), ('planned', 'plan'), ('s47', 'S47'), ('enclosing', 'enclose'), ('jacks', 'jack'), ('2,566', '2566'), ('fences', 'fence'), ('13,145', '13145'), ('24hrs', '24hr'), ('2sets', '2set'), ('nozzels', 'nozzel'), ('1,058', '1058'), ('8,100', '8100'), ('endosed', 'endose'), ('features', 'feature'), ('8,192', '8192'), ('placed', 'place'), ('corrugated', 'corrugate'), ('3,050', '3050'), ('dwgs', 'dwg'), ('reviewed', 'review'), ('gantries', 'gantry'), ('1,150', '1150'), ('tracks', 'track'), ('7,481', '7481'), ('finishing', 'finish'), ('columns', 'column'), ('resubmitted', 'resubmit'), ('layouts', 'layout'), ('doors', 'door'), ('areas', 'area'), ('bracings', 'bracing'), ('shown', 'show'), ('shifting', 'shift'), ('nozzles', 'nozzle'), ('comments', 'comment'), ('electrics', 'electric'), ('been', 'be'), ('contaminated', 'contaminate'), ('resources', 'resource'), ('anticipated', 'anticipate'), ('drawing', 'draw'), ('els', 'el'), ('19,296', '19296'), ('1,015', '1015'), ('plants', 'plant'), ('trenches', 'trench'), ('rigs', 'rig'), ('na', 'to'), ('scaffolding', 'scaffold'), ('slabs', 'slab'), ('bearing', 'bear'), ('2,735', '2735'), ('dismantled', 'dismantle'), ('hydroseed', 'hydrose'), ('granted', 'grant'), ('levelling', 'level'), ('w/', 'with')]\n"
     ]
    }
   ],
   "source": [
    "unique_tokens_lemas = list(set(names_tokens_lemmas)) \n",
    "print(unique_tokens_lemas)"
   ]
  },
  {
   "cell_type": "markdown",
   "metadata": {},
   "source": [
    "# Observations\n",
    "### Calculation Duration\n",
    "Lemmatizing all sentences takes a long time (40 minutes and running)\n",
    "\n",
    "### Results  \n",
    "1. Verbs: Lemmas appear to be useful to normalize inflections:  \n",
    "'specified', 'specify'; 'designated', 'designate'; 'built', 'build'    \n",
    "2. Nouns: Plural form lemmas may be misleading as the plural form may indicate a significant difference in work load:   \n",
    "'tunnels' -> 'tunnel', 'gates' -> 'gate', 'wkys', 'wky'  \n",
    "<font color='red'>! Lemmatization or another process to distinguish plural from singular forms may be useful to identify dissimilarities between tasks </font>   \n",
    "difflib.ndiff may also be useful to distinguish plural from singular forms: https://stackoverflow.com/questions/17904097/python-difference-between-two-strings/17904977"
   ]
  },
  {
   "cell_type": "code",
   "execution_count": null,
   "metadata": {},
   "outputs": [],
   "source": []
  }
 ],
 "metadata": {
  "kernelspec": {
   "display_name": "Python 3 (ipykernel)",
   "language": "python",
   "name": "python3"
  },
  "language_info": {
   "codemirror_mode": {
    "name": "ipython",
    "version": 3
   },
   "file_extension": ".py",
   "mimetype": "text/x-python",
   "name": "python",
   "nbconvert_exporter": "python",
   "pygments_lexer": "ipython3",
   "version": "3.9.7"
  }
 },
 "nbformat": 4,
 "nbformat_minor": 4
}
