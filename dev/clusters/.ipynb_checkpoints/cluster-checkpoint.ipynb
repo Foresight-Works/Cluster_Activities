{
 "cells": [
  {
   "cell_type": "code",
   "execution_count": 181,
   "id": "f2dee1e3",
   "metadata": {},
   "outputs": [],
   "source": [
    "import re\n",
    "import os\n",
    "import time\n",
    "import random\n",
    "from concurrent.futures import ProcessPoolExecutor\n",
    "from functools import reduce\n",
    "\n",
    "import pandas as pd\n",
    "pd.set_option(\"display.max_rows\", None, \"display.max_columns\", None, 'display.max_colwidth', 100)\n",
    "import numpy as np\n",
    "from scipy.spatial.distance import pdist, squareform\n",
    "\n",
    "from sentence_transformers import SentenceTransformer, util\n",
    "from sklearn.cluster import SpectralClustering, AgglomerativeClustering\n",
    "from matplotlib import pyplot as plt\n",
    "from scipy.cluster.hierarchy import dendrogram\n",
    "\n",
    "data_dir = 'C:\\\\Users\\\\RonyArmon\\\\Projects_Code\\\\Cluster_Activities\\\\results'\n",
    "results_dir = os.path.join(data_dir, 'clusters')"
   ]
  },
  {
   "cell_type": "markdown",
   "id": "ded48a37",
   "metadata": {},
   "source": [
    "# Data and Embeddings "
   ]
  },
  {
   "cell_type": "code",
   "execution_count": null,
   "id": "917d0f67",
   "metadata": {},
   "outputs": [],
   "source": [
    "names = list(set(open(os.path.join(data_dir, 'names.txt')).read().split('\\n')))"
   ]
  },
  {
   "cell_type": "code",
   "execution_count": null,
   "id": "61fdf9b4",
   "metadata": {},
   "outputs": [],
   "source": [
    "%%time\n",
    "transformer_model = SentenceTransformer('all-MiniLM-L6-v2')\n",
    "print('{} names'.format(len(names)))\n",
    "names_embeddings = transformer_model.encode(names, convert_to_tensor=True)"
   ]
  },
  {
   "cell_type": "code",
   "execution_count": null,
   "id": "8b409664",
   "metadata": {},
   "outputs": [],
   "source": [
    "def model_conf_instance(model_name, hyper_params_conf):\n",
    "\n",
    "    '''\n",
    "    Build an instance of the model with it's hyperparameters\n",
    "    :params:\n",
    "    model_name: The modelling method applied\n",
    "    hyper_params_conf: A dictionary relating hyperparameters(key) to their values\n",
    "    :return:\n",
    "    A model-configuration object ready for training\n",
    "    '''\n",
    "\n",
    "    if model_name == 'SpectralClustering': model_conf = SpectralClustering(**hyper_params_conf)\n",
    "    if model_name == 'AgglomerativeClustering': model_conf = AgglomerativeClustering(**hyper_params_conf)\n",
    "    \n",
    "    return model_conf\n",
    "\n",
    "def get_clusters(X, model_name, hyper_params_conf):\n",
    "    model_conf = model_conf_instance(model_name, hyper_params_conf)\n",
    "    print('model_conf', model_conf)\n",
    "    clustering = model_conf.fit(X)\n",
    "    clusters_df = pd.DataFrame()\n",
    "    clusters_df['name'] = names\n",
    "    clusters_df['cluster'] = clustering.labels_\n",
    "    clusters_df = clusters_df.sort_values(by=['cluster'], ascending=False)\n",
    "    #print('distances:', clustering.distances_)\n",
    "    #print('children:', clustering.children_)\n",
    "    counts = np.zeros(clustering.children_.shape[0])\n",
    "    return clustering, clusters_df\n",
    "\n",
    "\n",
    "def results_file_name(model_name, hyper_params_conf):\n",
    "    exclude = ['random_state', 'compute_distances']\n",
    "    for k,v in hyper_params_conf.items():\n",
    "        if k not in exclude : model_name += '_{k}{v}'.format(k=k, v=str(v).capitalize())    \n",
    "    #name = name[:-1]\n",
    "    return  model_name\n",
    "\n",
    "def plot_dendrogram(model, **kwargs):\n",
    "    # Create linkage matrix and then plot the dendrogram\n",
    "\n",
    "    # create the counts of samples under each node\n",
    "    counts = np.zeros(model.children_.shape[0])\n",
    "    n_samples = len(model.labels_)\n",
    "    for i, merge in enumerate(model.children_):\n",
    "        current_count = 0\n",
    "        for child_idx in merge:\n",
    "            if child_idx < n_samples:\n",
    "                current_count += 1  # leaf node\n",
    "            else:\n",
    "                current_count += counts[child_idx - n_samples]\n",
    "        counts[i] = current_count\n",
    "\n",
    "    linkage_matrix = np.column_stack(\n",
    "        [model.children_, model.distances_, counts]\n",
    "    ).astype(float)\n",
    "\n",
    "    # Plot the corresponding dendrogram\n",
    "    dendrogram(linkage_matrix, **kwargs)\n",
    "    \n",
    "    \n",
    "def plot_dendrogram(model, **kwargs):\n",
    "    plt.title(\"Hierarchical Clustering Dendrogram\")\n",
    "    plt.xlabel(\"Number of points in node (or index of point if no parenthesis).\")\n",
    "\n",
    "    # Create linkage matrix and then plot the dendrogram\n",
    "\n",
    "    # create the counts of samples under each node\n",
    "    counts = np.zeros(model.children_.shape[0])\n",
    "    n_samples = len(model.labels_)\n",
    "    for i, merge in enumerate(model.children_):\n",
    "        current_count = 0\n",
    "        for child_idx in merge:\n",
    "            if child_idx < n_samples:\n",
    "                current_count += 1  # leaf node\n",
    "            else:\n",
    "                current_count += counts[child_idx - n_samples]\n",
    "        counts[i] = current_count\n",
    "\n",
    "    linkage_matrix = np.column_stack(\n",
    "        [model.children_, model.distances_, counts]\n",
    "    ).astype(float)\n",
    "\n",
    "    # Plot the corresponding dendrogram\n",
    "    dendrogram(linkage_matrix, **kwargs)\n",
    "    \n",
    "    fig1 = plt.gcf()\n",
    "    return fig1\n",
    "\n",
    "def calculate_wcss(clusters_file):\n",
    "    print('file:', clusters_file)\n",
    "    name = clusters_file.replace('.xlsx', '')\n",
    "    cluster_num = int(re.findall('(\\d{1,})', name)[0])\n",
    "    file_df = pd.read_excel(os.path.join(Agg_Clust_path, clusters_file))\n",
    "    clusters = list(file_df['cluster'].unique())\n",
    "    wcss = 0 #wcss\n",
    "    for cluster in clusters:\n",
    "        print('cluster:', cluster)\n",
    "        cluster_names = list(file_df['name'][file_df['cluster']==cluster])\n",
    "        names_embeddings = transformer_model.encode(cluster_names, convert_to_tensor=True)\n",
    "        names_embeddings = np.array(names_embeddings)\n",
    "        cluster_distances = squareform(pdist(names_embeddings, 'sqeuclidean'))\n",
    "        Dr = np.sum(np.triu(cluster_distances))\n",
    "        print('cluster_Dr:', Dr)\n",
    "        weighted_Dr = Dr/(2*len(cluster_names))\n",
    "        print('weighted_Dr=', weighted_Dr)\n",
    "        wcss += weighted_Dr\n",
    "        print('pooled=', wcss)\n",
    "    return (name, wcss)"
   ]
  },
  {
   "cell_type": "code",
   "execution_count": null,
   "id": "8b383745",
   "metadata": {},
   "outputs": [],
   "source": [
    "X = np.array([[1, 1], [2, 1], [1, 0],\n",
    "               [4, 7], [3, 5], [3, 6]])\n",
    "names = ['a','b', 'c', 'd', 'e', 'f']\n",
    "hyper_params_conf = {'n_clusters':3, 'affinity':'euclidean', 'compute_distances':True}\n",
    "model_name = 'AgglomerativeClustering'\n",
    "clustering, clusters_df = get_clusters(X, model_name, hyper_params_conf)\n",
    "fig = plot_dendrogram(clustering, truncate_mode=\"level\", p=3)\n",
    "fig.savefig('fig.png')"
   ]
  },
  {
   "cell_type": "code",
   "execution_count": null,
   "id": "8e8fec64",
   "metadata": {},
   "outputs": [],
   "source": [
    "X = np.array(names_embeddings)\n",
    "model_name = 'SpectralClustering'\n",
    "hyper_params_conf = {'n_clusters':2, 'affinity':'rbf', 'assign_labels':'discretize', 'random_state': 0}\n",
    "model_name = 'AgglomerativeClustering'\n",
    "models = {}\n",
    "for n_clusters in range(400, 2000, 50):\n",
    "    #for affinity in ['euclidean', 'l1', 'l2', 'manhattan', 'cosine']:\n",
    "        # To buil dendogram add compute_distances\n",
    "        affinity = 'euclidean'\n",
    "        hyper_params_conf = {'n_clusters':n_clusters, 'affinity':affinity, 'compute_distances':True} \n",
    "        hyper_params_conf = {'n_clusters':n_clusters, 'affinity':affinity}\n",
    "        \n",
    "        print('model params:', hyper_params_conf)\n",
    "        file_name = results_file_name(model_name, hyper_params_conf)\n",
    "        print('file_name:', file_name)\n",
    "        clustering, clusters_df = get_clusters(X, model_name, hyper_params_conf)\n",
    "        models[file_name] = clustering\n",
    "        #dendogram = plot_dendrogram(clustering)#, truncate_mode=\"level\", p=3)\n",
    "        #dendogram.savefig(os.path.join(results_dir, '{fn}.png'.format(fn=file_name)))\n",
    "        clusters_df.to_excel(os.path.join(results_dir, '{fn}.xlsx'.format(fn=file_name)), index = False)"
   ]
  },
  {
   "cell_type": "markdown",
   "id": "8e56f106",
   "metadata": {},
   "source": [
    "# Cluster Performance  \n",
    "Use the results per each cluster number to calculate the pooled within-cluster sum of squares (wcss), then plot the relation between the number of clusters used and the wcss score obtained. The wcss score is a measure of cluster compactness. The smaller the score, the more compact is the set of elements in the clusters established.  \n",
    "\n",
    "**Calculation**    \n",
    "k Clusters (C1, C2, .., Ck) \n",
    "Cr: Indices for observations in cluster r; nr = |Cr|  \n",
    "p,q: Feature vectors for a pair of points in Cr\n",
    "1. Euclidean distance for each p,q pair     \n",
    "$ d_{p,q}=\\sqrt{\\sum _{i=1}^{n} \\left( q_{i}-p_{i}\\right)^2 } $  \n",
    "2. Calculate the sum of the squared distances between all points in Cr    \n",
    "$ D_r=\\sum_{i,j \\in C_r}d_{p,q} $  \n",
    "3. Calculate the pooled within-cluster sum of squares across all clusters    \n",
    "$ wcss = \\sum_{r=1}^{k}\\frac 1 {(2*n_r) }D_r $"
   ]
  },
  {
   "cell_type": "code",
   "execution_count": null,
   "id": "acf08039",
   "metadata": {},
   "outputs": [],
   "source": [
    "def calculate_wcss(clusters_file):\n",
    "    \n",
    "    print('file:', clusters_file)\n",
    "    name = clusters_file.replace('.xlsx', '')\n",
    "    cluster_num = int(re.findall('(\\d{1,})', name)[0])\n",
    "    file_df = pd.read_excel(os.path.join(Agg_Clust_path, clusters_file))\n",
    "    clusters = list(file_df['cluster'].unique())\n",
    "    wcss = 0 #wcss\n",
    "    for cluster in clusters:\n",
    "        print('cluster:', cluster)\n",
    "        cluster_names = list(file_df['name'][file_df['cluster']==cluster])\n",
    "        names_embeddings = transformer_model.encode(cluster_names, convert_to_tensor=True)\n",
    "        names_embeddings = np.array(names_embeddings)\n",
    "        cluster_distances = squareform(pdist(names_embeddings, 'sqeuclidean'))\n",
    "        Dr = np.sum(np.triu(cluster_distances))\n",
    "        print('cluster_Dr:', Dr)\n",
    "        weighted_Dr = Dr/(2*len(cluster_names))\n",
    "        print('weighted_Dr=', weighted_Dr)\n",
    "        wcss += weighted_Dr\n",
    "        print('pooled=', wcss)\n",
    "    return (name, wcss)"
   ]
  },
  {
   "cell_type": "code",
   "execution_count": 168,
   "id": "f4251505",
   "metadata": {
    "scrolled": true
   },
   "outputs": [
    {
     "data": {
      "image/png": "[encoded data removed]",
      "text/plain": [
       "<Figure size 432x288 with 1 Axes>"
      ]
     },
     "metadata": {
      "needs_background": "light"
     },
     "output_type": "display_data"
    }
   ],
   "source": [
    "Agg_Clust_path = os.path.join(results_dir, 'AgglomerativeClustering_affinityEuclidean')\n",
    "clusters_files = os.listdir(Agg_Clust_path)\n",
    "clusters_files = [f for f in clusters_files if (('.xlsx' in f) & ('~$' not in f))]\n",
    "wcsos1 = {}\n",
    "for clusters_file in clusters_files:\n",
    "    wcss, name = calculate_wcss(clusters_file)\n",
    "    wcsos1[name] = wcss\n",
    "results = []\n",
    "for k, v in wcsos.items():\n",
    "    cluster_num = int(re.findall('(\\d{1,})', k)[0])\n",
    "    results.append([cluster_num, v])\n",
    "wcss = round(pd.DataFrame(results, columns = ['num_clusters', 'score']).sort_values(by=['num_clusters'])).astype(int)\n",
    "nums_clusters, scores = list(wcss['num_clusters']), list(wcss['score'])\n",
    "plt.clf()\n",
    "plt.plot(nums_clusters, scores)\n",
    "plt.xlabel('Number of clusters')\n",
    "plt.ylabel('WCSS') \n",
    "plt.show()"
   ]
  },
  {
   "cell_type": "markdown",
   "id": "3c2eb981",
   "metadata": {},
   "source": [
    "# Compare clustering by clustering method for each name "
   ]
  },
  {
   "cell_type": "code",
   "execution_count": 204,
   "id": "4a20fbfc",
   "metadata": {},
   "outputs": [
    {
     "name": "stderr",
     "output_type": "stream",
     "text": [
      "C:\\Users\\RONYAR~1\\AppData\\Local\\Temp/ipykernel_14632/2016138480.py:8: FutureWarning: Passing 'suffixes' which cause duplicate columns {'cluster_x'} in the result is deprecated and will raise a MergeError in a future version.\n",
      "  clusters_results = reduce(lambda left,right: pd.merge(left,right,on=['name'],\n"
     ]
    }
   ],
   "source": [
    "dfs = {}\n",
    "for clusters_file in clusters_files:\n",
    "    name = clusters_file.replace('.xlsx', '')\n",
    "    cluster_num = int(re.findall('(\\d{1,})', name)[0])\n",
    "    col = '{n}_clusters'.format(n=cluster_num)\n",
    "    dfs[col] = pd.read_excel(os.path.join(Agg_Clust_path, clusters_file)).sort_values(by = ['name'])\n",
    "cols = ['name'] + list(dfs.keys())\n",
    "clusters_results = reduce(lambda left,right: pd.merge(left,right,on=['name'],\n",
    "                                            how='inner'), list(dfs.values()))\n"
   ]
  },
  {
   "cell_type": "code",
   "execution_count": 205,
   "id": "f0bc5fc3",
   "metadata": {},
   "outputs": [
    {
     "name": "stdout",
     "output_type": "stream",
     "text": [
      "['name', '1050_clusters', '1100_clusters', '1150_clusters', '1200_clusters', '1250_clusters', '1300_clusters', '1350_clusters', '1400_clusters', '1450_clusters', '1500_clusters', '1550_clusters', '1600_clusters', '1650_clusters', '1700_clusters', '1750_clusters', '1800_clusters', '1850_clusters', '1900_clusters', '1950_clusters', '300_clusters', '350_clusters', '400_clusters', '450_clusters', '500_clusters', '550_clusters', '600_clusters', '650_clusters', '700_clusters', '750_clusters', '800_clusters', '850_clusters', '900_clusters', '950_clusters']\n"
     ]
    }
   ],
   "source": [
    "print(cols)"
   ]
  },
  {
   "cell_type": "code",
   "execution_count": 206,
   "id": "6a9e0818",
   "metadata": {},
   "outputs": [],
   "source": [
    "cols = ['name', '300_clusters', '350_clusters', '400_clusters', '450_clusters',\\\n",
    " '500_clusters', '550_clusters', '600_clusters', '650_clusters', '700_clusters',\\\n",
    " '750_clusters', '800_clusters', '850_clusters', '900_clusters', '950_clusters',\\\n",
    " '1050_clusters', '1100_clusters', '1150_clusters', '1200_clusters', '1250_clusters', '1300_clusters',\\\n",
    " '1350_clusters', '1400_clusters', '1450_clusters', '1500_clusters', '1550_clusters', '1600_clusters', '1650_clusters',\\\n",
    " '1700_clusters', '1750_clusters', '1800_clusters', '1850_clusters', '1900_clusters', '1950_clusters']"
   ]
  },
  {
   "cell_type": "code",
   "execution_count": 208,
   "id": "98d3fa99",
   "metadata": {},
   "outputs": [
    {
     "ename": "KeyError",
     "evalue": "\"['950_clusters1050_clusters'] not in index\"",
     "output_type": "error",
     "traceback": [
      "\u001b[1;31m---------------------------------------------------------------------------\u001b[0m",
      "\u001b[1;31mKeyError\u001b[0m                                  Traceback (most recent call last)",
      "\u001b[1;32mC:\\Users\\RONYAR~1\\AppData\\Local\\Temp/ipykernel_14632/2511553856.py\u001b[0m in \u001b[0;36m<module>\u001b[1;34m\u001b[0m\n\u001b[1;32m----> 1\u001b[1;33m \u001b[0mclusters_results\u001b[0m \u001b[1;33m=\u001b[0m \u001b[0mclusters_results\u001b[0m\u001b[1;33m[\u001b[0m\u001b[0mcols\u001b[0m\u001b[1;33m]\u001b[0m\u001b[1;33m\u001b[0m\u001b[1;33m\u001b[0m\u001b[0m\n\u001b[0m\u001b[0;32m      2\u001b[0m \u001b[0mclusters_results\u001b[0m\u001b[1;33m.\u001b[0m\u001b[0mto_excel\u001b[0m\u001b[1;33m(\u001b[0m\u001b[0mos\u001b[0m\u001b[1;33m.\u001b[0m\u001b[0mpath\u001b[0m\u001b[1;33m.\u001b[0m\u001b[0mjoin\u001b[0m\u001b[1;33m(\u001b[0m\u001b[0mresults_dir\u001b[0m\u001b[1;33m,\u001b[0m \u001b[1;34m'clusters_results.xlsx'\u001b[0m\u001b[1;33m)\u001b[0m\u001b[1;33m)\u001b[0m\u001b[1;33m\u001b[0m\u001b[1;33m\u001b[0m\u001b[0m\n",
      "\u001b[1;32m~\\anaconda3\\lib\\site-packages\\pandas\\core\\frame.py\u001b[0m in \u001b[0;36m__getitem__\u001b[1;34m(self, key)\u001b[0m\n\u001b[0;32m   3462\u001b[0m             \u001b[1;32mif\u001b[0m \u001b[0mis_iterator\u001b[0m\u001b[1;33m(\u001b[0m\u001b[0mkey\u001b[0m\u001b[1;33m)\u001b[0m\u001b[1;33m:\u001b[0m\u001b[1;33m\u001b[0m\u001b[1;33m\u001b[0m\u001b[0m\n\u001b[0;32m   3463\u001b[0m                 \u001b[0mkey\u001b[0m \u001b[1;33m=\u001b[0m \u001b[0mlist\u001b[0m\u001b[1;33m(\u001b[0m\u001b[0mkey\u001b[0m\u001b[1;33m)\u001b[0m\u001b[1;33m\u001b[0m\u001b[1;33m\u001b[0m\u001b[0m\n\u001b[1;32m-> 3464\u001b[1;33m             \u001b[0mindexer\u001b[0m \u001b[1;33m=\u001b[0m \u001b[0mself\u001b[0m\u001b[1;33m.\u001b[0m\u001b[0mloc\u001b[0m\u001b[1;33m.\u001b[0m\u001b[0m_get_listlike_indexer\u001b[0m\u001b[1;33m(\u001b[0m\u001b[0mkey\u001b[0m\u001b[1;33m,\u001b[0m \u001b[0maxis\u001b[0m\u001b[1;33m=\u001b[0m\u001b[1;36m1\u001b[0m\u001b[1;33m)\u001b[0m\u001b[1;33m[\u001b[0m\u001b[1;36m1\u001b[0m\u001b[1;33m]\u001b[0m\u001b[1;33m\u001b[0m\u001b[1;33m\u001b[0m\u001b[0m\n\u001b[0m\u001b[0;32m   3465\u001b[0m \u001b[1;33m\u001b[0m\u001b[0m\n\u001b[0;32m   3466\u001b[0m         \u001b[1;31m# take() does not accept boolean indexers\u001b[0m\u001b[1;33m\u001b[0m\u001b[1;33m\u001b[0m\u001b[0m\n",
      "\u001b[1;32m~\\anaconda3\\lib\\site-packages\\pandas\\core\\indexing.py\u001b[0m in \u001b[0;36m_get_listlike_indexer\u001b[1;34m(self, key, axis)\u001b[0m\n\u001b[0;32m   1312\u001b[0m             \u001b[0mkeyarr\u001b[0m\u001b[1;33m,\u001b[0m \u001b[0mindexer\u001b[0m\u001b[1;33m,\u001b[0m \u001b[0mnew_indexer\u001b[0m \u001b[1;33m=\u001b[0m \u001b[0max\u001b[0m\u001b[1;33m.\u001b[0m\u001b[0m_reindex_non_unique\u001b[0m\u001b[1;33m(\u001b[0m\u001b[0mkeyarr\u001b[0m\u001b[1;33m)\u001b[0m\u001b[1;33m\u001b[0m\u001b[1;33m\u001b[0m\u001b[0m\n\u001b[0;32m   1313\u001b[0m \u001b[1;33m\u001b[0m\u001b[0m\n\u001b[1;32m-> 1314\u001b[1;33m         \u001b[0mself\u001b[0m\u001b[1;33m.\u001b[0m\u001b[0m_validate_read_indexer\u001b[0m\u001b[1;33m(\u001b[0m\u001b[0mkeyarr\u001b[0m\u001b[1;33m,\u001b[0m \u001b[0mindexer\u001b[0m\u001b[1;33m,\u001b[0m \u001b[0maxis\u001b[0m\u001b[1;33m)\u001b[0m\u001b[1;33m\u001b[0m\u001b[1;33m\u001b[0m\u001b[0m\n\u001b[0m\u001b[0;32m   1315\u001b[0m \u001b[1;33m\u001b[0m\u001b[0m\n\u001b[0;32m   1316\u001b[0m         if needs_i8_conversion(ax.dtype) or isinstance(\n",
      "\u001b[1;32m~\\anaconda3\\lib\\site-packages\\pandas\\core\\indexing.py\u001b[0m in \u001b[0;36m_validate_read_indexer\u001b[1;34m(self, key, indexer, axis)\u001b[0m\n\u001b[0;32m   1375\u001b[0m \u001b[1;33m\u001b[0m\u001b[0m\n\u001b[0;32m   1376\u001b[0m             \u001b[0mnot_found\u001b[0m \u001b[1;33m=\u001b[0m \u001b[0mlist\u001b[0m\u001b[1;33m(\u001b[0m\u001b[0mensure_index\u001b[0m\u001b[1;33m(\u001b[0m\u001b[0mkey\u001b[0m\u001b[1;33m)\u001b[0m\u001b[1;33m[\u001b[0m\u001b[0mmissing_mask\u001b[0m\u001b[1;33m.\u001b[0m\u001b[0mnonzero\u001b[0m\u001b[1;33m(\u001b[0m\u001b[1;33m)\u001b[0m\u001b[1;33m[\u001b[0m\u001b[1;36m0\u001b[0m\u001b[1;33m]\u001b[0m\u001b[1;33m]\u001b[0m\u001b[1;33m.\u001b[0m\u001b[0munique\u001b[0m\u001b[1;33m(\u001b[0m\u001b[1;33m)\u001b[0m\u001b[1;33m)\u001b[0m\u001b[1;33m\u001b[0m\u001b[1;33m\u001b[0m\u001b[0m\n\u001b[1;32m-> 1377\u001b[1;33m             \u001b[1;32mraise\u001b[0m \u001b[0mKeyError\u001b[0m\u001b[1;33m(\u001b[0m\u001b[1;34mf\"{not_found} not in index\"\u001b[0m\u001b[1;33m)\u001b[0m\u001b[1;33m\u001b[0m\u001b[1;33m\u001b[0m\u001b[0m\n\u001b[0m\u001b[0;32m   1378\u001b[0m \u001b[1;33m\u001b[0m\u001b[0m\n\u001b[0;32m   1379\u001b[0m \u001b[1;33m\u001b[0m\u001b[0m\n",
      "\u001b[1;31mKeyError\u001b[0m: \"['950_clusters1050_clusters'] not in index\""
     ]
    }
   ],
   "source": [
    "clusters_results = clusters_results[cols]\n",
    "clusters_results.to_excel(os.path.join(results_dir, 'clusters_results.xlsx'))"
   ]
  },
  {
   "cell_type": "code",
   "execution_count": null,
   "id": "91d618ee",
   "metadata": {},
   "outputs": [],
   "source": []
  }
 ],
 "metadata": {
  "kernelspec": {
   "display_name": "Python 3 (ipykernel)",
   "language": "python",
   "name": "python3"
  },
  "language_info": {
   "codemirror_mode": {
    "name": "ipython",
    "version": 3
   },
   "file_extension": ".py",
   "mimetype": "text/x-python",
   "name": "python",
   "nbconvert_exporter": "python",
   "pygments_lexer": "ipython3",
   "version": "3.9.7"
  }
 },
 "nbformat": 4,
 "nbformat_minor": 5
}
