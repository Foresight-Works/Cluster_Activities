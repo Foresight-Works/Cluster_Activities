{
 "cells": [
  {
   "cell_type": "markdown",
   "metadata": {},
   "source": [
    "# Names normalization using the nltk stemmers and lemmatizer "
   ]
  },
  {
   "cell_type": "code",
   "execution_count": 1,
   "metadata": {
    "scrolled": false
   },
   "outputs": [
    {
     "name": "stderr",
     "output_type": "stream",
     "text": [
      "2021-12-26 09:15:19 INFO: Loading these models for language: en (English):\n",
      "============================\n",
      "| Processor    | Package   |\n",
      "----------------------------\n",
      "| tokenize     | combined  |\n",
      "| pos          | combined  |\n",
      "| lemma        | combined  |\n",
      "| depparse     | combined  |\n",
      "| sentiment    | sstplus   |\n",
      "| constituency | wsj       |\n",
      "| ner          | ontonotes |\n",
      "============================\n",
      "\n",
      "2021-12-26 09:15:19 INFO: Use device: cpu\n",
      "2021-12-26 09:15:19 INFO: Loading: tokenize\n",
      "2021-12-26 09:15:19 INFO: Loading: pos\n",
      "2021-12-26 09:15:19 INFO: Loading: lemma\n",
      "2021-12-26 09:15:19 INFO: Loading: depparse\n",
      "2021-12-26 09:15:19 INFO: Loading: sentiment\n",
      "2021-12-26 09:15:20 INFO: Loading: constituency\n",
      "2021-12-26 09:15:20 INFO: Loading: ner\n",
      "2021-12-26 09:15:21 INFO: Done loading processors!\n"
     ]
    },
    {
     "name": "stdout",
     "output_type": "stream",
     "text": [
      "analyzing 1000 sentences\n",
      "name number  1\n",
      "------------------------------\n",
      "tokens, different lemmas: [('stated', 'state')]\n",
      "name number  2\n",
      "name number  3\n",
      "------------------------------\n",
      "tokens, different lemmas: [('works', 'work'), ('works', 'work')]\n",
      "name number  4\n",
      "name number  5\n",
      "------------------------------\n",
      "tokens, different lemmas: [('tunnels', 'tunnel')]\n",
      "name number  6\n",
      "------------------------------\n",
      "tokens, different lemmas: [('works', 'work')]\n",
      "name number  7\n",
      "name number  8\n",
      "name number  9\n",
      "name number  10\n",
      "name number  11\n",
      "name number  12\n",
      "name number  13\n",
      "name number  14\n",
      "name number  15\n",
      "name number  16\n",
      "name number  17\n",
      "name number  18\n",
      "name number  19\n",
      "name number  20\n",
      "name number  21\n",
      "name number  22\n",
      "name number  23\n",
      "name number  24\n"
     ]
    },
    {
     "ename": "KeyboardInterrupt",
     "evalue": "",
     "output_type": "error",
     "traceback": [
      "\u001b[0;31m---------------------------------------------------------------------------\u001b[0m",
      "\u001b[0;31mKeyboardInterrupt\u001b[0m                         Traceback (most recent call last)",
      "\u001b[0;32m<ipython-input-1-7e84b0e30923>\u001b[0m in \u001b[0;36m<module>\u001b[0;34m\u001b[0m\n\u001b[1;32m     36\u001b[0m     \u001b[0mprint\u001b[0m\u001b[0;34m(\u001b[0m\u001b[0;34m'name number '\u001b[0m\u001b[0;34m,\u001b[0m \u001b[0mindex\u001b[0m\u001b[0;34m+\u001b[0m\u001b[0;36m1\u001b[0m\u001b[0;34m)\u001b[0m\u001b[0;34m\u001b[0m\u001b[0;34m\u001b[0m\u001b[0m\n\u001b[1;32m     37\u001b[0m     \u001b[0mname\u001b[0m \u001b[0;34m=\u001b[0m \u001b[0mname\u001b[0m\u001b[0;34m.\u001b[0m\u001b[0mlower\u001b[0m\u001b[0;34m(\u001b[0m\u001b[0;34m)\u001b[0m\u001b[0;34m\u001b[0m\u001b[0;34m\u001b[0m\u001b[0m\n\u001b[0;32m---> 38\u001b[0;31m     \u001b[0mname\u001b[0m\u001b[0;34m,\u001b[0m \u001b[0mname_tokens_lemmas\u001b[0m \u001b[0;34m=\u001b[0m \u001b[0mlemmatize_text\u001b[0m\u001b[0;34m(\u001b[0m\u001b[0mname\u001b[0m\u001b[0;34m)\u001b[0m\u001b[0;34m\u001b[0m\u001b[0;34m\u001b[0m\u001b[0m\n\u001b[0m\u001b[1;32m     39\u001b[0m     \u001b[0;32mif\u001b[0m \u001b[0mname_tokens_lemmas\u001b[0m\u001b[0;34m:\u001b[0m\u001b[0;34m\u001b[0m\u001b[0;34m\u001b[0m\u001b[0m\n\u001b[1;32m     40\u001b[0m         \u001b[0mprint\u001b[0m\u001b[0;34m(\u001b[0m\u001b[0;36m30\u001b[0m\u001b[0;34m*\u001b[0m\u001b[0;34m'-'\u001b[0m\u001b[0;34m)\u001b[0m\u001b[0;34m\u001b[0m\u001b[0;34m\u001b[0m\u001b[0m\n",
      "\u001b[0;32m<ipython-input-1-7e84b0e30923>\u001b[0m in \u001b[0;36mlemmatize_text\u001b[0;34m(text)\u001b[0m\n\u001b[1;32m     17\u001b[0m \u001b[0;34m\u001b[0m\u001b[0m\n\u001b[1;32m     18\u001b[0m     \u001b[0mtext_tokens_lemmas\u001b[0m \u001b[0;34m=\u001b[0m \u001b[0;34m[\u001b[0m\u001b[0;34m]\u001b[0m\u001b[0;34m\u001b[0m\u001b[0;34m\u001b[0m\u001b[0m\n\u001b[0;32m---> 19\u001b[0;31m     \u001b[0mdoc\u001b[0m \u001b[0;34m=\u001b[0m \u001b[0mnlp\u001b[0m\u001b[0;34m(\u001b[0m\u001b[0mtext\u001b[0m\u001b[0;34m)\u001b[0m\u001b[0;34m\u001b[0m\u001b[0;34m\u001b[0m\u001b[0m\n\u001b[0m\u001b[1;32m     20\u001b[0m     tokens_lemmas = [(word.text, word.lemma) \\\n\u001b[1;32m     21\u001b[0m                      for sent in doc.sentences for word in sent.words]\n",
      "\u001b[0;32m~/anaconda3/lib/python3.7/site-packages/stanza/pipeline/core.py\u001b[0m in \u001b[0;36m__call__\u001b[0;34m(self, doc)\u001b[0m\n\u001b[1;32m    229\u001b[0m         assert any([isinstance(doc, str), isinstance(doc, list),\n\u001b[1;32m    230\u001b[0m                     isinstance(doc, Document)]), 'input should be either str, list or Document'\n\u001b[0;32m--> 231\u001b[0;31m         \u001b[0mdoc\u001b[0m \u001b[0;34m=\u001b[0m \u001b[0mself\u001b[0m\u001b[0;34m.\u001b[0m\u001b[0mprocess\u001b[0m\u001b[0;34m(\u001b[0m\u001b[0mdoc\u001b[0m\u001b[0;34m)\u001b[0m\u001b[0;34m\u001b[0m\u001b[0;34m\u001b[0m\u001b[0m\n\u001b[0m\u001b[1;32m    232\u001b[0m         \u001b[0;32mreturn\u001b[0m \u001b[0mdoc\u001b[0m\u001b[0;34m\u001b[0m\u001b[0;34m\u001b[0m\u001b[0m\n\u001b[1;32m    233\u001b[0m \u001b[0;34m\u001b[0m\u001b[0m\n",
      "\u001b[0;32m~/anaconda3/lib/python3.7/site-packages/stanza/pipeline/core.py\u001b[0m in \u001b[0;36mprocess\u001b[0;34m(self, doc)\u001b[0m\n\u001b[1;32m    223\u001b[0m             \u001b[0;32mif\u001b[0m \u001b[0mself\u001b[0m\u001b[0;34m.\u001b[0m\u001b[0mprocessors\u001b[0m\u001b[0;34m.\u001b[0m\u001b[0mget\u001b[0m\u001b[0;34m(\u001b[0m\u001b[0mprocessor_name\u001b[0m\u001b[0;34m)\u001b[0m\u001b[0;34m:\u001b[0m\u001b[0;34m\u001b[0m\u001b[0;34m\u001b[0m\u001b[0m\n\u001b[1;32m    224\u001b[0m                 \u001b[0mprocess\u001b[0m \u001b[0;34m=\u001b[0m \u001b[0mself\u001b[0m\u001b[0;34m.\u001b[0m\u001b[0mprocessors\u001b[0m\u001b[0;34m[\u001b[0m\u001b[0mprocessor_name\u001b[0m\u001b[0;34m]\u001b[0m\u001b[0;34m.\u001b[0m\u001b[0mbulk_process\u001b[0m \u001b[0;32mif\u001b[0m \u001b[0mbulk\u001b[0m \u001b[0;32melse\u001b[0m \u001b[0mself\u001b[0m\u001b[0;34m.\u001b[0m\u001b[0mprocessors\u001b[0m\u001b[0;34m[\u001b[0m\u001b[0mprocessor_name\u001b[0m\u001b[0;34m]\u001b[0m\u001b[0;34m.\u001b[0m\u001b[0mprocess\u001b[0m\u001b[0;34m\u001b[0m\u001b[0;34m\u001b[0m\u001b[0m\n\u001b[0;32m--> 225\u001b[0;31m                 \u001b[0mdoc\u001b[0m \u001b[0;34m=\u001b[0m \u001b[0mprocess\u001b[0m\u001b[0;34m(\u001b[0m\u001b[0mdoc\u001b[0m\u001b[0;34m)\u001b[0m\u001b[0;34m\u001b[0m\u001b[0;34m\u001b[0m\u001b[0m\n\u001b[0m\u001b[1;32m    226\u001b[0m         \u001b[0;32mreturn\u001b[0m \u001b[0mdoc\u001b[0m\u001b[0;34m\u001b[0m\u001b[0;34m\u001b[0m\u001b[0m\n\u001b[1;32m    227\u001b[0m \u001b[0;34m\u001b[0m\u001b[0m\n",
      "\u001b[0;32m~/anaconda3/lib/python3.7/site-packages/stanza/pipeline/ner_processor.py\u001b[0m in \u001b[0;36mprocess\u001b[0;34m(self, document)\u001b[0m\n\u001b[1;32m     33\u001b[0m         \u001b[0mpreds\u001b[0m \u001b[0;34m=\u001b[0m \u001b[0;34m[\u001b[0m\u001b[0;34m]\u001b[0m\u001b[0;34m\u001b[0m\u001b[0;34m\u001b[0m\u001b[0m\n\u001b[1;32m     34\u001b[0m         \u001b[0;32mfor\u001b[0m \u001b[0mi\u001b[0m\u001b[0;34m,\u001b[0m \u001b[0mb\u001b[0m \u001b[0;32min\u001b[0m \u001b[0menumerate\u001b[0m\u001b[0;34m(\u001b[0m\u001b[0mbatch\u001b[0m\u001b[0;34m)\u001b[0m\u001b[0;34m:\u001b[0m\u001b[0;34m\u001b[0m\u001b[0;34m\u001b[0m\u001b[0m\n\u001b[0;32m---> 35\u001b[0;31m             \u001b[0mpreds\u001b[0m \u001b[0;34m+=\u001b[0m \u001b[0mself\u001b[0m\u001b[0;34m.\u001b[0m\u001b[0mtrainer\u001b[0m\u001b[0;34m.\u001b[0m\u001b[0mpredict\u001b[0m\u001b[0;34m(\u001b[0m\u001b[0mb\u001b[0m\u001b[0;34m)\u001b[0m\u001b[0;34m\u001b[0m\u001b[0;34m\u001b[0m\u001b[0m\n\u001b[0m\u001b[1;32m     36\u001b[0m         \u001b[0mbatch\u001b[0m\u001b[0;34m.\u001b[0m\u001b[0mdoc\u001b[0m\u001b[0;34m.\u001b[0m\u001b[0mset\u001b[0m\u001b[0;34m(\u001b[0m\u001b[0;34m[\u001b[0m\u001b[0mdoc\u001b[0m\u001b[0;34m.\u001b[0m\u001b[0mNER\u001b[0m\u001b[0;34m]\u001b[0m\u001b[0;34m,\u001b[0m \u001b[0;34m[\u001b[0m\u001b[0my\u001b[0m \u001b[0;32mfor\u001b[0m \u001b[0mx\u001b[0m \u001b[0;32min\u001b[0m \u001b[0mpreds\u001b[0m \u001b[0;32mfor\u001b[0m \u001b[0my\u001b[0m \u001b[0;32min\u001b[0m \u001b[0mx\u001b[0m\u001b[0;34m]\u001b[0m\u001b[0;34m,\u001b[0m \u001b[0mto_token\u001b[0m\u001b[0;34m=\u001b[0m\u001b[0;32mTrue\u001b[0m\u001b[0;34m)\u001b[0m\u001b[0;34m\u001b[0m\u001b[0;34m\u001b[0m\u001b[0m\n\u001b[1;32m     37\u001b[0m         \u001b[0;31m# collect entities into document attribute\u001b[0m\u001b[0;34m\u001b[0m\u001b[0;34m\u001b[0m\u001b[0;34m\u001b[0m\u001b[0m\n",
      "\u001b[0;32m~/anaconda3/lib/python3.7/site-packages/stanza/models/ner/trainer.py\u001b[0m in \u001b[0;36mpredict\u001b[0;34m(self, batch, unsort)\u001b[0m\n\u001b[1;32m     96\u001b[0m         \u001b[0mself\u001b[0m\u001b[0;34m.\u001b[0m\u001b[0mmodel\u001b[0m\u001b[0;34m.\u001b[0m\u001b[0meval\u001b[0m\u001b[0;34m(\u001b[0m\u001b[0;34m)\u001b[0m\u001b[0;34m\u001b[0m\u001b[0;34m\u001b[0m\u001b[0m\n\u001b[1;32m     97\u001b[0m         \u001b[0mbatch_size\u001b[0m \u001b[0;34m=\u001b[0m \u001b[0mword\u001b[0m\u001b[0;34m.\u001b[0m\u001b[0msize\u001b[0m\u001b[0;34m(\u001b[0m\u001b[0;36m0\u001b[0m\u001b[0;34m)\u001b[0m\u001b[0;34m\u001b[0m\u001b[0;34m\u001b[0m\u001b[0m\n\u001b[0;32m---> 98\u001b[0;31m         \u001b[0m_\u001b[0m\u001b[0;34m,\u001b[0m \u001b[0mlogits\u001b[0m\u001b[0;34m,\u001b[0m \u001b[0mtrans\u001b[0m \u001b[0;34m=\u001b[0m \u001b[0mself\u001b[0m\u001b[0;34m.\u001b[0m\u001b[0mmodel\u001b[0m\u001b[0;34m(\u001b[0m\u001b[0mword\u001b[0m\u001b[0;34m,\u001b[0m \u001b[0mword_mask\u001b[0m\u001b[0;34m,\u001b[0m \u001b[0mwordchars\u001b[0m\u001b[0;34m,\u001b[0m \u001b[0mwordchars_mask\u001b[0m\u001b[0;34m,\u001b[0m \u001b[0mtags\u001b[0m\u001b[0;34m,\u001b[0m \u001b[0mword_orig_idx\u001b[0m\u001b[0;34m,\u001b[0m \u001b[0msentlens\u001b[0m\u001b[0;34m,\u001b[0m \u001b[0mwordlens\u001b[0m\u001b[0;34m,\u001b[0m \u001b[0mchars\u001b[0m\u001b[0;34m,\u001b[0m \u001b[0mcharoffsets\u001b[0m\u001b[0;34m,\u001b[0m \u001b[0mcharlens\u001b[0m\u001b[0;34m,\u001b[0m \u001b[0mchar_orig_idx\u001b[0m\u001b[0;34m)\u001b[0m\u001b[0;34m\u001b[0m\u001b[0;34m\u001b[0m\u001b[0m\n\u001b[0m\u001b[1;32m     99\u001b[0m \u001b[0;34m\u001b[0m\u001b[0m\n\u001b[1;32m    100\u001b[0m         \u001b[0;31m# decode\u001b[0m\u001b[0;34m\u001b[0m\u001b[0;34m\u001b[0m\u001b[0;34m\u001b[0m\u001b[0m\n",
      "\u001b[0;32m~/anaconda3/lib/python3.7/site-packages/torch/nn/modules/module.py\u001b[0m in \u001b[0;36m_call_impl\u001b[0;34m(self, *input, **kwargs)\u001b[0m\n\u001b[1;32m   1100\u001b[0m         if not (self._backward_hooks or self._forward_hooks or self._forward_pre_hooks or _global_backward_hooks\n\u001b[1;32m   1101\u001b[0m                 or _global_forward_hooks or _global_forward_pre_hooks):\n\u001b[0;32m-> 1102\u001b[0;31m             \u001b[0;32mreturn\u001b[0m \u001b[0mforward_call\u001b[0m\u001b[0;34m(\u001b[0m\u001b[0;34m*\u001b[0m\u001b[0minput\u001b[0m\u001b[0;34m,\u001b[0m \u001b[0;34m**\u001b[0m\u001b[0mkwargs\u001b[0m\u001b[0;34m)\u001b[0m\u001b[0;34m\u001b[0m\u001b[0;34m\u001b[0m\u001b[0m\n\u001b[0m\u001b[1;32m   1103\u001b[0m         \u001b[0;31m# Do not call functions when jit is used\u001b[0m\u001b[0;34m\u001b[0m\u001b[0;34m\u001b[0m\u001b[0;34m\u001b[0m\u001b[0m\n\u001b[1;32m   1104\u001b[0m         \u001b[0mfull_backward_hooks\u001b[0m\u001b[0;34m,\u001b[0m \u001b[0mnon_full_backward_hooks\u001b[0m \u001b[0;34m=\u001b[0m \u001b[0;34m[\u001b[0m\u001b[0;34m]\u001b[0m\u001b[0;34m,\u001b[0m \u001b[0;34m[\u001b[0m\u001b[0;34m]\u001b[0m\u001b[0;34m\u001b[0m\u001b[0;34m\u001b[0m\u001b[0m\n",
      "\u001b[0;32m~/anaconda3/lib/python3.7/site-packages/stanza/models/ner/model.py\u001b[0m in \u001b[0;36mforward\u001b[0;34m(self, word, word_mask, wordchars, wordchars_mask, tags, word_orig_idx, sentlens, wordlens, chars, charoffsets, charlens, char_orig_idx)\u001b[0m\n\u001b[1;32m     99\u001b[0m         \u001b[0;32mif\u001b[0m \u001b[0mself\u001b[0m\u001b[0;34m.\u001b[0m\u001b[0margs\u001b[0m\u001b[0;34m[\u001b[0m\u001b[0;34m'char'\u001b[0m\u001b[0;34m]\u001b[0m \u001b[0;32mand\u001b[0m \u001b[0mself\u001b[0m\u001b[0;34m.\u001b[0m\u001b[0margs\u001b[0m\u001b[0;34m[\u001b[0m\u001b[0;34m'char_emb_dim'\u001b[0m\u001b[0;34m]\u001b[0m \u001b[0;34m>\u001b[0m \u001b[0;36m0\u001b[0m\u001b[0;34m:\u001b[0m\u001b[0;34m\u001b[0m\u001b[0;34m\u001b[0m\u001b[0m\n\u001b[1;32m    100\u001b[0m             \u001b[0;32mif\u001b[0m \u001b[0mself\u001b[0m\u001b[0;34m.\u001b[0m\u001b[0margs\u001b[0m\u001b[0;34m.\u001b[0m\u001b[0mget\u001b[0m\u001b[0;34m(\u001b[0m\u001b[0;34m'charlm'\u001b[0m\u001b[0;34m,\u001b[0m \u001b[0;32mNone\u001b[0m\u001b[0;34m)\u001b[0m\u001b[0;34m:\u001b[0m\u001b[0;34m\u001b[0m\u001b[0;34m\u001b[0m\u001b[0m\n\u001b[0;32m--> 101\u001b[0;31m                 \u001b[0mchar_reps_forward\u001b[0m \u001b[0;34m=\u001b[0m \u001b[0mself\u001b[0m\u001b[0;34m.\u001b[0m\u001b[0mcharmodel_forward\u001b[0m\u001b[0;34m.\u001b[0m\u001b[0mget_representation\u001b[0m\u001b[0;34m(\u001b[0m\u001b[0mchars\u001b[0m\u001b[0;34m[\u001b[0m\u001b[0;36m0\u001b[0m\u001b[0;34m]\u001b[0m\u001b[0;34m,\u001b[0m \u001b[0mcharoffsets\u001b[0m\u001b[0;34m[\u001b[0m\u001b[0;36m0\u001b[0m\u001b[0;34m]\u001b[0m\u001b[0;34m,\u001b[0m \u001b[0mcharlens\u001b[0m\u001b[0;34m,\u001b[0m \u001b[0mchar_orig_idx\u001b[0m\u001b[0;34m)\u001b[0m\u001b[0;34m\u001b[0m\u001b[0;34m\u001b[0m\u001b[0m\n\u001b[0m\u001b[1;32m    102\u001b[0m                 \u001b[0mchar_reps_forward\u001b[0m \u001b[0;34m=\u001b[0m \u001b[0mPackedSequence\u001b[0m\u001b[0;34m(\u001b[0m\u001b[0mchar_reps_forward\u001b[0m\u001b[0;34m.\u001b[0m\u001b[0mdata\u001b[0m\u001b[0;34m,\u001b[0m \u001b[0mchar_reps_forward\u001b[0m\u001b[0;34m.\u001b[0m\u001b[0mbatch_sizes\u001b[0m\u001b[0;34m)\u001b[0m\u001b[0;34m\u001b[0m\u001b[0;34m\u001b[0m\u001b[0m\n\u001b[1;32m    103\u001b[0m                 \u001b[0mchar_reps_backward\u001b[0m \u001b[0;34m=\u001b[0m \u001b[0mself\u001b[0m\u001b[0;34m.\u001b[0m\u001b[0mcharmodel_backward\u001b[0m\u001b[0;34m.\u001b[0m\u001b[0mget_representation\u001b[0m\u001b[0;34m(\u001b[0m\u001b[0mchars\u001b[0m\u001b[0;34m[\u001b[0m\u001b[0;36m1\u001b[0m\u001b[0;34m]\u001b[0m\u001b[0;34m,\u001b[0m \u001b[0mcharoffsets\u001b[0m\u001b[0;34m[\u001b[0m\u001b[0;36m1\u001b[0m\u001b[0;34m]\u001b[0m\u001b[0;34m,\u001b[0m \u001b[0mcharlens\u001b[0m\u001b[0;34m,\u001b[0m \u001b[0mchar_orig_idx\u001b[0m\u001b[0;34m)\u001b[0m\u001b[0;34m\u001b[0m\u001b[0;34m\u001b[0m\u001b[0m\n",
      "\u001b[0;32m~/anaconda3/lib/python3.7/site-packages/stanza/models/common/char_model.py\u001b[0m in \u001b[0;36mget_representation\u001b[0;34m(self, chars, charoffsets, charlens, char_orig_idx)\u001b[0m\n\u001b[1;32m     96\u001b[0m     \u001b[0;32mdef\u001b[0m \u001b[0mget_representation\u001b[0m\u001b[0;34m(\u001b[0m\u001b[0mself\u001b[0m\u001b[0;34m,\u001b[0m \u001b[0mchars\u001b[0m\u001b[0;34m,\u001b[0m \u001b[0mcharoffsets\u001b[0m\u001b[0;34m,\u001b[0m \u001b[0mcharlens\u001b[0m\u001b[0;34m,\u001b[0m \u001b[0mchar_orig_idx\u001b[0m\u001b[0;34m)\u001b[0m\u001b[0;34m:\u001b[0m\u001b[0;34m\u001b[0m\u001b[0;34m\u001b[0m\u001b[0m\n\u001b[1;32m     97\u001b[0m         \u001b[0;32mwith\u001b[0m \u001b[0mtorch\u001b[0m\u001b[0;34m.\u001b[0m\u001b[0mno_grad\u001b[0m\u001b[0;34m(\u001b[0m\u001b[0;34m)\u001b[0m\u001b[0;34m:\u001b[0m\u001b[0;34m\u001b[0m\u001b[0;34m\u001b[0m\u001b[0m\n\u001b[0;32m---> 98\u001b[0;31m             \u001b[0moutput\u001b[0m\u001b[0;34m,\u001b[0m \u001b[0m_\u001b[0m\u001b[0;34m,\u001b[0m \u001b[0m_\u001b[0m \u001b[0;34m=\u001b[0m \u001b[0mself\u001b[0m\u001b[0;34m.\u001b[0m\u001b[0mforward\u001b[0m\u001b[0;34m(\u001b[0m\u001b[0mchars\u001b[0m\u001b[0;34m,\u001b[0m \u001b[0mcharlens\u001b[0m\u001b[0;34m)\u001b[0m\u001b[0;34m\u001b[0m\u001b[0;34m\u001b[0m\u001b[0m\n\u001b[0m\u001b[1;32m     99\u001b[0m             \u001b[0mres\u001b[0m \u001b[0;34m=\u001b[0m \u001b[0;34m[\u001b[0m\u001b[0moutput\u001b[0m\u001b[0;34m[\u001b[0m\u001b[0mi\u001b[0m\u001b[0;34m,\u001b[0m \u001b[0moffsets\u001b[0m\u001b[0;34m]\u001b[0m \u001b[0;32mfor\u001b[0m \u001b[0mi\u001b[0m\u001b[0;34m,\u001b[0m \u001b[0moffsets\u001b[0m \u001b[0;32min\u001b[0m \u001b[0menumerate\u001b[0m\u001b[0;34m(\u001b[0m\u001b[0mcharoffsets\u001b[0m\u001b[0;34m)\u001b[0m\u001b[0;34m]\u001b[0m\u001b[0;34m\u001b[0m\u001b[0;34m\u001b[0m\u001b[0m\n\u001b[1;32m    100\u001b[0m             \u001b[0mres\u001b[0m \u001b[0;34m=\u001b[0m \u001b[0munsort\u001b[0m\u001b[0;34m(\u001b[0m\u001b[0mres\u001b[0m\u001b[0;34m,\u001b[0m \u001b[0mchar_orig_idx\u001b[0m\u001b[0;34m)\u001b[0m\u001b[0;34m\u001b[0m\u001b[0;34m\u001b[0m\u001b[0m\n",
      "\u001b[0;32m~/anaconda3/lib/python3.7/site-packages/stanza/models/common/char_model.py\u001b[0m in \u001b[0;36mforward\u001b[0;34m(self, chars, charlens, hidden)\u001b[0m\n\u001b[1;32m     89\u001b[0m             hidden = (self.charlstm_h_init.expand(self.args['char_num_layers'], batch_size, self.args['char_hidden_dim']).contiguous(),\n\u001b[1;32m     90\u001b[0m                       self.charlstm_c_init.expand(self.args['char_num_layers'], batch_size, self.args['char_hidden_dim']).contiguous())\n\u001b[0;32m---> 91\u001b[0;31m         \u001b[0moutput\u001b[0m\u001b[0;34m,\u001b[0m \u001b[0mhidden\u001b[0m \u001b[0;34m=\u001b[0m \u001b[0mself\u001b[0m\u001b[0;34m.\u001b[0m\u001b[0mcharlstm\u001b[0m\u001b[0;34m(\u001b[0m\u001b[0membs\u001b[0m\u001b[0;34m,\u001b[0m \u001b[0mcharlens\u001b[0m\u001b[0;34m,\u001b[0m \u001b[0mhx\u001b[0m\u001b[0;34m=\u001b[0m\u001b[0mhidden\u001b[0m\u001b[0;34m)\u001b[0m\u001b[0;34m\u001b[0m\u001b[0;34m\u001b[0m\u001b[0m\n\u001b[0m\u001b[1;32m     92\u001b[0m         \u001b[0moutput\u001b[0m \u001b[0;34m=\u001b[0m \u001b[0mself\u001b[0m\u001b[0;34m.\u001b[0m\u001b[0mdropout\u001b[0m\u001b[0;34m(\u001b[0m\u001b[0mpad_packed_sequence\u001b[0m\u001b[0;34m(\u001b[0m\u001b[0moutput\u001b[0m\u001b[0;34m,\u001b[0m \u001b[0mbatch_first\u001b[0m\u001b[0;34m=\u001b[0m\u001b[0;32mTrue\u001b[0m\u001b[0;34m)\u001b[0m\u001b[0;34m[\u001b[0m\u001b[0;36m0\u001b[0m\u001b[0;34m]\u001b[0m\u001b[0;34m)\u001b[0m\u001b[0;34m\u001b[0m\u001b[0;34m\u001b[0m\u001b[0m\n\u001b[1;32m     93\u001b[0m         \u001b[0mdecoded\u001b[0m \u001b[0;34m=\u001b[0m \u001b[0mself\u001b[0m\u001b[0;34m.\u001b[0m\u001b[0mdecoder\u001b[0m\u001b[0;34m(\u001b[0m\u001b[0moutput\u001b[0m\u001b[0;34m)\u001b[0m\u001b[0;34m\u001b[0m\u001b[0;34m\u001b[0m\u001b[0m\n",
      "\u001b[0;32m~/anaconda3/lib/python3.7/site-packages/torch/nn/modules/module.py\u001b[0m in \u001b[0;36m_call_impl\u001b[0;34m(self, *input, **kwargs)\u001b[0m\n\u001b[1;32m   1100\u001b[0m         if not (self._backward_hooks or self._forward_hooks or self._forward_pre_hooks or _global_backward_hooks\n\u001b[1;32m   1101\u001b[0m                 or _global_forward_hooks or _global_forward_pre_hooks):\n\u001b[0;32m-> 1102\u001b[0;31m             \u001b[0;32mreturn\u001b[0m \u001b[0mforward_call\u001b[0m\u001b[0;34m(\u001b[0m\u001b[0;34m*\u001b[0m\u001b[0minput\u001b[0m\u001b[0;34m,\u001b[0m \u001b[0;34m**\u001b[0m\u001b[0mkwargs\u001b[0m\u001b[0;34m)\u001b[0m\u001b[0;34m\u001b[0m\u001b[0;34m\u001b[0m\u001b[0m\n\u001b[0m\u001b[1;32m   1103\u001b[0m         \u001b[0;31m# Do not call functions when jit is used\u001b[0m\u001b[0;34m\u001b[0m\u001b[0;34m\u001b[0m\u001b[0;34m\u001b[0m\u001b[0m\n\u001b[1;32m   1104\u001b[0m         \u001b[0mfull_backward_hooks\u001b[0m\u001b[0;34m,\u001b[0m \u001b[0mnon_full_backward_hooks\u001b[0m \u001b[0;34m=\u001b[0m \u001b[0;34m[\u001b[0m\u001b[0;34m]\u001b[0m\u001b[0;34m,\u001b[0m \u001b[0;34m[\u001b[0m\u001b[0;34m]\u001b[0m\u001b[0;34m\u001b[0m\u001b[0;34m\u001b[0m\u001b[0m\n",
      "\u001b[0;32m~/anaconda3/lib/python3.7/site-packages/stanza/models/common/packed_lstm.py\u001b[0m in \u001b[0;36mforward\u001b[0;34m(self, input, lengths, hx)\u001b[0m\n\u001b[1;32m     20\u001b[0m             \u001b[0minput\u001b[0m \u001b[0;34m=\u001b[0m \u001b[0mpack_padded_sequence\u001b[0m\u001b[0;34m(\u001b[0m\u001b[0minput\u001b[0m\u001b[0;34m,\u001b[0m \u001b[0mlengths\u001b[0m\u001b[0;34m,\u001b[0m \u001b[0mbatch_first\u001b[0m\u001b[0;34m=\u001b[0m\u001b[0mself\u001b[0m\u001b[0;34m.\u001b[0m\u001b[0mbatch_first\u001b[0m\u001b[0;34m)\u001b[0m\u001b[0;34m\u001b[0m\u001b[0;34m\u001b[0m\u001b[0m\n\u001b[1;32m     21\u001b[0m \u001b[0;34m\u001b[0m\u001b[0m\n\u001b[0;32m---> 22\u001b[0;31m         \u001b[0mres\u001b[0m \u001b[0;34m=\u001b[0m \u001b[0mself\u001b[0m\u001b[0;34m.\u001b[0m\u001b[0mlstm\u001b[0m\u001b[0;34m(\u001b[0m\u001b[0minput\u001b[0m\u001b[0;34m,\u001b[0m \u001b[0mhx\u001b[0m\u001b[0;34m)\u001b[0m\u001b[0;34m\u001b[0m\u001b[0;34m\u001b[0m\u001b[0m\n\u001b[0m\u001b[1;32m     23\u001b[0m         \u001b[0;32mif\u001b[0m \u001b[0mself\u001b[0m\u001b[0;34m.\u001b[0m\u001b[0mpad\u001b[0m\u001b[0;34m:\u001b[0m\u001b[0;34m\u001b[0m\u001b[0;34m\u001b[0m\u001b[0m\n\u001b[1;32m     24\u001b[0m             \u001b[0mres\u001b[0m \u001b[0;34m=\u001b[0m \u001b[0;34m(\u001b[0m\u001b[0mpad_packed_sequence\u001b[0m\u001b[0;34m(\u001b[0m\u001b[0mres\u001b[0m\u001b[0;34m[\u001b[0m\u001b[0;36m0\u001b[0m\u001b[0;34m]\u001b[0m\u001b[0;34m,\u001b[0m \u001b[0mbatch_first\u001b[0m\u001b[0;34m=\u001b[0m\u001b[0mself\u001b[0m\u001b[0;34m.\u001b[0m\u001b[0mbatch_first\u001b[0m\u001b[0;34m)\u001b[0m\u001b[0;34m[\u001b[0m\u001b[0;36m0\u001b[0m\u001b[0;34m]\u001b[0m\u001b[0;34m,\u001b[0m \u001b[0mres\u001b[0m\u001b[0;34m[\u001b[0m\u001b[0;36m1\u001b[0m\u001b[0;34m]\u001b[0m\u001b[0;34m)\u001b[0m\u001b[0;34m\u001b[0m\u001b[0;34m\u001b[0m\u001b[0m\n",
      "\u001b[0;32m~/anaconda3/lib/python3.7/site-packages/torch/nn/modules/module.py\u001b[0m in \u001b[0;36m_call_impl\u001b[0;34m(self, *input, **kwargs)\u001b[0m\n\u001b[1;32m   1100\u001b[0m         if not (self._backward_hooks or self._forward_hooks or self._forward_pre_hooks or _global_backward_hooks\n\u001b[1;32m   1101\u001b[0m                 or _global_forward_hooks or _global_forward_pre_hooks):\n\u001b[0;32m-> 1102\u001b[0;31m             \u001b[0;32mreturn\u001b[0m \u001b[0mforward_call\u001b[0m\u001b[0;34m(\u001b[0m\u001b[0;34m*\u001b[0m\u001b[0minput\u001b[0m\u001b[0;34m,\u001b[0m \u001b[0;34m**\u001b[0m\u001b[0mkwargs\u001b[0m\u001b[0;34m)\u001b[0m\u001b[0;34m\u001b[0m\u001b[0;34m\u001b[0m\u001b[0m\n\u001b[0m\u001b[1;32m   1103\u001b[0m         \u001b[0;31m# Do not call functions when jit is used\u001b[0m\u001b[0;34m\u001b[0m\u001b[0;34m\u001b[0m\u001b[0;34m\u001b[0m\u001b[0m\n\u001b[1;32m   1104\u001b[0m         \u001b[0mfull_backward_hooks\u001b[0m\u001b[0;34m,\u001b[0m \u001b[0mnon_full_backward_hooks\u001b[0m \u001b[0;34m=\u001b[0m \u001b[0;34m[\u001b[0m\u001b[0;34m]\u001b[0m\u001b[0;34m,\u001b[0m \u001b[0;34m[\u001b[0m\u001b[0;34m]\u001b[0m\u001b[0;34m\u001b[0m\u001b[0;34m\u001b[0m\u001b[0m\n",
      "\u001b[0;32m~/anaconda3/lib/python3.7/site-packages/torch/nn/modules/rnn.py\u001b[0m in \u001b[0;36mforward\u001b[0;34m(self, input, hx)\u001b[0m\n\u001b[1;32m    693\u001b[0m         \u001b[0;32melse\u001b[0m\u001b[0;34m:\u001b[0m\u001b[0;34m\u001b[0m\u001b[0;34m\u001b[0m\u001b[0m\n\u001b[1;32m    694\u001b[0m             result = _VF.lstm(input, batch_sizes, hx, self._flat_weights, self.bias,\n\u001b[0;32m--> 695\u001b[0;31m                               self.num_layers, self.dropout, self.training, self.bidirectional)\n\u001b[0m\u001b[1;32m    696\u001b[0m         \u001b[0moutput\u001b[0m \u001b[0;34m=\u001b[0m \u001b[0mresult\u001b[0m\u001b[0;34m[\u001b[0m\u001b[0;36m0\u001b[0m\u001b[0;34m]\u001b[0m\u001b[0;34m\u001b[0m\u001b[0;34m\u001b[0m\u001b[0m\n\u001b[1;32m    697\u001b[0m         \u001b[0mhidden\u001b[0m \u001b[0;34m=\u001b[0m \u001b[0mresult\u001b[0m\u001b[0;34m[\u001b[0m\u001b[0;36m1\u001b[0m\u001b[0;34m:\u001b[0m\u001b[0;34m]\u001b[0m\u001b[0;34m\u001b[0m\u001b[0;34m\u001b[0m\u001b[0m\n",
      "\u001b[0;31mKeyboardInterrupt\u001b[0m: "
     ]
    }
   ],
   "source": [
    "from prep import *\n",
    "import nltk\n",
    "#nltk.download('wordnet')\n",
    "#nltk.download('punkt')\n",
    "from nltk.tokenize import RegexpTokenizer\n",
    "from nltk.stem.snowball import EnglishStemmer\n",
    "import stanza\n",
    "\n",
    "nlp = stanza.Pipeline(lang=\"en\", use_gpu= True)\n",
    "def lemmatize_text (text):\n",
    "    '''\n",
    "    :params:\n",
    "    text: input text\n",
    "    param1: stanza's language model\n",
    "    :return: list of token-lemma tuple for each token in text\n",
    "    '''\n",
    "\n",
    "    text_tokens_lemmas = []\n",
    "    doc = nlp(text)\n",
    "    tokens_lemmas = [(word.text, word.lemma) \\\n",
    "                     for sent in doc.sentences for word in sent.words]\n",
    "    for token_lemma in tokens_lemmas:\n",
    "        token = token_lemma[0]\n",
    "        lemma = token_lemma[1]\n",
    "        #print('{t}:{l}'.format(t=token, l=lemma))\n",
    "        if ('_' not in token) and (token != lemma) and (lemma != 'None'):\n",
    "            text_tokens_lemmas.append(token_lemma)\n",
    "\n",
    "    return text, text_tokens_lemmas\n",
    "\n",
    "task_names = task_names[:1000]\n",
    "start = time.time()\n",
    "names_tokens_lemmas = []\n",
    "print('analyzing {n} sentences'.format(n=len(task_names)))\n",
    "for index, name in enumerate(task_names):\n",
    "    print('name number ', index+1)\n",
    "    name = name.lower()\n",
    "    name, name_tokens_lemmas = lemmatize_text(name)\n",
    "    if name_tokens_lemmas:\n",
    "        print(30*'-')\n",
    "        #print('task name:               ', name)\n",
    "        print('tokens, different lemmas:', name_tokens_lemmas)\n",
    "        names_tokens_lemmas += name_tokens_lemmas\n",
    "end = time.time()\n",
    "print('duration=', end-start)"
   ]
  },
  {
   "cell_type": "code",
   "execution_count": 14,
   "metadata": {},
   "outputs": [
    {
     "name": "stdout",
     "output_type": "stream",
     "text": [
      "[('1,367', '1367'), ('cylinders', 'cylinder'), ('services', 'service'), ('4,277', '4277'), ('m.s', 'm.'), ('placing', 'place'), ('bridges', 'bridge'), ('parts', 'part'), ('utiltiies', 'utiltiy'), ('pre-drilling', 'pre-dril'), ('weeks', 'week'), ('2,608', '2608'), ('corridors', 'corridor'), ('approved', 'approve'), ('tunnelling', 'tunnel'), ('devices', 'device'), ('stairs', 'stair'), ('backs', 'back'), ('poured', 'pour'), ('pipes', 'pipe'), ('dismantling', 'dismantle'), ('risers', 'riser'), ('procedures', 'procedure'), ('accessories', 'accessory'), ('leading', 'lead'), ('1,292', '1292'), ('purchasing', 'purchase'), ('sams', 'sam'), ('26,322', '26322'), ('8,781', '8781'), ('i', 'I'), ('chartered', 'charter'), ('fixed', 'fix'), ('rms', 'rm'), ('running', 'run'), ('grating', 'grate'), ('1,130', '1130'), ('demolished', 'demolish'), ('5,052', '5052'), ('defects', 'defect'), ('2,076', '2076'), ('10,694', '10694'), ('repositioning', 'reposition'), ('1,560', '1560'), ('footing', 'foot'), ('bollards', 'bollard'), ('10,270', '10270'), ('hoarding', 'hoard'), ('2,330', '2330'), ('fitting', 'fit'), ('windows', 'window'), ('handing', 'hand'), ('8nos', '8no'), ('lower', 'low'), ('watermains', 'watermain'), ('changed', 'change'), ('saw', 'see'), ('ttms', 'ttm'), ('ladders', 'ladder'), ('weighbridges', 'weighbridge'), ('kerbs', 'kerb'), ('requirements', 'requirement'), ('�', \"''\"), ('foundations', 'foundation'), ('grouting', 'grout'), ('shum', 'Shum'), ('piles', 'pile'), ('1,205', '1205'), ('manufacturing', 'manufacture'), ('8,382', '8382'), ('1,029', '1029'), ('stiles', 'stile'), ('1,283', '1283'), ('10,191', '10191'), ('6,500', '6500'), ('�', 'at'), ('1,011', '1011'), ('backfilling', 'backfil'), ('roads', 'road'), ('1,110', '1110'), ('4,185', '4185'), ('leaving', 'leave'), ('props', 'prop'), ('plinths', 'plinth'), ('moorings', 'mooring'), ('trees', 'tree'), ('jumbos', 'jumbo'), ('holes', 'hole'), (\"poc's\", \"poc'\"), ('9,435', '9435'), ('9,247', '9247'), ('1,496', '1496'), ('approvals', 'approval'), ('climbers', 'climber'), ('1,372', '1372'), ('methods', 'method'), ('licences', 'licence'), ('penetrations', 'penetration'), ('tbms', 'tbm'), ('pulls', 'pull'), ('4,804', '4804'), ('rending', 'rend'), ('16,248', '16248'), ('lrs', 'lr'), ('pits', 'pit'), ('1,131', '1131'), ('closing', 'close'), ('1,443', '1443'), ('copping', 'cop'), ('stockpiling', 'stockpile'), ('sets', 'set'), ('lv', 'lve'), ('d-walls', 'd-wall'), ('ramps', 'ramp'), ('lobbies', 'lobby'), ('formworks', 'formwork'), ('5,890', '5890'), ('backfilled', 'backfill'), ('8,571', '8571'), ('groundcovers', 'groundcover'), ('extended', 'extend'), ('5,854', '5854'), ('1,974', '1974'), ('raking', 'rake'), ('tests', 'test'), ('components', 'component'), ('antiquities', 'antiquity'), ('trucks', 'truck'), ('blasts', 'blast'), ('4,976', '4976'), ('working', 'work'), ('3,510', '3510'), ('6,746', '6746'), ('leaks', 'leak'), ('surveying', 'survey'), ('enabling', 'enable'), ('f', 'for'), ('aquased', 'aquase'), ('bars', 'bar'), ('railing', 'rail'), ('5,250', '5250'), ('7,048', '7048'), ('3,032', '3032'), ('entrances', 'entrance'), ('docks', 'dock'), ('remaining', 'remain'), ('16,163', '16163'), ('completed', 'complete'), ('5,988', '5988'), ('crushing', 'crush'), ('ups', 'up'), ('enlarged', 'enlarge'), ('transplanted', 'transplant'), ('underpinning', 'underpin'), ('20nos', '20no'), ('designated', 'designate'), ('corbels', 'corbel'), ('signs', 'sign'), ('roadworks', 'roadwork'), ('12,348', '12348'), ('segments', 'segment'), ('wells', 'well'), ('checking', 'check'), ('sprayed', 'spray'), ('sides', 'side'), (\"'\", \"'s\"), ('sleeves', 'sleeve'), ('screeding', 'screed'), ('covers', 'cover'), ('mounted', 'mount'), ('energized', 'energize'), ('cells', 'cell'), ('monitoring', 'monitor'), ('arresting', 'arrest'), ('1,211', '1211'), ('confirmed', 'confirm'), ('buildings', 'building'), ('sidewalls', 'sidewall'), ('gaps', 'gap'), ('drwgs', 'drwg'), ('heads', 'head'), ('loading', 'load'), ('realigned', 'realign'), ('mods', 'mod'), ('rejected', 'reject'), ('3,289', '3289'), ('bolts', 'bolt'), ('built', 'build'), ('installed', 'install'), ('shrubs', 'shrub'), ('interventions', 'intervention'), ('9,250', '9250'), ('22nos', '22no'), ('14,679', '14679'), ('offices', 'office'), ('2,190', '2190'), ('incidents', 'incident'), ('erecitng', 'erece'), ('4,157', '4157'), ('hoses', 'hose'), ('2,993', '2993'), ('29,272', '29272'), ('3,398', '3398'), ('erected', 'erect'), ('rising', 'rise'), ('implemen', 'impleman'), ('7,340', '7340'), ('mini-piles', 'mini-pile'), ('boards', 'board'), ('5,544', '5544'), ('closed', 'close'), ('21,003', '21003'), ('drillholes', 'drillhole'), ('equipments', 'equipment'), ('drilling', 'drill'), ('walkways', 'walkway'), ('cranes', 'crane'), ('jacking', 'jack'), ('4,621', '4621'), ('passages', 'passage'), ('workshops', 'workshop'), ('opeings', 'opeing'), ('manuals', 'manual'), ('exited', 'exit'), ('assumed', 'assume'), ('1,332', '1332'), ('1.7,1.8', '1.71.8'), ('5nos', 'Fno'), ('blockwalls', 'blockwall'), ('s47a', 'S47a'), ('6,910', '6910'), ('4nos', 'Jno'), ('levels', 'level'), ('5,133', '5133'), ('deleted', 'delete'), ('locating', 'locate'), ('23,628', '23628'), ('capping', 'cap'), ('16,447', '16447'), ('rings', 'ring'), ('bracing', 'brace'), ('metalworks', 'metalwork'), ('1,033', '1033'), ('samples', 'sample'), ('putting', 'put'), ('pavements', 'pavement'), ('passed', 'pass'), ('rockdowels', 'rockdowel'), ('piling', 'pile'), ('blasting', 'blast'), ('completing', 'complete'), ('p7e', 'L7e'), ('submissions', 'submission'), ('earthworks', 'earthwork'), ('protected', 'protect'), ('trimming', 'trim'), ('8,310', '8310'), ('facilities', 'facility'), ('nails', 'nail'), ('13,914', '13914'), ('12,864', '12864'), ('procured', 'procure'), ('wokrs', 'wokr'), ('zones', 'zone'), ('3nos', '3no'), ('plans', 'plan'), ('withing', 'with'), ('damaged', 'damage'), ('casing', 'case'), ('ducts', 'duct'), ('systems', 'system'), ('fishers', 'fisher'), ('checks', 'check'), ('fixing', 'fix'), ('taking', 'take'), ('kickers', 'kicker'), ('graphics', 'graphic'), ('pumps', 'pump'), ('17,110', '17110'), ('shafts', 'shaft'), ('u-channels', 'u-channel'), ('measures', 'measure'), ('skips', 'skip'), ('10,834', '10834'), ('louvers', 'louver'), ('structures', 'structure'), ('7,671', '7671'), ('proposals', 'proposal'), ('pressures', 'pressure'), ('acces', 'acce'), ('obstructions', 'obstruction'), ('dates', 'date'), ('borne', 'bear'), ('customs', 'custom'), ('coulumns', 'coulumn'), ('wallings', 'walling'), ('listed', 'list'), ('haking', 'hake'), ('auxiliaries', 'auxiliary'), ('strutting', 'strut'), ('barettes', 'barette'), ('expected', 'expect'), ('1,232', '1232'), ('s', \"'s\"), ('14,446', '14446'), ('works', 'work'), ('wkys', 'wky'), ('prepared', 'prepare'), ('vents', 'vent'), ('6,967', '6967'), ('pending', 'pend'), ('kurbs', 'kurb'), ('barging', 'barge'), ('months', 'month'), ('cp07', 'Cp07'), ('markers', 'marker'), ('8,124', '8124'), ('barrettes', 'barrette'), ('celing', 'cele'), ('records', 'record'), ('plugged', 'plugge'), ('switchrooms', 'switchroom'), ('pumping', 'pump'), ('modifications', 'modification'), ('8,900', '8900'), ('posses', 'poss'), ('associated', 'associate'), ('eyes', 'eye'), ('locks', 'lock'), ('5,561', '5561'), ('7,792', '7792'), ('bldgs', 'bldg'), ('moving', 'move'), ('1,213', '1213'), ('gullies', 'gully'), ('filling', 'fill'), ('lhs', 'lh'), ('others', 'other'), ('ug', 'be'), ('tiles', 'tile'), ('availed', 'avail'), ('1,711', '1711'), ('rated', 'rate'), ('reversing', 'reverse'), ('specified', 'specify'), ('including', 'include'), ('assignments', 'assignment'), ('3,283', '3283'), ('strutts', 'strutt'), ('removed', 'remove'), ('covered', 'cover'), ('locations', 'location'), ('instruments', 'instrument'), ('sheets', 'sheet'), ('attempts', 'attempt'), ('days', 'day'), ('sealing', 'seal'), ('drawpits', 'drawpit'), ('those', 'that'), ('openings', 'opening'), ('paving', 'pave'), ('panels', 'panel'), (\"'n\", 'and'), ('supplied', 'supply'), ('designs', 'design'), ('contractors', 'contractor'), ('3,404', '3404'), ('finishings', 'finishing'), ('mauls', 'maul'), ('1,140', '1140'), ('determining', 'determine'), ('achieved', 'achieve'), ('materials', 'material'), ('lifting', 'lift'), ('brackets', 'bracket'), ('tunnels', 'tunnel'), ('struts', 'strut'), ('galvanised', 'galvanise'), ('voids', 'void'), ('cables', 'cable'), ('stepped', 'step'), ('ending', 'end'), ('painting', 'paint'), ('10,781', '10781'), ('valves', 'valve'), (\"w/dc's\", \"w/dc'\"), ('vehicles', 'vehicle'), ('1,371', '1371'), ('building', 'build'), ('games', 'game'), ('coord', 'Coord'), ('affected', 'affect'), ('2,426', '2426'), ('1,812', '1812'), ('18,027', '18027'), ('are', 'be'), ('15,720', '15720'), ('conditions', 'condition'), ('conduits', 'conduit'), ('an', 'a'), ('following', 'follow'), ('endorsed', 'endorse'), ('lagging', 'lag'), ('3,522', '3522'), ('7,001', '7001'), ('overlapping', 'overlap'), ('2,022', '2022'), ('replaces', 'replace'), ('contolling', 'contol'), ('docs', 'doc'), ('gates', 'gate'), ('drivers', 'driver'), ('blinding', 'blind'), ('suspended', 'suspend'), ('runs', 'run'), ('1,957', '1957'), ('11,904', '11904'), ('1,264', '1264'), ('receiving', 'receive'), ('finishes', 'finish'), ('23,180', '23180'), ('plan&programming', 'plan&programm'), ('8,666', '8666'), ('platforms', 'platform'), ('ribs', 'rib'), ('sliding', 'slide'), ('shutters', 'shutter'), ('4,877', '4877'), ('2,224', '2224'), ('ca', 'can'), ('staircases', 'staircase'), ('4,632', '4632'), ('i.s.', 'I.s.'), ('g', 'gram'), ('3,408', '3408'), ('modified', 'modify'), ('strutures', 'struture'), ('ties', 'tie'), ('25,688', '25688'), ('thru', 'through'), ('wk@s', 'wk@'), ('beams', 'beam'), ('slewed', 'slew'), ('cutting', 'cut'), ('caps', 'cap'), ('lands', 'land'), ('1,057', '1057'), ('cp87', 'Cp87'), ('preparations', 'preparation'), ('rooms', 'room'), ('2,166', '2166'), ('opening', 'open'), ('using', 'use'), ('barriers', 'barrier'), ('4,421', '4421'), ('founding', 'found'), ('350,000', '350000'), ('pedestrians', 'pedestrian'), ('1,090', '1090'), ('blocks', 'block'), ('3,536', '3536'), ('waling', 'wale'), ('tools', 'tool'), ('launching', 'launch'), ('curing', 'cure'), ('pulling', 'pull'), ('cleaning', 'clean'), ('10,048', '10048'), ('n', 'not'), ('drainages', 'drainage'), ('tecs', 'tec'), ('audits', 'audit'), ('sleepers', 'sleeper'), ('rhs', 'rh'), ('frames', 'frame'), ('ebs', 'eb'), ('dia.gas', 'dia.ga'), ('10,118', '10118'), ('socketed', 'socket'), ('mucking', 'muck'), ('7,351', '7351'), ('12,760', '12760'), ('clearing', 'clear'), ('calculations', 'calculation'), ('options', 'option'), ('remedials', 'remedial'), ('controlling', 'control'), ('cleared', 'clear'), ('2nos', '2no'), ('lights', 'light'), ('commencing', 'commence'), ('1,400', '1400'), ('excavators', 'excavator'), ('furnitures', 'furniture'), ('applications', 'application'), ('latest', 'late'), ('wp+bs+columns', 'wp+bs+column'), ('temp.rising', 'temp.rise'), ('subjected', 'subject'), ('3,422', '3422'), ('explosives', 'explosive'), ('drains', 'drain'), ('points', 'point'), ('1,346', '1346'), ('companies', 'company'), ('stated', 'state'), ('min', 'minute'), ('sleeper', 'sleep'), ('1,405', '1405'), ('logistics', 'logistic'), ('appointed', 'appoint'), ('excluding', 'exclude'), ('diversions', 'diversion'), ('rails', 'rail'), ('10nos', '10no'), ('breaking', 'break'), ('1,432', '1432'), ('connections', 'connection'), ('5,811', '5811'), ('bound', 'bind'), ('authorities', 'authority'), ('wan', 'want'), ('containers', 'container'), ('slopes', 'slope'), ('6,643', '6643'), ('fins', 'fin'), ('spanned', 'span'), ('km', 'kilometer'), ('specifications', 'specification'), ('revised', 'revise'), ('8,485', '8485'), ('fro', 'for'), ('may', 'May'), ('mats', 'mat'), ('splitting', 'split'), ('prebored', 'prebor'), ('units', 'unit'), ('heading', 'head'), ('signals', 'signal'), ('30,903', '30903'), ('skirting', 'skirt'), ('erecting', 'erect'), ('sms', 'sm'), ('tanks', 'tank'), ('schemes', 'scheme'), ('indicated', 'indicate'), ('stations', 'station'), ('11,571', '11571'), ('repeated', 'repeat'), ('footings', 'footing'), ('bays', 'bay'), ('manholes', 'manhole'), ('fittings', 'fitting'), ('left', 'leave'), ('obtained', 'obtain'), ('his', 'he'), ('utilities', 'utility'), ('cedd', 'ced'), ('stillages', 'stillage'), ('6,782', '6782'), ('concreting', 'concrete'), ('w', 'with'), ('completes', 'complete'), ('rolling', 'roll'), ('5,440', '5440'), ('turning', 'turn'), ('mains', 'main'), ('2,629', '2629'), ('250,000', '250000'), ('nibs', 'nib'), ('required', 'require'), ('cars', 'car'), ('12,158', '12158'), ('ancillaries', 'ancillary'), ('3,450', '3450'), ('earliest', 'early'), ('7,753', '7753'), ('12,038', '12038'), ('re-propping', 're-prop'), ('cabes', 'cabe'), ('coridors', 'coridor'), ('communications', 'communication'), ('backfillling', 'backfillle'), ('d/t', 'det'), ('retaining', 'retain'), ('woks', 'wok'), ('1,409', '1409'), ('hr', 'hour'), ('channels', 'channel'), ('sealed', 'seal'), ('footbridges', 'footbridge'), ('r', 'be'), ('falseworks', 'falsework'), ('existing', 'exist'), ('accesss', 'access'), ('issued', 'issue'), ('walls', 'wall'), ('trials', 'trial'), ('commissioning', 'commission'), ('marking', 'mark'), ('undrained', 'undrain'), ('their', 'they'), ('waterproofing', 'waterproof'), ('substations', 'substation'), ('pours', 'pour'), ('ta', 'to'), ('hoardings', 'hoarding'), ('kc', 'KC'), ('agreed', 'agree'), ('gathered', 'gather'), ('adn', 'and'), ('ends', 'end'), ('freezing', 'freeze'), ('reinforced', 'reinforce'), ('curved', 'curve'), ('fishponds', 'fishpond'), ('2,320', '2320'), ('assigned', 'assign'), ('inspections', 'inspection'), ('1,341', '1341'), ('mines', 'mine'), ('moulds', 'mould'), ('advise', 'advice'), ('compressed', 'compress'), ('h-piles', 'h-pile'), ('2,627', '2627'), ('8,785', '8785'), ('ln1', 'lno'), ('adits', 'adit'), ('permits', 'permit'), ('gauging', 'gauge'), ('encountered', 'encounter'), ('forms', 'form'), ('lifts', 'lift'), ('1,618', '1618'), ('wks', 'wk'), ('dividing', 'divide'), ('has', 'have'), ('28,892', '28892'), ('fans', 'fan'), ('mixed', 'mix'), ('mps', 'mp'), ('7,699', '7699'), ('details', 'detail'), ('colunms', 'colunm'), ('a-', 'a'), ('drawings', 'drawing'), ('diverted', 'divert'), ('items', 'item'), ('setting', 'set'), ('operations', 'operation'), ('junctions', 'junction'), ('laying', 'lay'), ('drives', 'drive'), ('1,750', '1750'), ('panel�etc', 'aanelyetc'), ('landing', 'land'), ('proposed', 'propose'), ('spiles', 'spile'), ('1,404', '1404'), ('5,186', '5186'), ('planned', 'plan'), ('s47', 'S47'), ('enclosing', 'enclose'), ('jacks', 'jack'), ('2,566', '2566'), ('fences', 'fence'), ('13,145', '13145'), ('24hrs', '24hr'), ('2sets', '2set'), ('nozzels', 'nozzel'), ('1,058', '1058'), ('8,100', '8100'), ('endosed', 'endose'), ('features', 'feature'), ('8,192', '8192'), ('placed', 'place'), ('corrugated', 'corrugate'), ('3,050', '3050'), ('dwgs', 'dwg'), ('reviewed', 'review'), ('gantries', 'gantry'), ('1,150', '1150'), ('tracks', 'track'), ('7,481', '7481'), ('finishing', 'finish'), ('columns', 'column'), ('resubmitted', 'resubmit'), ('layouts', 'layout'), ('doors', 'door'), ('areas', 'area'), ('bracings', 'bracing'), ('shown', 'show'), ('shifting', 'shift'), ('nozzles', 'nozzle'), ('comments', 'comment'), ('electrics', 'electric'), ('been', 'be'), ('contaminated', 'contaminate'), ('resources', 'resource'), ('anticipated', 'anticipate'), ('drawing', 'draw'), ('els', 'el'), ('19,296', '19296'), ('1,015', '1015'), ('plants', 'plant'), ('trenches', 'trench'), ('rigs', 'rig'), ('na', 'to'), ('scaffolding', 'scaffold'), ('slabs', 'slab'), ('bearing', 'bear'), ('2,735', '2735'), ('dismantled', 'dismantle'), ('hydroseed', 'hydrose'), ('granted', 'grant'), ('levelling', 'level'), ('w/', 'with')]\n"
     ]
    }
   ],
   "source": [
    "unique_tokens_lemas = list(set(names_tokens_lemmas)) \n",
    "print(unique_tokens_lemas)"
   ]
  },
  {
   "cell_type": "markdown",
   "metadata": {},
   "source": [
    "# Observations\n",
    "### Calculation Duration\n",
    "Lemmatizing all sentences takes a long time (40 minutes and running)\n",
    "\n",
    "### Results  \n",
    "1. Verbs: Lemmas appear to be useful to normalize inflections:  \n",
    "'specified', 'specify'; 'designated', 'designate'; 'built', 'build'    \n",
    "2. Nouns: Plural form lemmas may be misleading as the plural form may indicate a significant difference in work load:   \n",
    "'tunnels' -> 'tunnel', 'gates' -> 'gate', 'wkys', 'wky'  \n",
    "<font color='red'>! Lemmatization or another process to distinguish plural from singular forms may be useful to identify dissimilarities between tasks </font>   \n",
    "difflib.ndiff may also be useful to distinguish plural from singular forms: https://stackoverflow.com/questions/17904097/python-difference-between-two-strings/17904977"
   ]
  },
  {
   "cell_type": "code",
   "execution_count": null,
   "metadata": {},
   "outputs": [],
   "source": []
  }
 ],
 "metadata": {
  "kernelspec": {
   "display_name": "Python 3",
   "language": "python",
   "name": "python3"
  },
  "language_info": {
   "codemirror_mode": {
    "name": "ipython",
    "version": 3
   },
   "file_extension": ".py",
   "mimetype": "text/x-python",
   "name": "python",
   "nbconvert_exporter": "python",
   "pygments_lexer": "ipython3",
   "version": "3.7.6"
  }
 },
 "nbformat": 4,
 "nbformat_minor": 4
}
