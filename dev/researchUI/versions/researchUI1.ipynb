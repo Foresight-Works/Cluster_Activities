{
 "cells": [
  {
   "cell_type": "code",
   "execution_count": 33,
   "metadata": {},
   "outputs": [],
   "source": [
    "from IPython.display import display, HTML, clear_output\n",
    "import ipywidgets as widgets\n",
    "from ipywidgets import interact, interactive, fixed, Layout, HBox, VBox\n",
    "import pandas as pd\n",
    "import time\n",
    "import re\n",
    "import os\n",
    "import sys\n",
    "import requests\n",
    "import subprocess\n",
    "import numpy as np\n",
    "data_dir = './data/experiments'\n",
    "data_files = [' '] + os.listdir(data_dir)\n",
    "\n",
    "# Widget styles\n",
    "default = (data_files[0], ' ')\n",
    "style = {'description_width': 'initial'}\n",
    "features_layout = {'width': 'max-content','height':'200px'}\n",
    "\n",
    "# Drop Down menues\n",
    "file_dd=widgets.SelectMultiple(options=data_files,value=default,\n",
    "    description='File:',style=style,layout=features_layout)\n",
    "\n",
    "# Run buttons\n",
    "button = widgets.Button(description = \"Run\",style=style)\n",
    "button.style.button_color = 'lightgreen'\n",
    "\n",
    "url = 'http://127.0.0.01:6002/cluster_analysis/api/v0.1/clustering'\n",
    "def run_service(b):\n",
    "    file = file_dd.value[0]\n",
    "    if file == ' ':\n",
    "        print('No file selected')\n",
    "    else:\n",
    "        data_path = os.path.join(data_dir, file)\n",
    "        files = {'file': open(data_path, 'rb')}\n",
    "        response = requests.post(url, files=files)\n",
    "        response = response.json()\n",
    "        np.save('response.npy', response)\n",
    "\n",
    "out = widgets.Output() \n",
    "#@out.capture(clear_output=True)\n",
    "def print_results(b):\n",
    "    #clear_output()\n",
    "    cluster_key = clusters_keys_dd.value[0]\n",
    "    if cluster_key == ' ':\n",
    "        print('No key selected')\n",
    "    else:\n",
    "        response = np.load('response.npy', allow_pickle=True)[()]\n",
    "        clusters_keys = list(response.keys())\n",
    "        sep_length = len(cluster_key)+5 \n",
    "        print(sep_length*'=')\n",
    "        print('key:',cluster_key)\n",
    "        print(sep_length*'-')\n",
    "        names = list(response[cluster_key])\n",
    "        for name in names: print(name)"
   ]
  },
  {
   "cell_type": "code",
   "execution_count": 34,
   "metadata": {
    "scrolled": false
   },
   "outputs": [
    {
     "data": {
      "text/html": [
       "<h1 style=\"color:magenta\">Cluster Activities</h1>              <p style=\"color:blue\">Use to following menus to submit a file for analysis:</p>                 <ul>                  <li style=\"color:magenta\">File</li>                  <li style=\"color:magenta\">Tune Metrics Weights</li>                  <li style=\"color:magenta\">Another Field</li>                </ul>"
      ],
      "text/plain": [
       "<IPython.core.display.HTML object>"
      ]
     },
     "metadata": {},
     "output_type": "display_data"
    },
    {
     "data": {
      "application/vnd.jupyter.widget-view+json": {
       "model_id": "b0f58e131bc6492eaf8d2eda97ae7bb8",
       "version_major": 2,
       "version_minor": 0
      },
      "text/plain": [
       "HBox(children=(SelectMultiple(description='File:', index=(0, 0), layout=Layout(height='200px', width='max-cont…"
      ]
     },
     "metadata": {},
     "output_type": "display_data"
    }
   ],
   "source": [
    "# Dashboard\n",
    "output = widgets.Output()\n",
    "button.on_click(run_service)\n",
    "display(HTML('<h1 style=\"color:magenta\">Cluster Activities</h1>\\\n",
    "              <p style=\"color:blue\">Use to following menus to submit a file for analysis:</p>\\\n",
    "                 <ul>\\\n",
    "                  <li style=\"color:magenta\">File</li>\\\n",
    "                  <li style=\"color:magenta\">Tune Metrics Weights</li>\\\n",
    "                  <li style=\"color:magenta\">Another Field</li>\\\n",
    "                </ul>'))\n",
    "HBox(children=[file_dd, button])"
   ]
  },
  {
   "cell_type": "code",
   "execution_count": 31,
   "metadata": {},
   "outputs": [
    {
     "data": {
      "application/vnd.jupyter.widget-view+json": {
       "model_id": "8d9a6d44c20447cb8a5ecebb7cba2aeb",
       "version_major": 2,
       "version_minor": 0
      },
      "text/plain": [
       "HBox(children=(SelectMultiple(description='Clusters Keys:', index=(0, 0), layout=Layout(height='200px', width=…"
      ]
     },
     "metadata": {},
     "output_type": "display_data"
    }
   ],
   "source": [
    "response = np.load('response.npy', allow_pickle=True)[()]\n",
    "clusters_keys = [' '] + list(response.keys())\n",
    "default = (clusters_keys[0], ' ')\n",
    "clusters_keys_dd=widgets.SelectMultiple(options=clusters_keys, value=default,\n",
    "    description='Clusters Keys:',style=style,layout=features_layout)\n",
    "\n",
    "# Run buttons\n",
    "button = widgets.Button(description = \"Run\",style=style)\n",
    "button.style.button_color = 'lightgreen'\n",
    "\n",
    "output = widgets.Output()\n",
    "button.on_click(print_results)\n",
    "HBox(children=[clusters_keys_dd, button])"
   ]
  },
  {
   "cell_type": "code",
   "execution_count": 32,
   "metadata": {},
   "outputs": [
    {
     "data": {
      "text/html": [
       "<script>\n",
       "code_show=true; \n",
       "function code_toggle() {\n",
       " if (code_show){\n",
       " $('div.input').hide();\n",
       " } else {\n",
       " $('div.input').show();\n",
       " }\n",
       " code_show = !code_show\n",
       "} \n",
       "$( document ).ready(code_toggle);\n",
       "</script>\n",
       "The raw code for this IPython notebook is by default hidden for easier reading.\n",
       "To toggle on/off the raw code, click <a href=\"javascript:code_toggle()\">here</a>."
      ],
      "text/plain": [
       "<IPython.core.display.HTML object>"
      ]
     },
     "execution_count": 32,
     "metadata": {},
     "output_type": "execute_result"
    }
   ],
   "source": [
    "HTML('''<script>\n",
    "code_show=true; \n",
    "function code_toggle() {\n",
    " if (code_show){\n",
    " $('div.input').hide();\n",
    " } else {\n",
    " $('div.input').show();\n",
    " }\n",
    " code_show = !code_show\n",
    "} \n",
    "$( document ).ready(code_toggle);\n",
    "</script>\n",
    "The raw code for this IPython notebook is by default hidden for easier reading.\n",
    "To toggle on/off the raw code, click <a href=\"javascript:code_toggle()\">here</a>.''')"
   ]
  },
  {
   "cell_type": "code",
   "execution_count": null,
   "metadata": {},
   "outputs": [],
   "source": []
  },
  {
   "cell_type": "code",
   "execution_count": null,
   "metadata": {},
   "outputs": [],
   "source": []
  }
 ],
 "metadata": {
  "kernelspec": {
   "display_name": "Python 3 (ipykernel)",
   "language": "python",
   "name": "python3"
  },
  "language_info": {
   "codemirror_mode": {
    "name": "ipython",
    "version": 3
   },
   "file_extension": ".py",
   "mimetype": "text/x-python",
   "name": "python",
   "nbconvert_exporter": "python",
   "pygments_lexer": "ipython3",
   "version": "3.9.7"
  }
 },
 "nbformat": 4,
 "nbformat_minor": 2
}
